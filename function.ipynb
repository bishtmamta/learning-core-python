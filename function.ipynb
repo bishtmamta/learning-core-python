{
 "cells": [
  {
   "cell_type": "markdown",
   "id": "fbe55d74-407b-4933-9422-e6bfeffa6e67",
   "metadata": {},
   "source": [
    "### 1)function= block of cord name\n",
    "### 2)function use=function name->call(function name)"
   ]
  },
  {
   "cell_type": "code",
   "execution_count": 1,
   "id": "23982fec-5058-4e2c-a277-d1e2b882811f",
   "metadata": {},
   "outputs": [
    {
     "name": "stdout",
     "output_type": "stream",
     "text": [
      "Greeting from VijAi Robotic!\n"
     ]
    }
   ],
   "source": [
    "print(\"Greeting from VijAi Robotic!\")\n"
   ]
  },
  {
   "cell_type": "code",
   "execution_count": 9,
   "id": "83051f7e-af73-43b1-ab4e-1bbf40136d3b",
   "metadata": {},
   "outputs": [],
   "source": [
    "# def function_name (parameter1,perameter2,perameter3,...)\n",
    "\n",
    "def greet():\n",
    "    print(\"Greeting from VijAi Robotic!\")"
   ]
  },
  {
   "cell_type": "code",
   "execution_count": 3,
   "id": "a2a5f495-a863-4a1b-981e-97093ca9ef26",
   "metadata": {},
   "outputs": [
    {
     "name": "stdout",
     "output_type": "stream",
     "text": [
      "Greeting from VijAi Robotic!\n"
     ]
    }
   ],
   "source": [
    "greet()"
   ]
  },
  {
   "cell_type": "code",
   "execution_count": 4,
   "id": "1fc1d1d9-0c98-44e1-9a4e-4c20ceea68dc",
   "metadata": {},
   "outputs": [
    {
     "name": "stdout",
     "output_type": "stream",
     "text": [
      "Welcome priyanshu\n",
      "Greeting from VijAi Robotic!\n",
      "Welcome shreya\n",
      "Greeting from VijAi Robotic\n",
      "welcome mayank\n",
      "Greeting from VijAi Robotic\n"
     ]
    }
   ],
   "source": [
    "name1=\"priyanshu\"\n",
    "name2=\"shreya\"\n",
    "name3=\"mayank\"\n",
    "print(\"Welcome\",name1)\n",
    "print(\"Greeting from VijAi Robotic!\")\n",
    "print(\"Welcome\",name2)\n",
    "print(\"Greeting from VijAi Robotic\")\n",
    "print(\"welcome\",name3)\n",
    "print(\"Greeting from VijAi Robotic\")"
   ]
  },
  {
   "cell_type": "code",
   "execution_count": 5,
   "id": "dbfad0b6-04d1-432e-a51d-a5ad0e554f33",
   "metadata": {},
   "outputs": [
    {
     "name": "stdout",
     "output_type": "stream",
     "text": [
      "Welcome priyanshu\n",
      "Greeting from VijAi Robotic!\n",
      "Welcome shreya\n",
      "Greeting from VijAi Robotic!\n",
      "Welcome mayank\n",
      "Greeting from VijAi Robotic!\n"
     ]
    }
   ],
   "source": [
    "name1=\"priyanshu\"\n",
    "name2=\"shreya\"\n",
    "name3=\"mayank\"\n",
    "\n",
    "print(\"Welcome\",name1)\n",
    "greet()\n",
    "print(\"Welcome\",name2)\n",
    "greet()\n",
    "print(\"Welcome\",name3)\n",
    "greet()"
   ]
  },
  {
   "cell_type": "code",
   "execution_count": 6,
   "id": "56a5a595-cea7-445b-99f3-8281258a4b4d",
   "metadata": {},
   "outputs": [
    {
     "name": "stdout",
     "output_type": "stream",
     "text": [
      "Welcome priyanshu\n",
      "Greeting from VijAi Robotic!\n",
      "Welcome shreya\n",
      "Greeting from VijAi Robotic!\n",
      "Welcome mayank\n",
      "Greeting from VijAi Robotic!\n"
     ]
    }
   ],
   "source": [
    "def greet_student(name):\n",
    "    print(\"Welcome\",name)\n",
    "    print(\"Greeting from VijAi Robotic!\")\n",
    "\n",
    "greet_student(name1)\n",
    "greet_student(name2)\n",
    "greet_student(name3)"
   ]
  },
  {
   "cell_type": "code",
   "execution_count": 7,
   "id": "6bc48c02-5860-4838-8711-6c171e6896fb",
   "metadata": {},
   "outputs": [
    {
     "name": "stdout",
     "output_type": "stream",
     "text": [
      "Welcome Nishi\n",
      "Greeting from VijAi Robotic!\n"
     ]
    }
   ],
   "source": [
    "greet_student(\"Nishi\")"
   ]
  },
  {
   "cell_type": "code",
   "execution_count": 10,
   "id": "53e4fbd8-0b93-4e1d-bf07-53defc0385c9",
   "metadata": {},
   "outputs": [
    {
     "data": {
      "text/plain": [
       "<function __main__.greet_student(name)>"
      ]
     },
     "execution_count": 10,
     "metadata": {},
     "output_type": "execute_result"
    }
   ],
   "source": [
    "greet_student\n"
   ]
  },
  {
   "cell_type": "code",
   "execution_count": 11,
   "id": "157be836-e454-4373-a45d-2a20f9a631f9",
   "metadata": {},
   "outputs": [],
   "source": [
    "def greet_my_friends(name):\n",
    "    print(\"wecome\",name)\n",
    "\n",
    "    "
   ]
  },
  {
   "cell_type": "code",
   "execution_count": 12,
   "id": "208180bc-ced4-43e4-be5e-d9a56fe2d82c",
   "metadata": {},
   "outputs": [
    {
     "name": "stdout",
     "output_type": "stream",
     "text": [
      "welcome payal\n",
      "welcome arti\n",
      "welcome preeti\n",
      "welcome bhumi\n"
     ]
    }
   ],
   "source": [
    "name1=(\"payal\")\n",
    "name2=(\"arti\")\n",
    "name3=(\"preeti\")\n",
    "name4=(\"bhumi\")\n",
    "\n",
    "\n",
    "print(\"welcome\",name1)\n",
    "print(\"welcome\",name2)\n",
    "print(\"welcome\",name3)\n",
    "print(\"welcome\",name4)"
   ]
  },
  {
   "cell_type": "code",
   "execution_count": 1,
   "id": "07fc70cd-c7ad-417c-8aea-a12cfa2cafc6",
   "metadata": {},
   "outputs": [
    {
     "ename": "TypeError",
     "evalue": "type() takes 1 or 3 arguments",
     "output_type": "error",
     "traceback": [
      "\u001b[1;31m---------------------------------------------------------------------------\u001b[0m",
      "\u001b[1;31mTypeError\u001b[0m                                 Traceback (most recent call last)",
      "Cell \u001b[1;32mIn[1], line 1\u001b[0m\n\u001b[1;32m----> 1\u001b[0m \u001b[38;5;28mtype\u001b[39m()\n",
      "\u001b[1;31mTypeError\u001b[0m: type() takes 1 or 3 arguments"
     ]
    }
   ],
   "source": [
    "type()"
   ]
  },
  {
   "cell_type": "code",
   "execution_count": 2,
   "id": "0b0f26d0-7c87-4262-a54f-1b5c1e2a37db",
   "metadata": {},
   "outputs": [
    {
     "ename": "NameError",
     "evalue": "name 'mamta' is not defined",
     "output_type": "error",
     "traceback": [
      "\u001b[1;31m---------------------------------------------------------------------------\u001b[0m",
      "\u001b[1;31mNameError\u001b[0m                                 Traceback (most recent call last)",
      "Cell \u001b[1;32mIn[2], line 3\u001b[0m\n\u001b[0;32m      1\u001b[0m \u001b[38;5;28;01mdef\u001b[39;00m\u001b[38;5;250m \u001b[39m\u001b[38;5;21mgreet\u001b[39m():\n\u001b[0;32m      2\u001b[0m     \u001b[38;5;28mprint\u001b[39m(\u001b[38;5;124m\"\u001b[39m\u001b[38;5;124mwelcome \u001b[39m\u001b[38;5;124m\"\u001b[39m,mamta)\n\u001b[1;32m----> 3\u001b[0m greet()\n",
      "Cell \u001b[1;32mIn[2], line 2\u001b[0m, in \u001b[0;36mgreet\u001b[1;34m()\u001b[0m\n\u001b[0;32m      1\u001b[0m \u001b[38;5;28;01mdef\u001b[39;00m\u001b[38;5;250m \u001b[39m\u001b[38;5;21mgreet\u001b[39m():\n\u001b[1;32m----> 2\u001b[0m     \u001b[38;5;28mprint\u001b[39m(\u001b[38;5;124m\"\u001b[39m\u001b[38;5;124mwelcome \u001b[39m\u001b[38;5;124m\"\u001b[39m,mamta)\n",
      "\u001b[1;31mNameError\u001b[0m: name 'mamta' is not defined"
     ]
    }
   ],
   "source": [
    "def greet():\n",
    "    print(\"welcome \",mamta)\n",
    "greet()    \n",
    "    "
   ]
  },
  {
   "cell_type": "code",
   "execution_count": 3,
   "id": "547401dd-f539-4e4e-9ca5-b00946c7f8aa",
   "metadata": {},
   "outputs": [
    {
     "ename": "TypeError",
     "evalue": "greet() takes 0 positional arguments but 1 was given",
     "output_type": "error",
     "traceback": [
      "\u001b[1;31m---------------------------------------------------------------------------\u001b[0m",
      "\u001b[1;31mTypeError\u001b[0m                                 Traceback (most recent call last)",
      "Cell \u001b[1;32mIn[3], line 3\u001b[0m\n\u001b[0;32m      1\u001b[0m \u001b[38;5;28;01mdef\u001b[39;00m\u001b[38;5;250m \u001b[39m\u001b[38;5;21mgreet\u001b[39m():\n\u001b[0;32m      2\u001b[0m     \u001b[38;5;28mprint\u001b[39m(\u001b[38;5;124m\"\u001b[39m\u001b[38;5;124mwelcome to abc\u001b[39m\u001b[38;5;124m\"\u001b[39m)\n\u001b[1;32m----> 3\u001b[0m greet(\u001b[38;5;124m\"\u001b[39m\u001b[38;5;124mPankaj\u001b[39m\u001b[38;5;124m\"\u001b[39m)\n",
      "\u001b[1;31mTypeError\u001b[0m: greet() takes 0 positional arguments but 1 was given"
     ]
    }
   ],
   "source": [
    "def greet():\n",
    "    print(\"welcome to abc\")\n",
    "greet(\"Pankaj\")    "
   ]
  },
  {
   "cell_type": "code",
   "execution_count": 6,
   "id": "206b3d90-6865-443d-8e0c-83efc98e78b2",
   "metadata": {},
   "outputs": [
    {
     "name": "stdout",
     "output_type": "stream",
     "text": [
      "Welcome to AbC\n"
     ]
    }
   ],
   "source": [
    "def greet(name):\n",
    "    print(\"Welcome to AbC\")\n",
    "greet(\"mamta\")    \n"
   ]
  },
  {
   "cell_type": "code",
   "execution_count": 10,
   "id": "b14f7775-ab7b-4038-8d7c-cf042af65a1e",
   "metadata": {},
   "outputs": [
    {
     "name": "stdout",
     "output_type": "stream",
     "text": [
      "Welcome to AbC\n",
      "Welcome to AbC\n"
     ]
    }
   ],
   "source": [
    "def greet(name):\n",
    "    print(\"Welcome to AbC\")\n",
    "greet(\"mamta\")    \n",
    "greet(\"\")"
   ]
  },
  {
   "cell_type": "code",
   "execution_count": 11,
   "id": "c935c4cb-c862-4c35-ba95-8eb2d27f1202",
   "metadata": {},
   "outputs": [
    {
     "name": "stdout",
     "output_type": "stream",
     "text": [
      "welcome to ABC\n"
     ]
    },
    {
     "ename": "TypeError",
     "evalue": "greet() missing 1 required positional argument: 'id'",
     "output_type": "error",
     "traceback": [
      "\u001b[1;31m---------------------------------------------------------------------------\u001b[0m",
      "\u001b[1;31mTypeError\u001b[0m                                 Traceback (most recent call last)",
      "Cell \u001b[1;32mIn[11], line 4\u001b[0m\n\u001b[0;32m      2\u001b[0m     \u001b[38;5;28mprint\u001b[39m(\u001b[38;5;124m\"\u001b[39m\u001b[38;5;124mwelcome to ABC\u001b[39m\u001b[38;5;124m\"\u001b[39m)\n\u001b[0;32m      3\u001b[0m greet(\u001b[38;5;124m\"\u001b[39m\u001b[38;5;124mmamta\u001b[39m\u001b[38;5;124m\"\u001b[39m,\u001b[38;5;124m\"\u001b[39m\u001b[38;5;124mvijl\u001b[39m\u001b[38;5;124m\"\u001b[39m)\n\u001b[1;32m----> 4\u001b[0m greet(\u001b[38;5;124m\"\u001b[39m\u001b[38;5;124mmamta\u001b[39m\u001b[38;5;124m\"\u001b[39m)\n\u001b[0;32m      5\u001b[0m greet()\n",
      "\u001b[1;31mTypeError\u001b[0m: greet() missing 1 required positional argument: 'id'"
     ]
    }
   ],
   "source": [
    "def greet(name,id):\n",
    "    print(\"welcome to ABC\")\n",
    "greet(\"mamta\",\"vijl\")\n",
    "greet(\"mamta\")\n",
    "greet()"
   ]
  },
  {
   "cell_type": "code",
   "execution_count": 12,
   "id": "c45f1099-1561-4321-9f9f-d1647e68e326",
   "metadata": {},
   "outputs": [
    {
     "name": "stdout",
     "output_type": "stream",
     "text": [
      "welcome to ABC\n"
     ]
    },
    {
     "ename": "TypeError",
     "evalue": "greet() missing 1 required positional argument: 'id'",
     "output_type": "error",
     "traceback": [
      "\u001b[1;31m---------------------------------------------------------------------------\u001b[0m",
      "\u001b[1;31mTypeError\u001b[0m                                 Traceback (most recent call last)",
      "Cell \u001b[1;32mIn[12], line 4\u001b[0m\n\u001b[0;32m      2\u001b[0m     \u001b[38;5;28mprint\u001b[39m(\u001b[38;5;124m\"\u001b[39m\u001b[38;5;124mwelcome to ABC\u001b[39m\u001b[38;5;124m\"\u001b[39m)\n\u001b[0;32m      3\u001b[0m greet(\u001b[38;5;124m\"\u001b[39m\u001b[38;5;124mmamta\u001b[39m\u001b[38;5;124m\"\u001b[39m,\u001b[38;5;124m\"\u001b[39m\u001b[38;5;124mvijl\u001b[39m\u001b[38;5;124m\"\u001b[39m)\n\u001b[1;32m----> 4\u001b[0m greet(\u001b[38;5;124m\"\u001b[39m\u001b[38;5;124mmamta\u001b[39m\u001b[38;5;124m\"\u001b[39m)\n\u001b[0;32m      5\u001b[0m greet(\u001b[38;5;124m\"\u001b[39m\u001b[38;5;124m\"\u001b[39m)\n",
      "\u001b[1;31mTypeError\u001b[0m: greet() missing 1 required positional argument: 'id'"
     ]
    }
   ],
   "source": [
    "def greet(name,id):\n",
    "    print(\"welcome to ABC\")\n",
    "greet(\"mamta\",\"vijl\")\n",
    "greet(\"mamta\")\n",
    "greet(\"\")"
   ]
  },
  {
   "cell_type": "code",
   "execution_count": 13,
   "id": "b3a34b9c-dab3-472d-b988-3c4facfafa26",
   "metadata": {},
   "outputs": [
    {
     "ename": "TypeError",
     "evalue": "len() takes exactly one argument (0 given)",
     "output_type": "error",
     "traceback": [
      "\u001b[1;31m---------------------------------------------------------------------------\u001b[0m",
      "\u001b[1;31mTypeError\u001b[0m                                 Traceback (most recent call last)",
      "Cell \u001b[1;32mIn[13], line 1\u001b[0m\n\u001b[1;32m----> 1\u001b[0m \u001b[38;5;28mlen\u001b[39m()\n",
      "\u001b[1;31mTypeError\u001b[0m: len() takes exactly one argument (0 given)"
     ]
    }
   ],
   "source": [
    "len()"
   ]
  },
  {
   "cell_type": "code",
   "execution_count": 14,
   "id": "0d1f921f-c492-40dc-ba1a-f58dae09d6d0",
   "metadata": {},
   "outputs": [
    {
     "data": {
      "text/plain": [
       "1"
      ]
     },
     "execution_count": 14,
     "metadata": {},
     "output_type": "execute_result"
    }
   ],
   "source": [
    "len(\"p\")"
   ]
  },
  {
   "cell_type": "code",
   "execution_count": 15,
   "id": "c0725b69-3140-4073-8e26-5010ee1e83f2",
   "metadata": {},
   "outputs": [
    {
     "name": "stdout",
     "output_type": "stream",
     "text": [
      "welcome to abc\n"
     ]
    }
   ],
   "source": [
    "def greet():\n",
    "    print(\"welcome to abc\")\n",
    "greet()    "
   ]
  },
  {
   "cell_type": "code",
   "execution_count": 16,
   "id": "1b12fd2d-f87f-47fc-9f74-ad6021ced331",
   "metadata": {},
   "outputs": [
    {
     "name": "stdout",
     "output_type": "stream",
     "text": [
      "welcome to abc\n",
      "pankaj vijl\n"
     ]
    }
   ],
   "source": [
    "def greet(name,id):\n",
    "    print(\"welcome to abc\")\n",
    "    print(name,id)\n",
    "greet(\"pankaj\",\"vijl\")\n"
   ]
  },
  {
   "cell_type": "code",
   "execution_count": 17,
   "id": "75c55ccb-dc24-45c4-b57a-524ec079693b",
   "metadata": {},
   "outputs": [
    {
     "name": "stdout",
     "output_type": "stream",
     "text": [
      "welcome to abc\n",
      "pankaj vijl\n",
      "welcome to abc\n",
      "suraj vijl\n"
     ]
    }
   ],
   "source": [
    "def greet(name,id):\n",
    "    print(\"welcome to abc\")\n",
    "    print(name,id)\n",
    "greet(\"pankaj\",\"vijl\")\n",
    "greet(\"suraj\",\"vijl\")"
   ]
  },
  {
   "cell_type": "code",
   "execution_count": 20,
   "id": "0a7a22d3-bfd6-4e2c-8cbc-247e3008e31a",
   "metadata": {},
   "outputs": [
    {
     "name": "stdout",
     "output_type": "stream",
     "text": [
      "welcome to abc\n",
      "suraj_vijl\n"
     ]
    }
   ],
   "source": [
    "def greet(name,id):\n",
    "    print(\"welcome to abc\")\n",
    "    std_id=name+\"_\"+id\n",
    "    print(std_id)\n",
    "greet(\"suraj\",\"vijl\")"
   ]
  },
  {
   "cell_type": "code",
   "execution_count": 25,
   "id": "6afde856-0442-4d5c-991c-7f90ec1e42fa",
   "metadata": {},
   "outputs": [
    {
     "name": "stdout",
     "output_type": "stream",
     "text": [
      "priyanshu is enrolled\n",
      "priyanshu your student is priyanshu_vij\n"
     ]
    }
   ],
   "source": [
    " def enroll(name,id):\n",
    "     print(name,\"is enrolled\")\n",
    "     std_id=name+\"_\"+id\n",
    "     return std_id\n",
    "name1=\"priyanshu\"\n",
    "id1=\"vij\"\n",
    "std_1=enroll(name1,id1)\n",
    "print(name1,\"your student is\",std_1)\n"
   ]
  },
  {
   "cell_type": "code",
   "execution_count": 44,
   "id": "555f129e-6984-43e0-a759-b8ee05b72c31",
   "metadata": {},
   "outputs": [
    {
     "name": "stdout",
     "output_type": "stream",
     "text": [
      "priyanshu is enrolled\n",
      "('priyanshu_vij', 'vijai robotic')\n",
      "priyanshu your student is priyanshu_vij\n"
     ]
    }
   ],
   "source": [
    " def enroll(name,id):\n",
    "     print(name,\"is enrolled\")\n",
    "     std_id=name+\"_\"+id\n",
    "     inst_name=\"vijai robotic\"\n",
    "     return std_id,inst_name#return last\n",
    "name1=\"priyanshu\"\n",
    "id1=\"vij\"\n",
    "print (enroll(name1,id1))#print use toh usko hum future m use nhi kr sakte\n",
    "print(name1,\"your student is\",std_1)\n"
   ]
  },
  {
   "cell_type": "code",
   "execution_count": 49,
   "id": "3e226196-31f0-4c29-8201-9ede2a8ee02c",
   "metadata": {},
   "outputs": [
    {
     "name": "stdout",
     "output_type": "stream",
     "text": [
      "priyanshu is enrolled\n",
      "('priyanshu_vij', 'vijai robotic')\n",
      "priyanshu is enrolled\n",
      "('priyanshu_vij', 'vijai robotic')\n",
      "priyanshu your student is priyanshu_vij\n"
     ]
    }
   ],
   "source": [
    " def enroll(name,id):\n",
    "     print(name,\"is enrolled\")\n",
    "     std_id=name+\"_\"+id\n",
    "     inst_name=\"vijai robotic\"\n",
    "     return std_id,inst_name#return last\n",
    "name1=\"priyanshu\"\n",
    "id1=\"vij\"\n",
    "std1=enroll(name1,id1)\n",
    "print(std1)\n",
    "print (enroll(name1,id1))#print use toh usko hum future m use nhi kr sakte\n",
    "print(name1,\"your student is\",std_1)\n"
   ]
  },
  {
   "cell_type": "code",
   "execution_count": 51,
   "id": "423fa34c-fbda-4895-88a0-fd7cb3db09ba",
   "metadata": {},
   "outputs": [
    {
     "name": "stdout",
     "output_type": "stream",
     "text": [
      "priyanshu is enrolled\n",
      "priyanshu_vij\n"
     ]
    }
   ],
   "source": [
    " def enroll(name,id):\n",
    "     print(name,\"is enrolled\")\n",
    "     std_id=name+\"_\"+id\n",
    "     inst_name=\"vijai robotic\"\n",
    "     return std_id,inst_name#return last\n",
    "name1=\"priyanshu\"\n",
    "id1=\"vij\"\n",
    "std1,std_inst=enroll(name1,id1)#store\n",
    "print(std1)\n",
    "\n"
   ]
  },
  {
   "cell_type": "code",
   "execution_count": 27,
   "id": "d28fe258-ba17-41bf-b4a1-d9e3f24a54b9",
   "metadata": {},
   "outputs": [
    {
     "name": "stdout",
     "output_type": "stream",
     "text": [
      "<class 'int'>\n"
     ]
    }
   ],
   "source": [
    "x=18\n",
    "y=type(x)\n",
    "print(y)"
   ]
  },
  {
   "cell_type": "code",
   "execution_count": 28,
   "id": "0c3121db-ddd2-4157-b3d4-33b1741f1f84",
   "metadata": {},
   "outputs": [
    {
     "name": "stdout",
     "output_type": "stream",
     "text": [
      "<class 'int'>\n"
     ]
    }
   ],
   "source": [
    "x=18\n",
    "print(type(x))"
   ]
  },
  {
   "cell_type": "code",
   "execution_count": 29,
   "id": "d67df1f7-8b52-4e6d-82d5-aacaa7e15860",
   "metadata": {},
   "outputs": [
    {
     "data": {
      "text/plain": [
       "int"
      ]
     },
     "execution_count": 29,
     "metadata": {},
     "output_type": "execute_result"
    }
   ],
   "source": [
    "x=18\n",
    "type(x)"
   ]
  },
  {
   "cell_type": "code",
   "execution_count": 33,
   "id": "4d212f4e-5554-412f-aba5-0522eb73b332",
   "metadata": {},
   "outputs": [],
   "source": [
    "x=18\n",
    "type(x)\n",
    "z=13"
   ]
  },
  {
   "cell_type": "code",
   "execution_count": 35,
   "id": "e3023165-f98e-4892-a77f-a14640f57b04",
   "metadata": {},
   "outputs": [
    {
     "name": "stdout",
     "output_type": "stream",
     "text": [
      "<class 'int'>\n"
     ]
    }
   ],
   "source": [
    "x=18\n",
    "print (type(x))\n",
    "z=13"
   ]
  },
  {
   "cell_type": "code",
   "execution_count": 34,
   "id": "b8ab0cf0-9481-4a2e-8ac9-0d48cc4e1840",
   "metadata": {},
   "outputs": [
    {
     "name": "stdout",
     "output_type": "stream",
     "text": [
      "hello\n",
      "world\n"
     ]
    }
   ],
   "source": [
    "print(\"hello\")\n",
    "print(\"world\")\n",
    "\"hello world\"\n",
    "y=37"
   ]
  },
  {
   "cell_type": "code",
   "execution_count": 37,
   "id": "c5b12d9b-5a2a-411b-afea-f346c3114d3b",
   "metadata": {},
   "outputs": [
    {
     "name": "stdout",
     "output_type": "stream",
     "text": [
      "hello\n",
      "world\n",
      "hello world\n"
     ]
    }
   ],
   "source": [
    "print(\"hello\")\n",
    "print(\"world\")\n",
    "print(\"hello world\")\n",
    "y=37"
   ]
  },
  {
   "cell_type": "code",
   "execution_count": 39,
   "id": "b5fc499a-9011-4f7d-b275-44b0121a7e25",
   "metadata": {},
   "outputs": [],
   "source": [
    "x=18\n",
    "y=type(x)\n"
   ]
  },
  {
   "cell_type": "code",
   "execution_count": 40,
   "id": "f0a24407-e9fe-4a9c-b7c5-9562dec039d7",
   "metadata": {},
   "outputs": [
    {
     "name": "stdout",
     "output_type": "stream",
     "text": [
      "<class 'int'>\n"
     ]
    }
   ],
   "source": [
    "y=type(x)\n",
    "print(y)"
   ]
  },
  {
   "cell_type": "code",
   "execution_count": null,
   "id": "f1f5cf5b-cbfa-46f4-8e8d-bdacca83196d",
   "metadata": {},
   "outputs": [],
   "source": []
  }
 ],
 "metadata": {
  "kernelspec": {
   "display_name": "Python [conda env:base] *",
   "language": "python",
   "name": "conda-base-py"
  },
  "language_info": {
   "codemirror_mode": {
    "name": "ipython",
    "version": 3
   },
   "file_extension": ".py",
   "mimetype": "text/x-python",
   "name": "python",
   "nbconvert_exporter": "python",
   "pygments_lexer": "ipython3",
   "version": "3.13.5"
  }
 },
 "nbformat": 4,
 "nbformat_minor": 5
}
