{
 "cells": [
  {
   "cell_type": "markdown",
   "id": "2ac64dc9-73eb-46d3-b4f2-7e2d5df4d96b",
   "metadata": {},
   "source": [
    " ## on changing the value the id of the variable change"
   ]
  },
  {
   "cell_type": "code",
   "execution_count": 1,
   "id": "f5c0f868-f471-4094-a475-b42fe810ca1b",
   "metadata": {},
   "outputs": [
    {
     "name": "stdout",
     "output_type": "stream",
     "text": [
      "29\n",
      "140720909694760\n"
     ]
    }
   ],
   "source": [
    "# immutable\n",
    "x= 29\n",
    "print(x)\n",
    "print(id(x))"
   ]
  },
  {
   "cell_type": "code",
   "execution_count": 2,
   "id": "d5e8ac1d-7c02-405f-b1af-efb2a5659ff6",
   "metadata": {},
   "outputs": [
    {
     "name": "stdout",
     "output_type": "stream",
     "text": [
      "34\n",
      "140720909694920\n"
     ]
    }
   ],
   "source": [
    "x=34\n",
    "print(x)\n",
    "print(id(x))# id is chanching"
   ]
  },
  {
   "cell_type": "markdown",
   "id": "6e55bcfc-1f9f-4869-b99a-fb1443b089a8",
   "metadata": {},
   "source": [
    "## on changing the value of the variable the id dose not chang"
   ]
  },
  {
   "cell_type": "code",
   "execution_count": 2,
   "id": "e3523494-2528-4e66-849b-b653f666e929",
   "metadata": {},
   "outputs": [
    {
     "name": "stdout",
     "output_type": "stream",
     "text": [
      "['Pankajneeraj', 'mayank']\n",
      "2884321303104\n"
     ]
    }
   ],
   "source": [
    "# mutable set,list and dictionary ** itrable\n",
    "lst1=[\"Pankaj\"\"neeraj\",\"mayank\"]\n",
    "print(lst1)\n",
    "print(id(lst1))"
   ]
  },
  {
   "cell_type": "code",
   "execution_count": 5,
   "id": "b356eb69-a10e-42d0-837f-487a9c9da374",
   "metadata": {},
   "outputs": [
    {
     "name": "stdout",
     "output_type": "stream",
     "text": [
      "['Pankajneeraj', 'mayank', 'suraj']\n",
      "2111928814976\n"
     ]
    }
   ],
   "source": [
    "lst1.append(\"suraj\")\n",
    "print(lst1)\n",
    "print(id(lst1))"
   ]
  },
  {
   "cell_type": "code",
   "execution_count": 6,
   "id": "866065cf-4fbb-4bfa-8209-6092fdbcb7c7",
   "metadata": {},
   "outputs": [
    {
     "ename": "SyntaxError",
     "evalue": "invalid syntax (2118357371.py, line 3)",
     "output_type": "error",
     "traceback": [
      "\u001b[1;36m  Cell \u001b[1;32mIn[6], line 3\u001b[1;36m\u001b[0m\n\u001b[1;33m    print(is(lst1))\u001b[0m\n\u001b[1;37m          ^\u001b[0m\n\u001b[1;31mSyntaxError\u001b[0m\u001b[1;31m:\u001b[0m invalid syntax\n"
     ]
    }
   ],
   "source": [
    "lst1.remove(\"neeraj\")\n",
    "print(lst1)\n",
    "print(is(lst1))"
   ]
  },
  {
   "cell_type": "code",
   "execution_count": null,
   "id": "ab0a7605-c5bf-4cc3-927e-1e597cff5cf7",
   "metadata": {},
   "outputs": [],
   "source": [
    "## string is immutable"
   ]
  },
  {
   "cell_type": "code",
   "execution_count": 7,
   "id": "566ccd12-7bd8-4287-b638-b97308c199da",
   "metadata": {},
   "outputs": [
    {
     "data": {
      "text/plain": [
       "'h'"
      ]
     },
     "execution_count": 7,
     "metadata": {},
     "output_type": "execute_result"
    }
   ],
   "source": [
    "str1=\"hello world\"\n",
    "str1[0]"
   ]
  },
  {
   "cell_type": "code",
   "execution_count": 8,
   "id": "c6b801a8-9c90-40cd-8726-f871718ed395",
   "metadata": {},
   "outputs": [
    {
     "ename": "TypeError",
     "evalue": "'str' object does not support item assignment",
     "output_type": "error",
     "traceback": [
      "\u001b[1;31m---------------------------------------------------------------------------\u001b[0m",
      "\u001b[1;31mTypeError\u001b[0m                                 Traceback (most recent call last)",
      "Cell \u001b[1;32mIn[8], line 1\u001b[0m\n\u001b[1;32m----> 1\u001b[0m str1[\u001b[38;5;241m0\u001b[39m]\u001b[38;5;241m=\u001b[39m\u001b[38;5;124m\"\u001b[39m\u001b[38;5;124mx\u001b[39m\u001b[38;5;124m\"\u001b[39m\n",
      "\u001b[1;31mTypeError\u001b[0m: 'str' object does not support item assignment"
     ]
    }
   ],
   "source": [
    "str1[0]=\"x\""
   ]
  },
  {
   "cell_type": "markdown",
   "id": "7ed1c752-0489-452d-831b-9147809c5306",
   "metadata": {},
   "source": [
    "## itrable string, set ,touple, diconary, list"
   ]
  },
  {
   "cell_type": "markdown",
   "id": "a3659357-e65e-4013-8770-78651b700bf8",
   "metadata": {},
   "source": [
    "### nonitrable floot intger etc"
   ]
  },
  {
   "cell_type": "code",
   "execution_count": null,
   "id": "c3942110-b5af-44fe-8049-cb42e184eddb",
   "metadata": {},
   "outputs": [],
   "source": []
  }
 ],
 "metadata": {
  "kernelspec": {
   "display_name": "Python [conda env:base] *",
   "language": "python",
   "name": "conda-base-py"
  },
  "language_info": {
   "codemirror_mode": {
    "name": "ipython",
    "version": 3
   },
   "file_extension": ".py",
   "mimetype": "text/x-python",
   "name": "python",
   "nbconvert_exporter": "python",
   "pygments_lexer": "ipython3",
   "version": "3.13.5"
  }
 },
 "nbformat": 4,
 "nbformat_minor": 5
}
