{
 "cells": [
  {
   "cell_type": "markdown",
   "id": "94fa3402-f2c4-4cae-bb59-6c36965771a3",
   "metadata": {},
   "source": [
    "### \\what are conditional statement ? "
   ]
  },
  {
   "cell_type": "markdown",
   "id": "4b28a9e7-df7d-4ce6-ba9b-952a6a3f97b0",
   "metadata": {},
   "source": [
    "conditional state in python are used to execute certain blocks of code based on specific condition. these statement help control the flow of a program, making it bhehve diffrenetly in diffrent situation."
   ]
  },
  {
   "cell_type": "markdown",
   "id": "155bc25a-c96d-4183-9216-700885122686",
   "metadata": {},
   "source": [
    " ## if statement: the first gatekeeper"
   ]
  },
  {
   "cell_type": "markdown",
   "id": "6d144d87-1210-40f6-8a59-0eadacc70b18",
   "metadata": {},
   "source": [
    "concept:Execute a block ofcodeonly if a specfic condidition is true."
   ]
  },
  {
   "cell_type": "code",
   "execution_count": null,
   "id": "4b639a6e-b107-43d2-b66f-d4b493fb976c",
   "metadata": {},
   "outputs": [],
   "source": [
    "# syntax\n",
    "if condition:\n",
    "    # execute this block if condition is true"
   ]
  },
  {
   "cell_type": "code",
   "execution_count": 1,
   "id": "96f734c3-6cda-47be-80e4-d08fb2b3f2de",
   "metadata": {},
   "outputs": [],
   "source": [
    "# tempreture warnig\n",
    "temperature =25 #try changing values of temperature \n",
    "if temperature>30:\n",
    "   print(\"it's really hot today!\") # here, the mesage prints only if tempreture exceeds 30."
   ]
  },
  {
   "cell_type": "code",
   "execution_count": 2,
   "id": "aec9c826-e82d-45eb-96a7-d603b76a43b2",
   "metadata": {},
   "outputs": [
    {
     "name": "stdout",
     "output_type": "stream",
     "text": [
      "it's really hot today!\n"
     ]
    }
   ],
   "source": [
    "# tempreture warnig\n",
    "temperature =35 #try changing values of temperature \n",
    "if temperature>30:\n",
    "   print(\"it's really hot today!\") # here, the mesage prints only if tempreture exceeds 30."
   ]
  },
  {
   "cell_type": "code",
   "execution_count": 3,
   "id": "d7eabf45-51a6-4854-949e-b2a69ead579a",
   "metadata": {},
   "outputs": [
    {
     "name": "stdout",
     "output_type": "stream",
     "text": [
      "Possitive number\n"
     ]
    }
   ],
   "source": [
    "# checking a possitive number\n",
    "number=10\n",
    "if number>0:\n",
    "    print(\"Possitive number\")\n"
   ]
  },
  {
   "cell_type": "code",
   "execution_count": 22,
   "id": "fa182af1-5834-4080-955d-9ad2400e94e6",
   "metadata": {},
   "outputs": [],
   "source": [
    "number=20\n",
    "if number>30:\n",
    "    print(\"posetive number\")"
   ]
  },
  {
   "cell_type": "code",
   "execution_count": 25,
   "id": "7aa101fd-4ed0-4cb8-8719-1da9349a9786",
   "metadata": {},
   "outputs": [
    {
     "name": "stdout",
     "output_type": "stream",
     "text": [
      "negetive number\n"
     ]
    }
   ],
   "source": [
    "number=20\n",
    "if number<40:\n",
    "    print(\"negetive number\")"
   ]
  },
  {
   "cell_type": "code",
   "execution_count": 4,
   "id": "c1497564-9689-410d-a000-850cf3fd76b8",
   "metadata": {},
   "outputs": [
    {
     "name": "stdout",
     "output_type": "stream",
     "text": [
      "you are eligible to vote>\n"
     ]
    }
   ],
   "source": [
    "# Verifying a minimum age\n",
    "age=22\n",
    "if age>= 18:\n",
    "    print(\"you are eligible to vote>\")"
   ]
  },
  {
   "cell_type": "code",
   "execution_count": 5,
   "id": "19e75801-de12-4371-9403-e9b6c497b0de",
   "metadata": {},
   "outputs": [
    {
     "name": "stdout",
     "output_type": "stream",
     "text": [
      "that's a long name!\n"
     ]
    }
   ],
   "source": [
    "# String length check\n",
    "name=\"Python\"\n",
    "if len (name)>5:\n",
    "    print(\"that's a long name!\")"
   ]
  },
  {
   "cell_type": "code",
   "execution_count": 6,
   "id": "d7856f95-ffd8-4037-8433-832cba778a6f",
   "metadata": {},
   "outputs": [
    {
     "name": "stdout",
     "output_type": "stream",
     "text": [
      "Password length is okay.\n"
     ]
    }
   ],
   "source": [
    "# password strenght check based on its lenght\n",
    "password=\"mysecurepass\"\n",
    "if len(password)>8:\n",
    "    print(\"Password length is okay.\")"
   ]
  },
  {
   "cell_type": "code",
   "execution_count": 7,
   "id": "80de4d35-5ad5-45eb-bead-c6450b63829f",
   "metadata": {},
   "outputs": [
    {
     "name": "stdout",
     "output_type": "stream",
     "text": [
      "item is in stock.\n"
     ]
    }
   ],
   "source": [
    "# check stock vailableity\n",
    "stock=5\n",
    "if stock>0:\n",
    "    print(\"item is in stock.\")"
   ]
  },
  {
   "cell_type": "markdown",
   "id": "1753c9bf-de8a-485b-ab02-b1e9b6bdcf61",
   "metadata": {},
   "source": [
    "## 2. the else clause: the altrenate path.\n",
    "\n",
    "concept: define what happens when the if condition is not met."
   ]
  },
  {
   "cell_type": "code",
   "execution_count": null,
   "id": "ffd8b262-79f9-4396-9e36-b01238bec2b0",
   "metadata": {},
   "outputs": [],
   "source": [
    "#syntax\n",
    "if condition:\n",
    "    #executed if condition is True\n",
    "else: \n",
    "    # executed if condition is False"
   ]
  },
  {
   "cell_type": "code",
   "execution_count": 1,
   "id": "1fa3a0a0-2646-4301-9d3e-6ea9e1ed601c",
   "metadata": {},
   "outputs": [
    {
     "name": "stdout",
     "output_type": "stream",
     "text": [
      "keep trying!\n"
     ]
    }
   ],
   "source": [
    "# example\n",
    "score=45\n",
    "if score>=50:\n",
    "    print(\"You passed!\")\n",
    "else:\n",
    "    print(\"keep trying!\")# prints if score is bleow 50"
   ]
  },
  {
   "cell_type": "code",
   "execution_count": 2,
   "id": "06b71064-561d-4ca7-b42a-c9e5f574db97",
   "metadata": {},
   "outputs": [
    {
     "name": "stdout",
     "output_type": "stream",
     "text": [
      "odd number\n"
     ]
    }
   ],
   "source": [
    "#1. even or odd\n",
    "\n",
    "num=7\n",
    "if num%2==0:\n",
    "    print(\"Even number\")\n",
    "else:\n",
    "    print(\"odd number\")"
   ]
  },
  {
   "cell_type": "code",
   "execution_count": 4,
   "id": "1f4a8eb4-739f-4574-972d-7b380e2f81e3",
   "metadata": {},
   "outputs": [
    {
     "name": "stdout",
     "output_type": "stream",
     "text": [
      "odd number\n",
      "this line is always run\n"
     ]
    }
   ],
   "source": [
    "#1.0 even or odd\n",
    "\n",
    "num=7\n",
    "if num%2==0:\n",
    "    print(\"Even number\")\n",
    "else:\n",
    "    print(\"odd number\")\n",
    "print(\"this line is always run\")"
   ]
  },
  {
   "cell_type": "code",
   "execution_count": 6,
   "id": "83bb76bc-b786-434c-96d7-3a6e124647d6",
   "metadata": {},
   "outputs": [
    {
     "ename": "SyntaxError",
     "evalue": "invalid syntax (1497968884.py, line 11)",
     "output_type": "error",
     "traceback": [
      "\u001b[1;36m  Cell \u001b[1;32mIn[6], line 11\u001b[1;36m\u001b[0m\n\u001b[1;33m    if<40:\u001b[0m\n\u001b[1;37m      ^\u001b[0m\n\u001b[1;31mSyntaxError\u001b[0m\u001b[1;31m:\u001b[0m invalid syntax\n"
     ]
    }
   ],
   "source": [
    "#1.0 even or odd\n",
    "\n",
    "num=7\n",
    "if num%2==0:\n",
    "    print(\"Even number\")\n",
    "else:\n",
    "    print(\"odd number\")\n",
    "print(\"this line is always run\")\n",
    "z=45\n",
    "print(z)\n",
    "if<40:\n",
    "  print(\"z is a small number\")"
   ]
  },
  {
   "cell_type": "code",
   "execution_count": 7,
   "id": "65208c8f-3ad6-4d2d-ae2f-4543cb4a4ed8",
   "metadata": {},
   "outputs": [
    {
     "name": "stdout",
     "output_type": "stream",
     "text": [
      "Minor\n"
     ]
    }
   ],
   "source": [
    "#2. adult or minor\n",
    "age=16\n",
    "if age>= 18:\n",
    "    print(\"Adult\")\n",
    "else:\n",
    "    print(\"Minor\")"
   ]
  },
  {
   "cell_type": "code",
   "execution_count": 9,
   "id": "d37bf9c0-95fe-4a83-9506-4fe928de78f4",
   "metadata": {},
   "outputs": [
    {
     "name": "stdout",
     "output_type": "stream",
     "text": [
      "Adult\n"
     ]
    }
   ],
   "source": [
    "age=21\n",
    "if age>=18:\n",
    "    print(\"Adult\")\n",
    "else:\n",
    "    print(\"Minor\")"
   ]
  },
  {
   "cell_type": "code",
   "execution_count": 8,
   "id": "09efd50d-365c-47ce-8c6d-2870a2c7c184",
   "metadata": {},
   "outputs": [
    {
     "name": "stdout",
     "output_type": "stream",
     "text": [
      "Pass\n"
     ]
    }
   ],
   "source": [
    "# pass or fail\n",
    "marks =42\n",
    "if marks>=40:\n",
    "    print(\"Pass\")\n",
    "else:\n",
    "    print(\"Fail\")"
   ]
  },
  {
   "cell_type": "code",
   "execution_count": 10,
   "id": "83de22fb-4d38-4e80-8d73-bc43059e6d31",
   "metadata": {},
   "outputs": [
    {
     "name": "stdout",
     "output_type": "stream",
     "text": [
      "Fail\n"
     ]
    }
   ],
   "source": [
    "marks=67\n",
    "if marks>=70:\n",
    "    print(\"Pass\")\n",
    "else:\n",
    "    print(\"Fail\")"
   ]
  },
  {
   "cell_type": "code",
   "execution_count": 9,
   "id": "f04b83ec-f5a6-4b36-95d1-3541fbe9d804",
   "metadata": {},
   "outputs": [
    {
     "name": "stdout",
     "output_type": "stream",
     "text": [
      "Possitive\n"
     ]
    }
   ],
   "source": [
    "#4. possitive or negetive\n",
    "number=-5\n",
    "if marks>=0:\n",
    "    print(\"Possitive\")\n",
    "else:\n",
    "    print(\"Negetive\")"
   ]
  },
  {
   "cell_type": "code",
   "execution_count": 11,
   "id": "086999b2-07f9-44d6-adb7-25a2451dcc95",
   "metadata": {},
   "outputs": [
    {
     "name": "stdout",
     "output_type": "stream",
     "text": [
      "Possetive\n"
     ]
    }
   ],
   "source": [
    "number=7\n",
    "if marks>=0:\n",
    "    print(\"Possetive\")\n",
    "else:\n",
    "    print(\"Negetive\")"
   ]
  },
  {
   "cell_type": "code",
   "execution_count": 11,
   "id": "0b59af7b-e902-4cf4-bab9-4928a03280b3",
   "metadata": {},
   "outputs": [
    {
     "name": "stdout",
     "output_type": "stream",
     "text": [
      "Free delivery\n"
     ]
    }
   ],
   "source": [
    "#5. free delivery or paid delivery\n",
    "order_amount=900\n",
    "if order_amount>=500:\n",
    "    print(\"Free delivery\")\n",
    "else:\n",
    "    print(\"Delivery charge applies\")"
   ]
  },
  {
   "cell_type": "code",
   "execution_count": 14,
   "id": "648f45dd-71e9-4522-bc2e-0f8a02bc0d27",
   "metadata": {},
   "outputs": [
    {
     "name": "stdout",
     "output_type": "stream",
     "text": [
      "Day off!\n"
     ]
    }
   ],
   "source": [
    "#6. weekend or holiday\n",
    "day =\"Friday\"\n",
    "is_holiday=True\n",
    "if day.lower()in {\"saturday\",\"sunday\"}or is_holiday:\n",
    "    print(\"Day off!\")\n",
    "else:\n",
    "    print(\"Reguler working day\")"
   ]
  },
  {
   "cell_type": "code",
   "execution_count": 15,
   "id": "defd2f74-e506-43dc-a9fc-57bb21177bee",
   "metadata": {},
   "outputs": [
    {
     "name": "stdout",
     "output_type": "stream",
     "text": [
      "Reguler working day\n"
     ]
    }
   ],
   "source": [
    "#6. weekend or holiday\n",
    "day =\"Friday\"\n",
    "is_holiday=False\n",
    "if day in {\"saturday\",\"sunday\"}or is_holiday:\n",
    "    print(\"Day off!\")\n",
    "else:\n",
    "    print(\"Reguler working day\")"
   ]
  },
  {
   "cell_type": "code",
   "execution_count": 17,
   "id": "f873c70a-6528-4910-9470-dd81d6953435",
   "metadata": {},
   "outputs": [
    {
     "name": "stdout",
     "output_type": "stream",
     "text": [
      "Reguler working day\n"
     ]
    }
   ],
   "source": [
    "#6. weekend or holiday\n",
    "day =\"Friday\"\n",
    "is_holiday=False\n",
    "if day in {\"saturday\",\"sunday\"}:\n",
    "    print(\"Day off!\")\n",
    "else:\n",
    "    print(\"Reguler working day\")"
   ]
  },
  {
   "cell_type": "code",
   "execution_count": 19,
   "id": "325c98e9-30fb-4a44-ab78-eaefcbb0f0c9",
   "metadata": {},
   "outputs": [
    {
     "name": "stdout",
     "output_type": "stream",
     "text": [
      "Eligible for exam\n"
     ]
    }
   ],
   "source": [
    "#7. valaid exam candidate\n",
    "attendance=80\n",
    "avg_marks=55\n",
    "if attendance>=75 and avg_marks>=50:\n",
    "    print(\"Eligible for exam\")\n",
    "else:\n",
    "    print(\"Not eligible for exam\")"
   ]
  },
  {
   "cell_type": "code",
   "execution_count": 20,
   "id": "fb6d6f4e-1ae8-4be6-9b3f-065c7b03e1da",
   "metadata": {},
   "outputs": [
    {
     "ename": "SyntaxError",
     "evalue": "invalid syntax (3873511423.py, line 4)",
     "output_type": "error",
     "traceback": [
      "\u001b[1;36m  Cell \u001b[1;32mIn[20], line 4\u001b[1;36m\u001b[0m\n\u001b[1;33m    it not is raining and (18<=temperature<=28):\u001b[0m\n\u001b[1;37m           ^\u001b[0m\n\u001b[1;31mSyntaxError\u001b[0m\u001b[1;31m:\u001b[0m invalid syntax\n"
     ]
    }
   ],
   "source": [
    "# weather decision\n",
    "its_raining=False\n",
    "temperature=22\n",
    "it not is raining and (18<=temperature<=28):\n",
    "print(\"Perfact day for a picnic!\")\n",
    "else:\n",
    "     print(\"Better stay in\")"
   ]
  },
  {
   "cell_type": "code",
   "execution_count": null,
   "id": "fc25201f-0575-4004-b56d-5f95b73d1c01",
   "metadata": {},
   "outputs": [],
   "source": [
    "#9. exclusive choice (you can select either coffee or tea,not both/neither)\n",
    "wants_coffee=True\n",
    "wants_tea=False\n",
    "if wants_coffee!= wants_tea:\n",
    "    print(\"Serving your choice\")\n",
    "else:\n",
    "    print(\"You must choose either coffee ortea,both/neither\")\n",
    "\n"
   ]
  },
  {
   "cell_type": "code",
   "execution_count": null,
   "id": "9422b55a-74f5-4eca-8509-75378deda823",
   "metadata": {},
   "outputs": [],
   "source": [
    "#10.Username (check no space)\n",
    "username=\"john_doe\"\n",
    "if len(username)>= 5and\"\"not in username:\n",
    "    print(\"Username accepted\")\n",
    "else:\n",
    "    print(\"Invalid username\")"
   ]
  },
  {
   "cell_type": "code",
   "execution_count": 8,
   "id": "312aa754-1b74-4be5-9387-6733d7ff51c0",
   "metadata": {},
   "outputs": [
    {
     "name": "stdin",
     "output_type": "stream",
     "text": [
      "Enter age 18\n"
     ]
    },
    {
     "name": "stdout",
     "output_type": "stream",
     "text": [
      "Eligible for a driving licence\n"
     ]
    }
   ],
   "source": [
    "age=int(input(\"Enter age\"))\n",
    "if age>=18:\n",
    "    print(\"Eligible for a driving licence\")"
   ]
  },
  {
   "cell_type": "code",
   "execution_count": 10,
   "id": "4df6ebb5-e35c-46ea-9064-347731605fcc",
   "metadata": {},
   "outputs": [
    {
     "name": "stdin",
     "output_type": "stream",
     "text": [
      " 12\n"
     ]
    },
    {
     "name": "stdout",
     "output_type": "stream",
     "text": [
      "12\n",
      "<class 'str'>\n"
     ]
    }
   ],
   "source": [
    "age=input()\n",
    "print(age)\n",
    "print(type(age))"
   ]
  },
  {
   "cell_type": "code",
   "execution_count": 11,
   "id": "18defe06-17ee-4ea8-a1bf-b8c34b31250e",
   "metadata": {},
   "outputs": [
    {
     "name": "stdin",
     "output_type": "stream",
     "text": [
      " 18\n"
     ]
    },
    {
     "name": "stdout",
     "output_type": "stream",
     "text": [
      "<class 'float'>\n"
     ]
    },
    {
     "data": {
      "text/plain": [
       "True"
      ]
     },
     "execution_count": 11,
     "metadata": {},
     "output_type": "execute_result"
    }
   ],
   "source": [
    "age=float(input())\n",
    "print(type(age))\n",
    "age>=18"
   ]
  },
  {
   "cell_type": "code",
   "execution_count": 12,
   "id": "5a8f695d-fe12-4bde-a6ad-89d5d71c9627",
   "metadata": {},
   "outputs": [
    {
     "name": "stdin",
     "output_type": "stream",
     "text": [
      "Enter age 18\n"
     ]
    },
    {
     "name": "stdout",
     "output_type": "stream",
     "text": [
      "<class 'float'>\n",
      "18.0\n"
     ]
    },
    {
     "data": {
      "text/plain": [
       "True"
      ]
     },
     "execution_count": 12,
     "metadata": {},
     "output_type": "execute_result"
    }
   ],
   "source": [
    "age=float(input(\"Enter age\"))\n",
    "print(type(age))\n",
    "print(age)\n",
    "age>=18"
   ]
  },
  {
   "cell_type": "markdown",
   "id": "a9c58fa4-1b9e-4983-849d-d4088a6b92d2",
   "metadata": {},
   "source": [
    "## 3. the relif cluse: multipule check,one path\n",
    "\n",
    "concept: test serval condition in sequance-only the first true one runs.\n"
   ]
  },
  {
   "cell_type": "code",
   "execution_count": null,
   "id": "74d361e5-a495-4dac-be50-f1e7236cf5d5",
   "metadata": {},
   "outputs": [],
   "source": [
    "# syntax\n",
    "if conditona1:\n",
    "    #block1\n",
    "elif condition2:\n",
    "    #block2\n",
    "else condition3:\n",
    "    # block\n"
   ]
  },
  {
   "cell_type": "code",
   "execution_count": 1,
   "id": "101aa1c4-718d-4a2b-80d2-961ebef74573",
   "metadata": {},
   "outputs": [
    {
     "name": "stdout",
     "output_type": "stream",
     "text": [
      "Exellant!\n"
     ]
    }
   ],
   "source": [
    "# example\n",
    "marks=95\n",
    "if marks>=90:\n",
    "    print(\"Exellant!\")\n",
    "elif marks>=75:\n",
    "    print(\"Very good!\")\n",
    "else :\n",
    "    print(\"Need Improvment.\")"
   ]
  },
  {
   "cell_type": "code",
   "execution_count": 2,
   "id": "a9904613-80cf-4e3a-ad37-4a8df891e0e0",
   "metadata": {},
   "outputs": [
    {
     "ename": "SyntaxError",
     "evalue": "invalid syntax (3268758214.py, line 6)",
     "output_type": "error",
     "traceback": [
      "\u001b[1;36m  Cell \u001b[1;32mIn[2], line 6\u001b[1;36m\u001b[0m\n\u001b[1;33m    elif marks>=75:\u001b[0m\n\u001b[1;37m    ^\u001b[0m\n\u001b[1;31mSyntaxError\u001b[0m\u001b[1;31m:\u001b[0m invalid syntax\n"
     ]
    }
   ],
   "source": [
    "#1 grade classification\n",
    "if marks>=90:\n",
    "    marks=78\n",
    "    print(\"Grade A\")\n",
    "marks=12\n",
    "elif marks>=75:\n",
    "     print(\"Grade B\")\n",
    "else :\n",
    "     print(\"Fail\")"
   ]
  },
  {
   "cell_type": "code",
   "execution_count": 1,
   "id": "47bba6ca-426c-4941-85a6-2f23802e1257",
   "metadata": {},
   "outputs": [
    {
     "name": "stdout",
     "output_type": "stream",
     "text": [
      "Weekend\n"
     ]
    }
   ],
   "source": [
    "#2 day name to types of day\n",
    "day=\"Saturday\"\n",
    "if day.lower()in {\"saturday\",\"sunday\"}:\n",
    "    print(\"Weekend\")\n",
    "elif day.lower()==\"friday\":\n",
    "    print(\"Almost weekend\")\n",
    "else:\n",
    "    print(\"weekday\")"
   ]
  },
  {
   "cell_type": "code",
   "execution_count": 2,
   "id": "470acbb1-8838-4677-9473-dcbdd7f841cc",
   "metadata": {},
   "outputs": [
    {
     "name": "stdout",
     "output_type": "stream",
     "text": [
      "Free ticket\n"
     ]
    }
   ],
   "source": [
    "#3 ticket pricing by age\n",
    "age=4\n",
    "if age <5:\n",
    "    print(\"Free ticket\")\n",
    "elif age<=12:\n",
    "    print(\"Child ticket\")\n",
    "elif age<=60:\n",
    "    print(\"Adult ticket\")\n",
    "else:\n",
    "    print(\"Senior ticket\")\n"
   ]
  },
  {
   "cell_type": "code",
   "execution_count": 3,
   "id": "c87bd5ca-02e1-4fd8-a32d-3ef05627766e",
   "metadata": {},
   "outputs": [
    {
     "name": "stdout",
     "output_type": "stream",
     "text": [
      "Divisible by both 3 and 4\n"
     ]
    }
   ],
   "source": [
    "# Number clssification with overlaps\n",
    "n=12\n",
    "if n%3==0 and n%4==0:\n",
    "    print(\"Divisible by both 3 and 4\")\n",
    "elif n%3==0:\n",
    "    print(\"Divisible by 3 only\")\n",
    "elif n%4==0:\n",
    "    print(\"Divisible by 4 only\")\n",
    "else:\n",
    "    print(\"Not divisible by 3 or 4\")"
   ]
  },
  {
   "cell_type": "code",
   "execution_count": 4,
   "id": "9e5732ea-489b-4431-bf97-34e77cb3525d",
   "metadata": {},
   "outputs": [
    {
     "name": "stdout",
     "output_type": "stream",
     "text": [
      "Were a light jacketd carry umrella\n"
     ]
    }
   ],
   "source": [
    "#5 clothing suggetion based on wether\n",
    "temp=16\n",
    "rain =True\n",
    "if temp<10:\n",
    "    print(\"wear a heavy jacket\")\n",
    "elif temp<20 and rain   :\n",
    "    print(\"Were a light jacketd carry umrella\")\n",
    "elif temp<20:\n",
    "    print(\"Were a light jacket\")\n",
    "else:\n",
    "    print(\"T-shirt weather\")"
   ]
  },
  {
   "cell_type": "code",
   "execution_count": 5,
   "id": "6b3d1286-e2c6-498a-8b65-f8426075d42a",
   "metadata": {},
   "outputs": [
    {
     "name": "stdout",
     "output_type": "stream",
     "text": [
      "Invailed password\n"
     ]
    }
   ],
   "source": [
    "#6 advance login attempt handlig \n",
    "username=\"admin\"\n",
    "password=\"1234\"\n",
    "if username!=\"admin\":\n",
    "    print(\"Invalid password\")\n",
    "elif password!=\"secret\" :\n",
    "    print(\"Invailed password\")\n",
    "else:\n",
    "    print(\"Login successful\")"
   ]
  },
  {
   "cell_type": "code",
   "execution_count": 6,
   "id": "64a4e86d-f47e-4876-86f8-cdf361edf33f",
   "metadata": {},
   "outputs": [
    {
     "ename": "SyntaxError",
     "evalue": "invalid syntax (607923558.py, line 2)",
     "output_type": "error",
     "traceback": [
      "\u001b[1;36m  Cell \u001b[1;32mIn[6], line 2\u001b[1;36m\u001b[0m\n\u001b[1;33m    fuel=#in liters\u001b[0m\n\u001b[1;37m         ^\u001b[0m\n\u001b[1;31mSyntaxError\u001b[0m\u001b[1;31m:\u001b[0m invalid syntax\n"
     ]
    }
   ],
   "source": [
    "#7 fule level warning system\n",
    "fuel=#in liters\n",
    "if fuel <=0:\n",
    "    print(\"Tank empty!stop immediately.\")\n",
    "elif fuel<=5:\n",
    "    print(\"Low fuel - find a station soon.\")\n",
    "elif fuel<=20:\n",
    "    print(\"Fuel level okay.\")\n",
    "else:\n",
    "    print(\"Full tank!\")"
   ]
  },
  {
   "cell_type": "code",
   "execution_count": 7,
   "id": "4ee42dc5-28d5-4d29-8564-9285f60bbc6b",
   "metadata": {},
   "outputs": [
    {
     "name": "stdout",
     "output_type": "stream",
     "text": [
      "Pass\n"
     ]
    }
   ],
   "source": [
    "#8. multi-criteria exam result\n",
    "marks=68\n",
    "attendence=80\n",
    "if marks<40:\n",
    "    print(\"Fail insufficiant marks\")\n",
    "elif attendence <75:\n",
    "    print(\"Fail low attendence\")\n",
    "else:\n",
    "    print(\"Pass\")"
   ]
  },
  {
   "cell_type": "code",
   "execution_count": 12,
   "id": "1853e1cc-15a1-4692-bbed-42b247a571ee",
   "metadata": {},
   "outputs": [
    {
     "name": "stdout",
     "output_type": "stream",
     "text": [
      "Full delivery charge\n"
     ]
    }
   ],
   "source": [
    "#9 delivery charge logic\n",
    "order_ammount=450 \n",
    "is_member=False\n",
    "if order_ammount>=1000:\n",
    "   print(\"Free delivery\")\n",
    "elif is_member:\n",
    "    print(\"Discounted dellivery charge\")\n",
    "else:\n",
    "    print(\"Full delivery charge\")"
   ]
  },
  {
   "cell_type": "code",
   "execution_count": 13,
   "id": "a374e6f0-55b3-49b3-a591-ef71011ccdb4",
   "metadata": {},
   "outputs": [
    {
     "name": "stdout",
     "output_type": "stream",
     "text": [
      "No entry-ID not verified\n"
     ]
    }
   ],
   "source": [
    "# multi- stage  access control\n",
    "has_ticket =True\n",
    "id_verified=False\n",
    "age=19\n",
    "if not has_ticket:\n",
    "    print(\"No entry-ticket missing\")\n",
    "elif not id_verified:\n",
    "    print(\"No entry-ID not verified\")\n",
    "elif age<18:\n",
    "    print(\"No entry-underage\")\n",
    "else:\n",
    "    print(\"Enter granted\")\n",
    "    "
   ]
  },
  {
   "cell_type": "markdown",
   "id": "b0e2d248-dcba-49ca-a06c-12103e1e8e72",
   "metadata": {},
   "source": [
    "## Nesting if statement:layered dicisions.\n",
    "place one conditional inside another to handle complex scenarios."
   ]
  },
  {
   "cell_type": "code",
   "execution_count": 1,
   "id": "4a6c769a-6059-49d8-a522-30f225878468",
   "metadata": {},
   "outputs": [
    {
     "name": "stdout",
     "output_type": "stream",
     "text": [
      "Negetive odd number\n"
     ]
    }
   ],
   "source": [
    "#example\n",
    "num=-3\n",
    "if num<0:\n",
    "   if num%2==0:\n",
    "       print(\"Negetive even number\")\n",
    "   else: \n",
    "       print(\"Negetive odd number\")\n",
    "else:\n",
    "    print(\"NON-negetive number\")"
   ]
  },
  {
   "cell_type": "code",
   "execution_count": 2,
   "id": "6d6a07cc-aa40-4c60-8378-827f83702f5c",
   "metadata": {},
   "outputs": [
    {
     "name": "stdin",
     "output_type": "stream",
     "text": [
      "Enter a number: 23\n"
     ]
    },
    {
     "name": "stdout",
     "output_type": "stream",
     "text": [
      "Negetive odd\n"
     ]
    }
   ],
   "source": [
    "#1. number classification(possetive/negetive+even/odd)\n",
    "n=int(input(\"Enter a number:\"))\n",
    "\n",
    "if n>=0:\n",
    "    if n%2==0:\n",
    "        print(\"possetive even\")\n",
    "    else:\n",
    "        print(\"Negetive odd\")\n",
    "else:\n",
    "    if n %2==0:\n",
    "        print(\"Negetive even\")\n",
    "    else:\n",
    "        print(\"Negetive odd\")"
   ]
  },
  {
   "cell_type": "code",
   "execution_count": 4,
   "id": "95eb2271-44e0-4da1-b510-3db78aee0e88",
   "metadata": {},
   "outputs": [
    {
     "ename": "IndentationError",
     "evalue": "unindent does not match any outer indentation level (<string>, line 14)",
     "output_type": "error",
     "traceback": [
      "\u001b[1;36m  File \u001b[1;32m<string>:14\u001b[1;36m\u001b[0m\n\u001b[1;33m    else:\u001b[0m\n\u001b[1;37m          ^\u001b[0m\n\u001b[1;31mIndentationError\u001b[0m\u001b[1;31m:\u001b[0m unindent does not match any outer indentation level\n"
     ]
    }
   ],
   "source": [
    "# 2. login with role-bassed access\n",
    "username=input(\"Username:\")\n",
    "password=input(\"Password\")\n",
    "\n",
    "if username==\"admin\"\n",
    "   if password==\"secure123\":\n",
    "       print(\"Access granted:Admin dashbord\")\n",
    "   else:\n",
    "       print(\"Wrong password for admin\")\n",
    "else:\n",
    "    if usename==\"guest\":\n",
    "        if password==\"guest\":\n",
    "            print(\"Access granted:Guest mode\")\n",
    "         else: \n",
    "            print(\"Wrong password to guest\")\n",
    "     else:\n",
    "       print(\"user not recognized\")"
   ]
  },
  {
   "cell_type": "code",
   "execution_count": null,
   "id": "ebdbed80-e4a6-465c-b6c4-10a885637cd1",
   "metadata": {},
   "outputs": [],
   "source": [
    "#3. tringle type sides\n",
    "a=int(input(\"Side a: \"))\n",
    "b=int(input(\"Side b: \"))\n",
    "c=int(input(\"side c: \"))\n",
    "\n",
    "if a+b>c and b+c>a and a+c>b: #outer: valid triangle\n",
    "    if a==b and b==c:\n",
    "        print(\"Equilateral triangle\")\n",
    "    else:\n",
    "        if a==b or b==c or a==c:\n",
    "            print(\"Isosceles triangle\")\n",
    "        else:   \n",
    "            print(\"Scalene triangle\")\n",
    "else:\n",
    "    print(\"Not a valid triangle\")"
   ]
  },
  {
   "cell_type": "code",
   "execution_count": null,
   "id": "110f7ec4-a190-4a71-8042-b3e6c3408273",
   "metadata": {},
   "outputs": [],
   "source": [
    "#4. exam result with bonus points\n",
    "marks=int(input(\"Marks: \"))\n",
    "attendance=int(input(\"Attendance%: \"))\n",
    "\n",
    "if marks>=35:\n",
    "    if attendance>=75:\n",
    "        if marks >=85:\n",
    "            print(\"Distinction\")\n",
    "         else:\n",
    "             print(\"Pass\")\n",
    "     else:\n",
    "        print(\"Pass but low attendance warnig\")\n",
    "else:\n",
    "    if attendance>=90:\n",
    "        print(\"Fail but eligible for re-test due to high attendance\")\n",
    "    else:\n",
    "        print(\"Fail\")\n"
   ]
  },
  {
   "cell_type": "code",
   "execution_count": null,
   "id": "8867a0aa-469e-4aef-b230-680b206963ad",
   "metadata": {},
   "outputs": [],
   "source": [
    "#5. ATM withoutdrawal check\n",
    "balence = 5000\n",
    "amount= int(input(\"Enter withdrawal amount:\"))\n",
    "\n",
    "if amount <= balance:\n",
    "    if amount % 100==0:\n",
    "        if amount <=2000:\n",
    "            print(\"Withdrawal approved\")\n",
    "        else:\n",
    "            print(\"Exceeds single  transaction limit\")\n",
    "    else:\n",
    "        print(\"Amount must be multiple of 100\")\n",
    "else:\n",
    "    print(\"Insufficient balance\")\n",
    "\n"
   ]
  },
  {
   "cell_type": "code",
   "execution_count": null,
   "id": "6238678f-3bf8-4209-a0e5-ae4c58b7ed64",
   "metadata": {},
   "outputs": [],
   "source": [
    "#6. Wether-bassed outfit suggetion (fun)\n",
    "temp=int(input(\"Temperature in c: \"))\n",
    "rain=input(\"Is it raining? (yes/no): \").lower()\n",
    "\n",
    "if temp<15:\n",
    "    if rain==\"yes\":\n",
    "        print(\"Were a warm coatand carry um ella\")\n",
    "    else:\n",
    "        print(\"Were a warm coat\")\n",
    "else:\n",
    "    if rain == \"yes\":\n",
    "        print(\"Light clothes with um ella\")\n",
    "    else:\n",
    "        print(\"Light clothes,enjoy your day\")\n",
    "    "
   ]
  },
  {
   "cell_type": "code",
   "execution_count": null,
   "id": "c992c2b5-49e9-486b-8938-2c000fe99e13",
   "metadata": {},
   "outputs": [],
   "source": [
    "#7. Age & Licence Eligibility (simple nested)\n",
    "age=int(input(\"Enter yourage: \"))\n",
    "\n",
    "if age>=18:\n",
    "    has_license= input(\"Do you have a valid driving license?(yes/no:) \").lower()\n",
    "    if has_license==\"yes\":\n",
    "        print(\"You are allowed to drive.\")\n",
    "    else:\n",
    "        \n",
    "        print(\"You need a valid license to drive.\")\n",
    "else:\n",
    "    print(\"You are underage for driving.\")\n",
    "    \n",
    "    "
   ]
  },
  {
   "cell_type": "code",
   "execution_count": null,
   "id": "d6c0556b-1564-4ebe-b7d3-767ad25b7e2a",
   "metadata": {},
   "outputs": [],
   "source": [
    "my_set={3,1.5,9,age}"
   ]
  },
  {
   "cell_type": "code",
   "execution_count": null,
   "id": "66a5f823-15c9-4ce2-a352-34181ce2e64f",
   "metadata": {},
   "outputs": [],
   "source": []
  }
 ],
 "metadata": {
  "kernelspec": {
   "display_name": "Python [conda env:base] *",
   "language": "python",
   "name": "conda-base-py"
  },
  "language_info": {
   "codemirror_mode": {
    "name": "ipython",
    "version": 3
   },
   "file_extension": ".py",
   "mimetype": "text/x-python",
   "name": "python",
   "nbconvert_exporter": "python",
   "pygments_lexer": "ipython3",
   "version": "3.13.5"
  }
 },
 "nbformat": 4,
 "nbformat_minor": 5
}
