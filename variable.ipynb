{
 "cells": [
  {
   "cell_type": "markdown",
   "id": "676d4bd2-dfcc-4bc3-aafc-ff124eee610f",
   "metadata": {},
   "source": [
    "## . what is variable"
   ]
  },
  {
   "cell_type": "markdown",
   "id": "b5813ed7-7cae-401d-bc7e-5e450ac2f9a5",
   "metadata": {},
   "source": [
    "### A variable is a container that store data in the memory of your computer and you can store any data types in a a variable syntax-variable_name=data_to-be_stored."
   ]
  },
  {
   "cell_type": "code",
   "execution_count": 1,
   "id": "a7e3f3e9-9883-47f2-89e8-d33093c2dae6",
   "metadata": {},
   "outputs": [
    {
     "name": "stdout",
     "output_type": "stream",
     "text": [
      "10 20\n"
     ]
    }
   ],
   "source": [
    "x=10\n",
    "y=20\n",
    "print(x,y)"
   ]
  },
  {
   "cell_type": "code",
   "execution_count": 3,
   "id": "30b1cf06-0dad-43fd-b20a-1ae426f2c927",
   "metadata": {},
   "outputs": [
    {
     "name": "stdout",
     "output_type": "stream",
     "text": [
      "30 30\n"
     ]
    }
   ],
   "source": [
    "x=y\n",
    "y=30\n",
    "print(x,y)"
   ]
  },
  {
   "cell_type": "code",
   "execution_count": 4,
   "id": "602549d0-018a-45e9-ae32-530664ec7a66",
   "metadata": {},
   "outputs": [
    {
     "name": "stdout",
     "output_type": "stream",
     "text": [
      "100 200\n"
     ]
    }
   ],
   "source": [
    "x=100\n",
    "y=200\n",
    "print(x,y)"
   ]
  },
  {
   "cell_type": "code",
   "execution_count": 5,
   "id": "b6f6cef5-2887-4d3f-99c5-c3f968e9c20a",
   "metadata": {},
   "outputs": [
    {
     "name": "stdout",
     "output_type": "stream",
     "text": [
      "25.0 50.0\n"
     ]
    }
   ],
   "source": [
    "y=x/2\n",
    "x=y/2\n",
    "print(x,y)"
   ]
  },
  {
   "cell_type": "code",
   "execution_count": 6,
   "id": "e6988fc1-7cc2-45cc-887b-a5c54c96ec68",
   "metadata": {},
   "outputs": [
    {
     "name": "stdout",
     "output_type": "stream",
     "text": [
      "14\n"
     ]
    }
   ],
   "source": [
    "a=5\n",
    "b=a\n",
    "a=b+3\n",
    "b=a-2\n",
    "c=a+b\n",
    "print(c)"
   ]
  },
  {
   "cell_type": "code",
   "execution_count": 7,
   "id": "66d5158a-fb76-47c4-9a0a-b5af09329740",
   "metadata": {},
   "outputs": [],
   "source": [
    "a=5\n",
    "b=a\n",
    "a=b+3\n",
    "b=a-2\n",
    "c=a+b"
   ]
  },
  {
   "cell_type": "code",
   "execution_count": 8,
   "id": "5ed8773f-0648-43a4-afb2-2e59c5f1f909",
   "metadata": {},
   "outputs": [
    {
     "name": "stdout",
     "output_type": "stream",
     "text": [
      "8\n"
     ]
    }
   ],
   "source": [
    "a=5\n",
    "b=a\n",
    "a=b+3\n",
    "b=a-2\n",
    "c=a+b\n",
    "print(a)"
   ]
  },
  {
   "cell_type": "markdown",
   "id": "447ec490-f257-4ce2-a872-773cf7df1872",
   "metadata": {},
   "source": [
    "string and intiger can not be devided"
   ]
  },
  {
   "cell_type": "code",
   "execution_count": 12,
   "id": "36e80b93-25cd-4921-af1c-be4445e3c358",
   "metadata": {},
   "outputs": [
    {
     "ename": "TypeError",
     "evalue": "unsupported operand type(s) for /: 'str' and 'int'",
     "output_type": "error",
     "traceback": [
      "\u001b[1;31m---------------------------------------------------------------------------\u001b[0m",
      "\u001b[1;31mTypeError\u001b[0m                                 Traceback (most recent call last)",
      "Cell \u001b[1;32mIn[12], line 3\u001b[0m\n\u001b[0;32m      1\u001b[0m height\u001b[38;5;241m=\u001b[39m \u001b[38;5;124m\"\u001b[39m\u001b[38;5;124m175.5 cm\u001b[39m\u001b[38;5;124m\"\u001b[39m\n\u001b[0;32m      2\u001b[0m weight\u001b[38;5;241m=\u001b[39m\u001b[38;5;124m\"\u001b[39m\u001b[38;5;124m75.23 kg\u001b[39m\u001b[38;5;124m\"\u001b[39m \n\u001b[1;32m----> 3\u001b[0m bmi\u001b[38;5;241m=\u001b[39m weight\u001b[38;5;241m/\u001b[39m(height\u001b[38;5;241m/\u001b[39m\u001b[38;5;241m100\u001b[39m)\u001b[38;5;241m*\u001b[39m\u001b[38;5;241m*\u001b[39m\u001b[38;5;241m2\u001b[39m\n\u001b[0;32m      4\u001b[0m \u001b[38;5;28mprint\u001b[39m(\u001b[38;5;124m\"\u001b[39m\u001b[38;5;124mBMI IS\u001b[39m\u001b[38;5;124m\"\u001b[39m,bmi)\n",
      "\u001b[1;31mTypeError\u001b[0m: unsupported operand type(s) for /: 'str' and 'int'"
     ]
    }
   ],
   "source": [
    "height= \"175.5 cm\"\n",
    "weight=\"75.23 kg\" \n",
    "bmi= weight/(height/100)**2\n",
    "print(\"BMI IS\",bmi)"
   ]
  },
  {
   "cell_type": "code",
   "execution_count": 13,
   "id": "3da5ece0-d702-4f8e-a50e-b6b2e008916e",
   "metadata": {},
   "outputs": [
    {
     "name": "stdout",
     "output_type": "stream",
     "text": [
      "<class 'str'>\n",
      "<class 'str'>\n"
     ]
    }
   ],
   "source": [
    "print(type(height))\n",
    "print(type(weight))"
   ]
  },
  {
   "cell_type": "code",
   "execution_count": 14,
   "id": "d9cfdb4f-7ca6-49b7-a4b0-6e30959136a6",
   "metadata": {},
   "outputs": [
    {
     "data": {
      "text/plain": [
       "int"
      ]
     },
     "execution_count": 14,
     "metadata": {},
     "output_type": "execute_result"
    }
   ],
   "source": [
    "x=20\n",
    "type(x)"
   ]
  },
  {
   "cell_type": "code",
   "execution_count": 16,
   "id": "2ac5a941-9eb5-44cc-9fe5-f46d109f0fe7",
   "metadata": {},
   "outputs": [
    {
     "name": "stdout",
     "output_type": "stream",
     "text": [
      "<class 'float'>\n"
     ]
    }
   ],
   "source": [
    "y=56.5\n",
    "print(type(y))"
   ]
  },
  {
   "cell_type": "code",
   "execution_count": 17,
   "id": "40a37af3-0dd3-41f1-a28d-a6ed3643468a",
   "metadata": {},
   "outputs": [
    {
     "name": "stdout",
     "output_type": "stream",
     "text": [
      "hello world\n"
     ]
    }
   ],
   "source": [
    "x=45\n",
    "type(x)\n",
    "print(\"hello world\")"
   ]
  },
  {
   "cell_type": "code",
   "execution_count": 2,
   "id": "d453da03-e540-4aed-9ec2-01785c9a1d07",
   "metadata": {},
   "outputs": [
    {
     "name": "stdout",
     "output_type": "stream",
     "text": [
      "<class 'int'>\n",
      "hello world\n"
     ]
    }
   ],
   "source": [
    "x=45\n",
    "print(type(x))\n",
    "print(\"hello world\")"
   ]
  },
  {
   "cell_type": "markdown",
   "id": "f886b283-4334-4c33-9714-8d27459366f7",
   "metadata": {},
   "source": [
    "## Typecasting"
   ]
  },
  {
   "cell_type": "code",
   "execution_count": 3,
   "id": "2a618e16-4c7c-4839-bc65-ed1db4c14fad",
   "metadata": {},
   "outputs": [
    {
     "name": "stdout",
     "output_type": "stream",
     "text": [
      "<class 'int'>\n"
     ]
    }
   ],
   "source": [
    "height=189\n",
    "print(type(height))"
   ]
  },
  {
   "cell_type": "code",
   "execution_count": 4,
   "id": "20c5e261-dd82-4f4b-90e5-2932c57833f0",
   "metadata": {},
   "outputs": [
    {
     "name": "stdout",
     "output_type": "stream",
     "text": [
      "<class 'float'>\n",
      "189.0\n"
     ]
    }
   ],
   "source": [
    "## converting intiger into floot\n",
    "height=float(height)\n",
    "print(type(height))\n",
    "print(height)"
   ]
  },
  {
   "cell_type": "code",
   "execution_count": 5,
   "id": "808a7df8-dd72-4a5d-b39a-0d2d72b2a253",
   "metadata": {},
   "outputs": [
    {
     "name": "stdout",
     "output_type": "stream",
     "text": [
      "<class 'str'>\n",
      "189.0\n"
     ]
    }
   ],
   "source": [
    "##converting float into string(str)\n",
    "height=str(height)\n",
    "print(type(height))\n",
    "print(height)"
   ]
  },
  {
   "cell_type": "code",
   "execution_count": 2,
   "id": "ee79e4df-cca4-4c69-831e-6b7c35aec9ea",
   "metadata": {},
   "outputs": [
    {
     "name": "stdout",
     "output_type": "stream",
     "text": [
      "<class 'int'>\n",
      "123\n"
     ]
    }
   ],
   "source": [
    "greeting=123\n",
    "greeting=int(greeting)\n",
    "print(type(greeting))\n",
    "print(greeting)"
   ]
  },
  {
   "cell_type": "markdown",
   "id": "763ff33c-eb51-4227-93a9-749219f98c85",
   "metadata": {},
   "source": [
    " we cant change string alphabets into intiger if theere will be the any number under the\n",
    "string then it it could be convert into intiger"
   ]
  },
  {
   "cell_type": "markdown",
   "id": "f7c76261-c999-413e-893c-aedd33b5df82",
   "metadata": {},
   "source": [
    "## ruels for name of variables\n",
    "\n",
    "### 1- A variable name an not start with a number or any special charecter(@,#,$,%,^,&,*)\n",
    "### 2- A variable name can only contain alphabets, number and underscore.\n",
    "### 3- The use of special charecter is prohibited.\n",
    "### 4- Variable names are case- senstive in python.\n",
    "### 5- Python keywords cannot be used a variable name."
   ]
  },
  {
   "cell_type": "code",
   "execution_count": 3,
   "id": "3cf3875d-3f13-40ea-a2a3-95045520c81e",
   "metadata": {},
   "outputs": [
    {
     "name": "stdout",
     "output_type": "stream",
     "text": [
      "hello @ world\n"
     ]
    }
   ],
   "source": [
    "print(\"hello @ world\")"
   ]
  },
  {
   "cell_type": "code",
   "execution_count": 4,
   "id": "d2c40c99-140c-42fa-acce-528a0ddfd5c6",
   "metadata": {},
   "outputs": [
    {
     "name": "stdout",
     "output_type": "stream",
     "text": [
      "@helloworld\n"
     ]
    }
   ],
   "source": [
    "print(\"@helloworld\")"
   ]
  },
  {
   "cell_type": "markdown",
   "id": "7f42fdb4-3e44-476a-bc19-404bf15899c0",
   "metadata": {},
   "source": [
    "print(#\"hello world\")"
   ]
  },
  {
   "cell_type": "markdown",
   "id": "33a5bf7f-36fb-48b1-b2ed-8dfde276ad45",
   "metadata": {},
   "source": [
    "# important topics related to variable\n"
   ]
  },
  {
   "cell_type": "markdown",
   "id": "5c9c1c3a-649f-4eeb-811f-a3e28de38d9d",
   "metadata": {},
   "source": [
    "### 1.storing an expression in a variable"
   ]
  },
  {
   "cell_type": "code",
   "execution_count": 4,
   "id": "b2b97c69-ed21-4964-888f-1c514b57616e",
   "metadata": {},
   "outputs": [
    {
     "name": "stdout",
     "output_type": "stream",
     "text": [
      "cat\n"
     ]
    }
   ],
   "source": [
    "animal_1 = \"c\"+\"a\"+\"t\" #\"c\"+\"a\"+\"t\" is a expression\n",
    "print(animal_1)"
   ]
  },
  {
   "cell_type": "code",
   "execution_count": 7,
   "id": "0666f395-a82c-4efb-9e19-053879cf5d16",
   "metadata": {},
   "outputs": [
    {
     "name": "stdout",
     "output_type": "stream",
     "text": [
      "caatdog\n"
     ]
    }
   ],
   "source": [
    "animal_2 =\"dog\"\n",
    "combined_animal = animal_1+animal_2 #animal_1 +animal_2is an expression\n",
    "print(combined_animal)"
   ]
  },
  {
   "cell_type": "code",
   "execution_count": 11,
   "id": "bec742b0-03b6-4333-90e7-b925acd845e9",
   "metadata": {},
   "outputs": [
    {
     "name": "stdout",
     "output_type": "stream",
     "text": [
      "46\n"
     ]
    }
   ],
   "source": [
    "new_variable = 12+34 #12+34 is an expression\n",
    "print(new_variable)"
   ]
  },
  {
   "cell_type": "markdown",
   "id": "97f71777-9c70-4902-9f48-12ff363eebc2",
   "metadata": {},
   "source": [
    " ### 2.storing one variable to another"
   ]
  },
  {
   "cell_type": "code",
   "execution_count": 12,
   "id": "3f11f44d-bb8b-4207-b7fb-c5e6d513f490",
   "metadata": {},
   "outputs": [
    {
     "name": "stdout",
     "output_type": "stream",
     "text": [
      "56\n",
      "56\n"
     ]
    }
   ],
   "source": [
    "x =56\n",
    "y=x\n",
    "print(x)\n",
    "print(y)"
   ]
  },
  {
   "cell_type": "code",
   "execution_count": 13,
   "id": "768c25bd-110c-4f0e-b184-e81bdd20db77",
   "metadata": {},
   "outputs": [
    {
     "name": "stdout",
     "output_type": "stream",
     "text": [
      "18\n",
      "56\n"
     ]
    }
   ],
   "source": [
    "x= 18\n",
    "print(x)\n",
    "print(y)"
   ]
  },
  {
   "cell_type": "code",
   "execution_count": 14,
   "id": "770cef2a-7cc5-4694-862e-9db2076dcc5b",
   "metadata": {},
   "outputs": [
    {
     "name": "stdout",
     "output_type": "stream",
     "text": [
      "12\n",
      "12\n",
      "12\n"
     ]
    }
   ],
   "source": [
    "var_x = 12\n",
    "var_z = var_y = var_x\n",
    "\n",
    "print(var_x)\n",
    "print(var_y)\n",
    "print(var_z)"
   ]
  },
  {
   "cell_type": "code",
   "execution_count": 16,
   "id": "2df036b6-c351-46af-8aa7-dca47d89c89b",
   "metadata": {},
   "outputs": [
    {
     "name": "stdout",
     "output_type": "stream",
     "text": [
      "35\n",
      "12\n"
     ]
    }
   ],
   "source": [
    "var_x=35\n",
    "print(var_x)\n",
    "print(var_z)"
   ]
  },
  {
   "cell_type": "code",
   "execution_count": 17,
   "id": "be58f646-76ba-4d98-8165-26cd06e3d2d4",
   "metadata": {},
   "outputs": [
    {
     "name": "stdout",
     "output_type": "stream",
     "text": [
      "35\n",
      "12\n"
     ]
    }
   ],
   "source": [
    "var_z=43\n",
    "print(var_x)\n",
    "print(var_y)"
   ]
  },
  {
   "cell_type": "markdown",
   "id": "bfd92edf-6735-4479-b35b-0976659a21fb",
   "metadata": {},
   "source": [
    " ### 3.multiple variable creation"
   ]
  },
  {
   "cell_type": "code",
   "execution_count": 18,
   "id": "e51237a1-446b-41e8-b747-e4663a5af1f6",
   "metadata": {},
   "outputs": [
    {
     "name": "stdout",
     "output_type": "stream",
     "text": [
      "Gaurav\n",
      "rohit\n",
      "kartik\n"
     ]
    }
   ],
   "source": [
    "student_1= \"Gaurav\"\n",
    "student_2= \"rohit\"\n",
    "student_3= \"kartik\"\n",
    "print(student_1)\n",
    "print(student_2)\n",
    "print(student_3)"
   ]
  },
  {
   "cell_type": "code",
   "execution_count": 19,
   "id": "9d91baba-c51e-4e6e-898b-2106ba58ab98",
   "metadata": {},
   "outputs": [],
   "source": [
    "std_1,std_2, std_3 = \"Gaurav\",\"rohit\", \"kartik\""
   ]
  },
  {
   "cell_type": "code",
   "execution_count": 20,
   "id": "a139c171-2a43-4d30-97c9-3858d668180b",
   "metadata": {},
   "outputs": [
    {
     "name": "stdout",
     "output_type": "stream",
     "text": [
      "Gaurav\n",
      "rohit\n",
      "kartik\n"
     ]
    }
   ],
   "source": [
    "print(std_1)\n",
    "print(std_2)\n",
    "print(std_3)"
   ]
  },
  {
   "cell_type": "markdown",
   "id": "493737f6-4ead-43dd-a6ea-40aa33e2f557",
   "metadata": {},
   "source": [
    " ### 4.Reassining a variable"
   ]
  },
  {
   "cell_type": "code",
   "execution_count": 22,
   "id": "ceb4ba58-3776-4030-abc9-1c2356c19019",
   "metadata": {},
   "outputs": [
    {
     "name": "stdout",
     "output_type": "stream",
     "text": [
      "this is age\n"
     ]
    }
   ],
   "source": [
    "user_age = 20\n",
    "print(user1_age)"
   ]
  },
  {
   "cell_type": "code",
   "execution_count": 23,
   "id": "c4646d3a-b445-497f-8dce-dafcd12b0cc4",
   "metadata": {},
   "outputs": [
    {
     "name": "stdout",
     "output_type": "stream",
     "text": [
      "45\n"
     ]
    }
   ],
   "source": [
    "user1_age = 45\n",
    "print(user1_age)"
   ]
  },
  {
   "cell_type": "code",
   "execution_count": 21,
   "id": "f3010cb4-f6c0-40cf-9bda-c1f333baff5d",
   "metadata": {},
   "outputs": [
    {
     "name": "stdout",
     "output_type": "stream",
     "text": [
      "this is age\n"
     ]
    }
   ],
   "source": [
    "user1_age = \"this is age\"\n",
    "print(user1_age)"
   ]
  },
  {
   "cell_type": "markdown",
   "id": "a6872ef2-8746-4aff-947e-903cc8bbcfd1",
   "metadata": {},
   "source": [
    " ### 5. Constant Variable"
   ]
  },
  {
   "cell_type": "markdown",
   "id": "60df6505-4dc8-4e41-998f-21769003a79e",
   "metadata": {},
   "source": [
    "To define a variable whose value we do not want to change in the whole program, we write the name that variable in a\n",
    "capital letter.this is a common practice but not enforced by python."
   ]
  },
  {
   "cell_type": "code",
   "execution_count": 24,
   "id": "2ca11998-5c2c-4693-a3aa-50b948da6215",
   "metadata": {},
   "outputs": [
    {
     "name": "stdout",
     "output_type": "stream",
     "text": [
      "3.14\n"
     ]
    }
   ],
   "source": [
    "PI =3.14 #constant\n",
    "print(PI)"
   ]
  },
  {
   "cell_type": "code",
   "execution_count": null,
   "id": "db8479c3-f85c-4d0a-90a4-5ffed188f3bf",
   "metadata": {},
   "outputs": [],
   "source": [
    "it is still possible to change the value of this constant variable."
   ]
  },
  {
   "cell_type": "code",
   "execution_count": 25,
   "id": "e562eef6-fe07-4642-b223-610b65d66f74",
   "metadata": {},
   "outputs": [
    {
     "name": "stdout",
     "output_type": "stream",
     "text": [
      "2.18\n"
     ]
    }
   ],
   "source": [
    "PI= 2.18\n",
    "print(PI)"
   ]
  },
  {
   "cell_type": "markdown",
   "id": "21680fcb-a046-42f2-8cd5-b8967632cc0a",
   "metadata": {},
   "source": [
    " ### 6.Deliting variable"
   ]
  },
  {
   "cell_type": "code",
   "execution_count": 26,
   "id": "9c2e8dc5-2e55-49fe-8a18-33fa35530ef7",
   "metadata": {},
   "outputs": [
    {
     "name": "stdout",
     "output_type": "stream",
     "text": [
      "10\n"
     ]
    }
   ],
   "source": [
    "x= 10\n",
    "print(x)"
   ]
  },
  {
   "cell_type": "code",
   "execution_count": 27,
   "id": "956ca97f-e2ab-4c4f-ada8-7419e2ab8c64",
   "metadata": {},
   "outputs": [
    {
     "name": "stdout",
     "output_type": "stream",
     "text": [
      "12 hello world\n"
     ]
    }
   ],
   "source": [
    "a= 12\n",
    "b= \"hello world\"\n",
    "print(a,b)"
   ]
  },
  {
   "cell_type": "code",
   "execution_count": 28,
   "id": "69ab7fae-8761-4e5e-9eef-a8108cff986b",
   "metadata": {},
   "outputs": [],
   "source": [
    "del(a,b)"
   ]
  },
  {
   "cell_type": "code",
   "execution_count": 29,
   "id": "44044bdd-a5e7-456d-8a0c-a08a667f6494",
   "metadata": {},
   "outputs": [
    {
     "ename": "NameError",
     "evalue": "name 'a' is not defined",
     "output_type": "error",
     "traceback": [
      "\u001b[1;31m---------------------------------------------------------------------------\u001b[0m",
      "\u001b[1;31mNameError\u001b[0m                                 Traceback (most recent call last)",
      "Cell \u001b[1;32mIn[29], line 1\u001b[0m\n\u001b[1;32m----> 1\u001b[0m \u001b[38;5;28mprint\u001b[39m(a,b)\n",
      "\u001b[1;31mNameError\u001b[0m: name 'a' is not defined"
     ]
    }
   ],
   "source": [
    "print(a,b)"
   ]
  },
  {
   "cell_type": "code",
   "execution_count": 31,
   "id": "724aa6c7-2bcd-4dfa-b83d-1c840109d2e2",
   "metadata": {},
   "outputs": [],
   "source": [
    "# write a program to swap the valus of two variables var_1 and var_2\n",
    "\n",
    "var_1=23\n",
    "var_2=94"
   ]
  },
  {
   "cell_type": "code",
   "execution_count": 3,
   "id": "64d14552-0441-4a3f-887e-c8725332428f",
   "metadata": {},
   "outputs": [
    {
     "ename": "NameError",
     "evalue": "name 'var_1' is not defined",
     "output_type": "error",
     "traceback": [
      "\u001b[1;31m---------------------------------------------------------------------------\u001b[0m",
      "\u001b[1;31mNameError\u001b[0m                                 Traceback (most recent call last)",
      "Cell \u001b[1;32mIn[3], line 1\u001b[0m\n\u001b[1;32m----> 1\u001b[0m \u001b[38;5;28mprint\u001b[39m(var_1,var_2)\n",
      "\u001b[1;31mNameError\u001b[0m: name 'var_1' is not defined"
     ]
    }
   ],
   "source": [
    "print(var_1,var_2)"
   ]
  },
  {
   "cell_type": "code",
   "execution_count": 4,
   "id": "5a9b5337-6377-4c7b-bb85-38bbded789cc",
   "metadata": {},
   "outputs": [],
   "source": [
    "# write a program to swap the valus of two variables var_1 and var_2\n",
    "\n",
    "var_1=23\n",
    "var_2=94\n",
    "(var_1,var_2)\n",
    "(var_2,var_1)"
   ]
  },
  {
   "cell_type": "code",
   "execution_count": 7,
   "id": "9cd3588c-11f8-48c6-9c5f-e96d2b4768ca",
   "metadata": {},
   "outputs": [
    {
     "name": "stdout",
     "output_type": "stream",
     "text": [
      "23 94\n"
     ]
    }
   ],
   "source": [
    "print(var_1,var_2)"
   ]
  },
  {
   "cell_type": "code",
   "execution_count": 9,
   "id": "51e425d2-5477-46a4-86ba-651cd88d03ca",
   "metadata": {},
   "outputs": [
    {
     "name": "stdout",
     "output_type": "stream",
     "text": [
      "23 94\n"
     ]
    }
   ],
   "source": [
    "var_1= 23\n",
    "var_2= 94\n",
    "print(var_1,var_2)\n",
    "var_1=var_2\n",
    "var_2=var_1"
   ]
  },
  {
   "cell_type": "code",
   "execution_count": 10,
   "id": "7b222d5e-422c-4dbf-8b27-693a49b4b23c",
   "metadata": {},
   "outputs": [
    {
     "name": "stdout",
     "output_type": "stream",
     "text": [
      "23 94\n",
      "94 23\n"
     ]
    }
   ],
   "source": [
    "var_1= 23\n",
    "var_2= 94\n",
    "print(var_1,var_2)\n",
    "var_1,var_2 = var_2,var_1\n",
    "print(var_1,var_2)"
   ]
  },
  {
   "cell_type": "code",
   "execution_count": null,
   "id": "1411eb5b-fbdb-4b95-bdba-7d5fdf0322da",
   "metadata": {},
   "outputs": [],
   "source": []
  }
 ],
 "metadata": {
  "kernelspec": {
   "display_name": "Python [conda env:base] *",
   "language": "python",
   "name": "conda-base-py"
  },
  "language_info": {
   "codemirror_mode": {
    "name": "ipython",
    "version": 3
   },
   "file_extension": ".py",
   "mimetype": "text/x-python",
   "name": "python",
   "nbconvert_exporter": "python",
   "pygments_lexer": "ipython3",
   "version": "3.13.5"
  }
 },
 "nbformat": 4,
 "nbformat_minor": 5
}
