{
 "cells": [
  {
   "cell_type": "code",
   "execution_count": null,
   "id": "6d52fe76-2dbe-4ce9-9e40-c88b210a339d",
   "metadata": {},
   "outputs": [],
   "source": [
    "x=int"
   ]
  },
  {
   "cell_type": "code",
   "execution_count": null,
   "id": "1f2d7caf-92fb-424e-9306-d36a487e53ad",
   "metadata": {},
   "outputs": [
    {
     "name": "stdin",
     "output_type": "stream",
     "text": [
      " 12\n",
      " 5\n"
     ]
    },
    {
     "name": "stdout",
     "output_type": "stream",
     "text": [
      "17\n"
     ]
    }
   ],
   "source": [
    "(input())\n",
    "y=int(input())\n",
    "z=x+y\n",
    "print(z)"
   ]
  },
  {
   "cell_type": "code",
   "execution_count": 11,
   "id": "62ba9ae3-f51c-4901-a1b2-339837eb4969",
   "metadata": {},
   "outputs": [
    {
     "name": "stdin",
     "output_type": "stream",
     "text": [
      " 12.5\n",
      " 56.8\n"
     ]
    },
    {
     "name": "stdout",
     "output_type": "stream",
     "text": [
      "69.3\n"
     ]
    }
   ],
   "source": [
    "x=float(input())\n",
    "y=float(input())\n",
    "z=x+y\n",
    "print(z)\n"
   ]
  },
  {
   "cell_type": "code",
   "execution_count": 9,
   "id": "b8476809-9c82-4616-b28e-368758b95d4a",
   "metadata": {},
   "outputs": [
    {
     "name": "stdin",
     "output_type": "stream",
     "text": [
      " 12\n",
      " 5\n"
     ]
    },
    {
     "name": "stdout",
     "output_type": "stream",
     "text": [
      "17\n"
     ]
    }
   ],
   "source": [
    "x=int(input())\n",
    "y=int(input())\n",
    "z=x+y\n",
    "print(z)"
   ]
  },
  {
   "cell_type": "code",
   "execution_count": 4,
   "id": "6d7349cd-7a24-4bfa-a1f0-24dd64147869",
   "metadata": {},
   "outputs": [
    {
     "name": "stdin",
     "output_type": "stream",
     "text": [
      " 8\n",
      " 3\n"
     ]
    },
    {
     "name": "stdout",
     "output_type": "stream",
     "text": [
      "5\n"
     ]
    }
   ],
   "source": [
    "x=int(input())\n",
    "y=int(input())\n",
    "z=x-y\n",
    "print(z)"
   ]
  },
  {
   "cell_type": "code",
   "execution_count": 5,
   "id": "421b61cc-9e20-498c-ad9d-3c14c9d66e88",
   "metadata": {},
   "outputs": [
    {
     "name": "stdin",
     "output_type": "stream",
     "text": [
      " 5\n",
      " 9\n"
     ]
    },
    {
     "name": "stdout",
     "output_type": "stream",
     "text": [
      "45\n"
     ]
    }
   ],
   "source": [
    "x=int(input())\n",
    "y=int(input())\n",
    "z=x*y\n",
    "print(z)"
   ]
  },
  {
   "cell_type": "code",
   "execution_count": 7,
   "id": "8cd49a69-cf2d-49a0-828d-9fc9bdafb3c6",
   "metadata": {},
   "outputs": [
    {
     "name": "stdin",
     "output_type": "stream",
     "text": [
      " 5\n",
      " 8\n"
     ]
    },
    {
     "name": "stdout",
     "output_type": "stream",
     "text": [
      "0.625\n"
     ]
    }
   ],
   "source": [
    "x=int(input())\n",
    "y=int(input())\n",
    "z=x/y\n",
    "print(z)\n"
   ]
  },
  {
   "cell_type": "code",
   "execution_count": 12,
   "id": "1bf011ec-66cf-41a7-9464-6e65c3d1efb1",
   "metadata": {},
   "outputs": [
    {
     "name": "stdin",
     "output_type": "stream",
     "text": [
      "Enter your number 12\n",
      "Enter your number 20\n",
      "operator: +\n"
     ]
    },
    {
     "name": "stdout",
     "output_type": "stream",
     "text": [
      "32\n"
     ]
    }
   ],
   "source": [
    "a=int(input(\"Enter your number\"))\n",
    "b=int(input(\"Enter your number\"))\n",
    "c=input(\"operator:\")\n",
    "if c==\"+\":\n",
    "    print(a+b)\n",
    "else:\n",
    "    print(\"not valid\")"
   ]
  },
  {
   "cell_type": "code",
   "execution_count": 16,
   "id": "c58e818a-13f3-4784-9d72-9c4257a6902e",
   "metadata": {},
   "outputs": [
    {
     "name": "stdin",
     "output_type": "stream",
     "text": [
      "enter your number 12\n",
      "enter your number 54\n",
      "operator: +\n"
     ]
    },
    {
     "name": "stdout",
     "output_type": "stream",
     "text": [
      "66.0\n"
     ]
    }
   ],
   "source": [
    "a=float(input(\"enter your number\"))\n",
    "b=float(input(\"enter your number\"))\n",
    "c=input(\"operator:\")\n",
    "if c==\"+\":\n",
    "    print(a+b)\n",
    "else:\n",
    "    print(\"no valied\")"
   ]
  },
  {
   "cell_type": "code",
   "execution_count": 17,
   "id": "e1ff3b56-5db1-42b6-86dc-e019139d6ece",
   "metadata": {},
   "outputs": [
    {
     "name": "stdin",
     "output_type": "stream",
     "text": [
      "enter your number 65\n",
      "enter your number 23\n",
      "operator: -\n"
     ]
    },
    {
     "name": "stdout",
     "output_type": "stream",
     "text": [
      "42.0\n"
     ]
    }
   ],
   "source": [
    "a=float(input(\"enter your number\"))\n",
    "b=float(input(\"enter your number\"))\n",
    "c=input(\"operator:\")\n",
    "if c==\"-\":\n",
    "    print(a-b)\n",
    "else:\n",
    "    print(\"no valied\")"
   ]
  },
  {
   "cell_type": "code",
   "execution_count": 23,
   "id": "899b8ad5-a9ce-48fe-a58a-a1f768602e58",
   "metadata": {},
   "outputs": [
    {
     "name": "stdin",
     "output_type": "stream",
     "text": [
      "enter your number 12\n",
      "enter your number 54\n",
      "operator: *\n"
     ]
    },
    {
     "name": "stdout",
     "output_type": "stream",
     "text": [
      "648.0\n"
     ]
    }
   ],
   "source": [
    "a=float(input(\"enter your number\"))\n",
    "b=float(input(\"enter your number\"))\n",
    "c=input(\"operator:\")\n",
    "if c==\"*\":\n",
    "    print(a*b)\n",
    "else:\n",
    "    print(\"no valied\")\n",
    "\n",
    "    \n",
    "    "
   ]
  },
  {
   "cell_type": "code",
   "execution_count": 25,
   "id": "aa9051ba-bfb0-4f69-94cd-93e134518ff4",
   "metadata": {},
   "outputs": [
    {
     "name": "stdin",
     "output_type": "stream",
     "text": [
      "enter  your number  98\n",
      "enter your number 9\n",
      "operator: /\n"
     ]
    },
    {
     "name": "stdout",
     "output_type": "stream",
     "text": [
      "10.88888888888889\n"
     ]
    }
   ],
   "source": [
    "a=float(input(\"enter  your number \"))\n",
    "b=float(input(\"enter your number\"))\n",
    "c=input(\"operator:\")\n",
    "if c==\"/\":\n",
    "    print(a/b)\n",
    "else:\n",
    "    print(\"no valied\")\n"
   ]
  },
  {
   "cell_type": "code",
   "execution_count": 2,
   "id": "96601395-71cf-480c-9fcd-0756d783ae65",
   "metadata": {},
   "outputs": [
    {
     "name": "stdin",
     "output_type": "stream",
     "text": [
      "first number: 46\n",
      "second number: 8\n"
     ]
    },
    {
     "name": "stdout",
     "output_type": "stream",
     "text": [
      "multiplication: 368.0\n"
     ]
    }
   ],
   "source": [
    "a=float(input(\"first number:\"))\n",
    "b=float(input(\"second number:\"))\n",
    "if True:\n",
    "    print(\"multiplication:\",a*b)\n",
    "else:\n",
    "    print(\"eror\")"
   ]
  },
  {
   "cell_type": "code",
   "execution_count": 3,
   "id": "2f40bf10-4771-485a-8438-2dd50da8b0b7",
   "metadata": {},
   "outputs": [
    {
     "name": "stdin",
     "output_type": "stream",
     "text": [
      "first number: 15\n",
      "second number: 67\n"
     ]
    },
    {
     "name": "stdout",
     "output_type": "stream",
     "text": [
      "multipliation: 1005.0\n"
     ]
    }
   ],
   "source": [
    "a=float(input(\"first number:\"))\n",
    "b=float(input(\"second number:\"))\n",
    "if a==0 or b==0:\n",
    "    print(\"error:\")\n",
    "elif a<0 or b<0:\n",
    "    print(\"error:\")\n",
    "elif a>100 or b>100:\n",
    "    print(\"error:\")\n",
    "else:\n",
    "    print(\"multipliation:\",a*b)"
   ]
  },
  {
   "cell_type": "code",
   "execution_count": 4,
   "id": "63672f49-96b7-454f-9cb7-ea27f619e5fd",
   "metadata": {},
   "outputs": [
    {
     "name": "stdin",
     "output_type": "stream",
     "text": [
      "first number: 12\n",
      "second number: 0\n"
     ]
    },
    {
     "name": "stdout",
     "output_type": "stream",
     "text": [
      "error:\n"
     ]
    }
   ],
   "source": [
    "a=float(input(\"first number:\"))\n",
    "b=float(input(\"second number:\"))\n",
    "if a==0 or b==0:\n",
    "    print(\"error:\")\n",
    "elif a<0 or b<0:\n",
    "    print(\"error:\")\n",
    "elif a>100 or b>100:\n",
    "    print(\"error:\")\n",
    "else:\n",
    "    print(\"multipliation:\",a*b)"
   ]
  },
  {
   "cell_type": "code",
   "execution_count": 5,
   "id": "f688414b-258f-4b2f-b5b6-6be8c3a8f490",
   "metadata": {},
   "outputs": [
    {
     "name": "stdin",
     "output_type": "stream",
     "text": [
      "first number: 80\n",
      "second number: 7\n"
     ]
    },
    {
     "name": "stdout",
     "output_type": "stream",
     "text": [
      "multipliation: 560.0\n"
     ]
    }
   ],
   "source": [
    "a=float(input(\"first number:\"))\n",
    "b=float(input(\"second number:\"))\n",
    "if a==0 or b==0:\n",
    "    print(\"error:\")\n",
    "elif a<0 or b<0:\n",
    "    print(\"error:\")\n",
    "elif a>100 or b>100:\n",
    "    print(\"error:\")\n",
    "else:\n",
    "    print(\"multipliation:\",a*b)"
   ]
  },
  {
   "cell_type": "code",
   "execution_count": 5,
   "id": "99449181-143b-4130-8c84-bc5cbfc98ba1",
   "metadata": {},
   "outputs": [
    {
     "name": "stdin",
     "output_type": "stream",
     "text": [
      "enter first number 34\n",
      "enter second number 56\n",
      "choice of operator +\n"
     ]
    },
    {
     "data": {
      "text/plain": [
       "90.0"
      ]
     },
     "execution_count": 5,
     "metadata": {},
     "output_type": "execute_result"
    }
   ],
   "source": [
    "def calculator ():\n",
    "    num1=float(input(\"enter first number\"))\n",
    "    num2=float(input(\"enter second number\"))\n",
    "    operator=input(\"choice of operator\")\n",
    "\n",
    "    if operator==\"+\":\n",
    "        return num1+num2\n",
    "    elif operator==\"-\":\n",
    "        return num1-num2\n",
    "    elif operator==\"*\":\n",
    "        return num1*num2\n",
    "    elif operator==\"/\":\n",
    "        return num1/num2\n",
    "\n",
    "    else:\n",
    "        print(\"invalid operator\")\n",
    "        \n",
    "calculator()    "
   ]
  },
  {
   "cell_type": "code",
   "execution_count": null,
   "id": "845bfb1c-56e9-4836-b7b2-e6da95f3eec7",
   "metadata": {},
   "outputs": [],
   "source": []
  },
  {
   "cell_type": "code",
   "execution_count": null,
   "id": "a875eee6-2d35-468c-ab2f-08c532c330c1",
   "metadata": {},
   "outputs": [],
   "source": []
  }
 ],
 "metadata": {
  "kernelspec": {
   "display_name": "Python [conda env:base] *",
   "language": "python",
   "name": "conda-base-py"
  },
  "language_info": {
   "codemirror_mode": {
    "name": "ipython",
    "version": 3
   },
   "file_extension": ".py",
   "mimetype": "text/x-python",
   "name": "python",
   "nbconvert_exporter": "python",
   "pygments_lexer": "ipython3",
   "version": "3.13.5"
  }
 },
 "nbformat": 4,
 "nbformat_minor": 5
}
