{
 "cells": [
  {
   "cell_type": "markdown",
   "id": "eb9f1937-bf61-42b3-acd8-04bcf8b8cd30",
   "metadata": {},
   "source": [
    "# indaxing"
   ]
  },
  {
   "cell_type": "markdown",
   "id": "b2c81cbe-6a51-4a56-9c45-ef726c701f6b",
   "metadata": {},
   "source": [
    "indaxing means accessing individual charecter (element) of a string by is position within  the string"
   ]
  },
  {
   "cell_type": "markdown",
   "id": "4acff71d-a8c3-4160-8438-a4672d20b151",
   "metadata": {},
   "source": [
    "  # syntax for indaxing - variable_name [index]"
   ]
  },
  {
   "cell_type": "markdown",
   "id": "c8c57fb6-d37d-4ded-b2e0-9e84965086ad",
   "metadata": {},
   "source": [
    " # note -positive index starts with 0"
   ]
  },
  {
   "cell_type": "code",
   "execution_count": 1,
   "id": "edeb132a-8ed6-4d2b-8071-476ab2103e0f",
   "metadata": {},
   "outputs": [
    {
     "name": "stdout",
     "output_type": "stream",
     "text": [
      "p\n"
     ]
    }
   ],
   "source": [
    "example = \"python is easy\"\n",
    "print(example[0])"
   ]
  },
  {
   "cell_type": "code",
   "execution_count": 2,
   "id": "ac6cbdc3-0b3a-45d0-a4eb-373a97067165",
   "metadata": {},
   "outputs": [
    {
     "name": "stdout",
     "output_type": "stream",
     "text": [
      "i\n"
     ]
    }
   ],
   "source": [
    "print(example[7])"
   ]
  },
  {
   "cell_type": "markdown",
   "id": "b5888900-c2e3-4740-a0bc-7a0289bdc350",
   "metadata": {},
   "source": [
    " # exercise"
   ]
  },
  {
   "cell_type": "code",
   "execution_count": 4,
   "id": "f77314fb-8983-414f-8e8d-e4771d3d74cc",
   "metadata": {},
   "outputs": [
    {
     "name": "stdout",
     "output_type": "stream",
     "text": [
      "I\n",
      "i\n"
     ]
    }
   ],
   "source": [
    "country=\"India\"\n",
    "# Q1: print \n",
    "print(country[0])\n",
    "\n",
    "#Q2: print\"i\"\n",
    "print(country[3])"
   ]
  },
  {
   "cell_type": "markdown",
   "id": "35e026a9-ee70-45d2-ae2d-898731454e76",
   "metadata": {},
   "source": [
    "## NOTE NEGETIVE INDEX STARTS WITH -1 FROMR THE RIGHT SIDE"
   ]
  },
  {
   "cell_type": "code",
   "execution_count": 8,
   "id": "eae04c18-d0e4-42b6-bd74-788ec5b60f0b",
   "metadata": {},
   "outputs": [
    {
     "name": "stdout",
     "output_type": "stream",
     "text": [
      "P\n"
     ]
    }
   ],
   "source": [
    "example= \"PYTHON IS EASY \"\n",
    "print(example[-15])"
   ]
  },
  {
   "cell_type": "code",
   "execution_count": 21,
   "id": "7cf88e33-0244-4200-91e7-4393cb633f81",
   "metadata": {},
   "outputs": [
    {
     "name": "stdout",
     "output_type": "stream",
     "text": [
      "o\n",
      "o\n"
     ]
    }
   ],
   "source": [
    "example= \"Discovery\"\n",
    "# O1 print\"o\" using both positive and negetive indexing\n",
    "print(example[4])\n",
    "print(example[-5])"
   ]
  },
  {
   "cell_type": "markdown",
   "id": "57ed32bd-b6f8-43f7-910d-8b49b65e79cb",
   "metadata": {},
   "source": [
    "# slicing"
   ]
  },
  {
   "cell_type": "markdown",
   "id": "a0eae601-3592-4245-8ec5-938b0a6ae6a8",
   "metadata": {},
   "source": [
    "slicing mean ccesing a subject of a  string bassesd on in indics (index)"
   ]
  },
  {
   "cell_type": "markdown",
   "id": "5569f383-50d3-45bb-a3b9-e0b05422ef89",
   "metadata": {},
   "source": [
    " ## positive slicing"
   ]
  },
  {
   "cell_type": "code",
   "execution_count": null,
   "id": "bd65aa49-ba0e-4cde-94ee-08e8b3ce557e",
   "metadata": {},
   "outputs": [],
   "source": []
  },
  {
   "cell_type": "code",
   "execution_count": null,
   "id": "d41c8a02-77a7-4d7b-8cea-48b7b36801ab",
   "metadata": {},
   "outputs": [],
   "source": []
  },
  {
   "cell_type": "code",
   "execution_count": null,
   "id": "9f63b0ea-dd0d-47b4-a935-162493c33025",
   "metadata": {},
   "outputs": [],
   "source": [
    "string [start index :stop index]"
   ]
  },
  {
   "cell_type": "code",
   "execution_count": 11,
   "id": "de4acd8c-f9f0-4ab0-bea0-ac4a2744de5b",
   "metadata": {},
   "outputs": [
    {
     "data": {
      "text/plain": [
       "'PYTHO'"
      ]
     },
     "execution_count": 11,
     "metadata": {},
     "output_type": "execute_result"
    }
   ],
   "source": [
    "# string [start index:stopindex]\n",
    "example=\"PYTHON IS EASY\"\n",
    "example[0:5]"
   ]
  },
  {
   "cell_type": "code",
   "execution_count": 12,
   "id": "4aebd364-43a0-47c5-b106-874a7fa6e0ba",
   "metadata": {},
   "outputs": [
    {
     "name": "stdout",
     "output_type": "stream",
     "text": [
      "PYTHON\n"
     ]
    }
   ],
   "source": [
    "print (example[0:6])"
   ]
  },
  {
   "cell_type": "code",
   "execution_count": 13,
   "id": "fecaec54-6265-4b8b-b024-56974d1a2468",
   "metadata": {},
   "outputs": [
    {
     "name": "stdout",
     "output_type": "stream",
     "text": [
      "N IS E\n"
     ]
    }
   ],
   "source": [
    "print(example[5:11])"
   ]
  },
  {
   "cell_type": "code",
   "execution_count": null,
   "id": "43bca61f-e356-4962-b628-6959053523ae",
   "metadata": {},
   "outputs": [],
   "source": [
    "PYTHON IS EASY"
   ]
  },
  {
   "cell_type": "code",
   "execution_count": 15,
   "id": "67129070-0a00-4211-b7c8-d1247791b7a0",
   "metadata": {},
   "outputs": [
    {
     "data": {
      "text/plain": [
       "'ON IS EASY'"
      ]
     },
     "execution_count": 15,
     "metadata": {},
     "output_type": "execute_result"
    }
   ],
   "source": [
    "#leave the stop index blank\n",
    "example[4:]"
   ]
  },
  {
   "cell_type": "code",
   "execution_count": 16,
   "id": "433bd2c7-bcd2-483b-94fc-48e344da9b1a",
   "metadata": {},
   "outputs": [
    {
     "data": {
      "text/plain": [
       "'YTHON IS EASY'"
      ]
     },
     "execution_count": 16,
     "metadata": {},
     "output_type": "execute_result"
    }
   ],
   "source": [
    "example[1:]"
   ]
  },
  {
   "cell_type": "code",
   "execution_count": 17,
   "id": "0b28b887-8d56-4ae3-b26a-f6df0ac670af",
   "metadata": {},
   "outputs": [
    {
     "data": {
      "text/plain": [
       "'PYTHON'"
      ]
     },
     "execution_count": 17,
     "metadata": {},
     "output_type": "execute_result"
    }
   ],
   "source": [
    "# leave the start index blank\n",
    "example[:6]"
   ]
  },
  {
   "cell_type": "code",
   "execution_count": 18,
   "id": "de9660cc-18d3-46da-b531-33e818c3190f",
   "metadata": {},
   "outputs": [
    {
     "data": {
      "text/plain": [
       "'PYTHON IS'"
      ]
     },
     "execution_count": 18,
     "metadata": {},
     "output_type": "execute_result"
    }
   ],
   "source": [
    "example[:9]"
   ]
  },
  {
   "cell_type": "code",
   "execution_count": 20,
   "id": "4b556366-cf03-4119-850b-5b05d0fbaa1e",
   "metadata": {},
   "outputs": [
    {
     "data": {
      "text/plain": [
       "'PYTHON IS EASY'"
      ]
     },
     "execution_count": 20,
     "metadata": {},
     "output_type": "execute_result"
    }
   ],
   "source": [
    "# leave both the start and stop index blank\n",
    "example[:14]"
   ]
  },
  {
   "cell_type": "markdown",
   "id": "833f64eb-b5dc-4a97-b80f-0c2aa10c7fa6",
   "metadata": {},
   "source": [
    "## NEGATIVE SLICING"
   ]
  },
  {
   "cell_type": "code",
   "execution_count": null,
   "id": "bc392e71-2d59-44f2-a8e5-c75d68c31365",
   "metadata": {},
   "outputs": [],
   "source": [
    "P    Y   T   H   O    N     I  S    E  A  S  Y"
   ]
  },
  {
   "cell_type": "markdown",
   "id": "0d68e7e3-6584-456d-bdfe-837bcca9853e",
   "metadata": {
    "jp-MarkdownHeadingCollapsed": true
   },
   "source": [
    "-15 -14 -13 -12 -11 -10 -9 -8 -7 -6 -5 -4 -3 -2 -1"
   ]
  },
  {
   "cell_type": "code",
   "execution_count": 3,
   "id": "5e61b32e-1497-4cfc-acc8-b6a262b17eef",
   "metadata": {},
   "outputs": [
    {
     "name": "stdout",
     "output_type": "stream",
     "text": [
      "PYTHON\n"
     ]
    }
   ],
   "source": [
    "example=\"PYTHON IS EASY \"\n",
    "print(example[-15:-9])"
   ]
  },
  {
   "cell_type": "code",
   "execution_count": 4,
   "id": "20dc82a7-acd7-4066-bf71-cf93b248d92b",
   "metadata": {},
   "outputs": [
    {
     "data": {
      "text/plain": [
       "'IS'"
      ]
     },
     "execution_count": 4,
     "metadata": {},
     "output_type": "execute_result"
    }
   ],
   "source": [
    "example[-8:-6]"
   ]
  },
  {
   "cell_type": "code",
   "execution_count": 5,
   "id": "5c8b4e75-71b5-4dfe-964c-de4cb8d79305",
   "metadata": {},
   "outputs": [
    {
     "data": {
      "text/plain": [
       "'PYTHON IS EASY '"
      ]
     },
     "execution_count": 5,
     "metadata": {},
     "output_type": "execute_result"
    }
   ],
   "source": [
    "example[-15:]"
   ]
  },
  {
   "cell_type": "code",
   "execution_count": 6,
   "id": "9cfdca96-12ac-44eb-a214-db27d4a87904",
   "metadata": {},
   "outputs": [
    {
     "data": {
      "text/plain": [
       "'ON IS EASY '"
      ]
     },
     "execution_count": 6,
     "metadata": {},
     "output_type": "execute_result"
    }
   ],
   "source": [
    "example[-11:]"
   ]
  },
  {
   "cell_type": "code",
   "execution_count": 7,
   "id": "eabd253e-e764-4f5a-9e80-c7cb4ce86672",
   "metadata": {},
   "outputs": [
    {
     "data": {
      "text/plain": [
       "'PYTHON'"
      ]
     },
     "execution_count": 7,
     "metadata": {},
     "output_type": "execute_result"
    }
   ],
   "source": [
    "example[:-9]"
   ]
  },
  {
   "cell_type": "code",
   "execution_count": 8,
   "id": "780ff621-dfbf-4e81-98fe-ded4ca61163e",
   "metadata": {},
   "outputs": [
    {
     "data": {
      "text/plain": [
       "'PYTHON IS'"
      ]
     },
     "execution_count": 8,
     "metadata": {},
     "output_type": "execute_result"
    }
   ],
   "source": [
    "#Using both possitive and negetive index \n",
    "example[0:9]"
   ]
  },
  {
   "cell_type": "markdown",
   "id": "fe66ce1b-5b6c-407f-809c-8ed81d08dd49",
   "metadata": {},
   "source": [
    "## STRIDE"
   ]
  },
  {
   "cell_type": "markdown",
   "id": "26b17b03-c2c5-4dea-b081-9ae9e0456367",
   "metadata": {},
   "source": [
    "### POSITIVE STRIDE"
   ]
  },
  {
   "cell_type": "raw",
   "id": "e9d01a71-fb00-4554-b518-e304b8721298",
   "metadata": {},
   "source": [
    "String slicing can also accepet a third parameter,the stride,which refers to how many steps you want to take."
   ]
  },
  {
   "cell_type": "markdown",
   "id": "03b0dbfd-22ce-493f-8087-8ef99f9a87d9",
   "metadata": {},
   "source": [
    "#### string[starts index: stop index: stride/ step value]"
   ]
  },
  {
   "cell_type": "code",
   "execution_count": 9,
   "id": "7fcc9009-49c1-4658-ac97-94ef0cb2ff54",
   "metadata": {},
   "outputs": [
    {
     "data": {
      "text/plain": [
       "'PTO SES'"
      ]
     },
     "execution_count": 9,
     "metadata": {},
     "output_type": "execute_result"
    }
   ],
   "source": [
    "#### string [starts index : stop index : stride/step value]\n",
    "example=\"PYTHON IS EASY\" \n",
    "example[0:15:2] #:2 means skip"
   ]
  },
  {
   "cell_type": "code",
   "execution_count": 10,
   "id": "52486c54-f621-4b2d-94eb-6b418ed77b5f",
   "metadata": {},
   "outputs": [
    {
     "data": {
      "text/plain": [
       "'PTO'"
      ]
     },
     "execution_count": 10,
     "metadata": {},
     "output_type": "execute_result"
    }
   ],
   "source": [
    "example[0:6:2]"
   ]
  },
  {
   "cell_type": "code",
   "execution_count": 11,
   "id": "e66f7f48-9860-4114-8317-8a81367d21e6",
   "metadata": {
    "scrolled": true
   },
   "outputs": [
    {
     "data": {
      "text/plain": [
       "'PTO SES'"
      ]
     },
     "execution_count": 11,
     "metadata": {},
     "output_type": "execute_result"
    }
   ],
   "source": [
    "example[: :2]"
   ]
  },
  {
   "cell_type": "markdown",
   "id": "b5cd1b6e-4048-43ad-9a26-dc680339270c",
   "metadata": {},
   "source": [
    "### NEGETIVE STRIDE"
   ]
  },
  {
   "cell_type": "code",
   "execution_count": 12,
   "id": "66976618-f409-44d8-9eaf-0cd207f5d170",
   "metadata": {},
   "outputs": [
    {
     "data": {
      "text/plain": [
       "'YSAE SI NOHTYP'"
      ]
     },
     "execution_count": 12,
     "metadata": {},
     "output_type": "execute_result"
    }
   ],
   "source": [
    "example =\"PYTHON IS EASY\"\n",
    "example[: :-1]"
   ]
  },
  {
   "cell_type": "code",
   "execution_count": 13,
   "id": "8004f5ab-37dd-4f04-bc15-7fd0007e4ea9",
   "metadata": {},
   "outputs": [
    {
     "data": {
      "text/plain": [
       "'YA INHY'"
      ]
     },
     "execution_count": 13,
     "metadata": {},
     "output_type": "execute_result"
    }
   ],
   "source": [
    "example[::-2]"
   ]
  },
  {
   "cell_type": "code",
   "execution_count": 14,
   "id": "4c1dfe87-8734-4411-879a-db9b64dc4b69",
   "metadata": {},
   "outputs": [
    {
     "data": {
      "text/plain": [
       "'NOHTYP'"
      ]
     },
     "execution_count": 14,
     "metadata": {},
     "output_type": "execute_result"
    }
   ],
   "source": [
    " example[5::-1]"
   ]
  },
  {
   "cell_type": "code",
   "execution_count": 15,
   "id": "4e2c1b29-fd66-4078-8084-f40379cb881b",
   "metadata": {},
   "outputs": [
    {
     "name": "stdout",
     "output_type": "stream",
     "text": [
      "\n"
     ]
    }
   ],
   "source": [
    "# Dose not reverse the string slice\n",
    "print(example[0:5:-1]) #slice and step same direction"
   ]
  },
  {
   "cell_type": "code",
   "execution_count": 16,
   "id": "d14f872b-56d7-4fd3-93b5-7884ee962e5b",
   "metadata": {},
   "outputs": [
    {
     "name": "stdout",
     "output_type": "stream",
     "text": [
      "NOHTY\n"
     ]
    }
   ],
   "source": [
    "print(example[5:0:-1])"
   ]
  },
  {
   "cell_type": "markdown",
   "id": "2a4ccc5a-f1d7-4652-8a99-35f34170bf03",
   "metadata": {},
   "source": [
    " ## String operation"
   ]
  },
  {
   "cell_type": "code",
   "execution_count": null,
   "id": "346311c8-5a5d-47ee-b2b3-1f8a35821d23",
   "metadata": {},
   "outputs": [],
   "source": [
    "string methods and function\n",
    "concatenation of string "
   ]
  },
  {
   "cell_type": "markdown",
   "id": "78d1690d-d30c-42ad-aa9b-cc732abb868a",
   "metadata": {},
   "source": [
    "#### string.upper(): converts thestring into uppercase"
   ]
  },
  {
   "cell_type": "code",
   "execution_count": 2,
   "id": "b2f56a8d-7e4a-46ec-8c28-69da3623e530",
   "metadata": {},
   "outputs": [
    {
     "data": {
      "text/plain": [
       "'Discovery of india'"
      ]
     },
     "execution_count": 2,
     "metadata": {},
     "output_type": "execute_result"
    }
   ],
   "source": [
    "book_name= \"Discovery of india\"\n",
    "book_name"
   ]
  },
  {
   "cell_type": "code",
   "execution_count": 3,
   "id": "a8e8ee76-c72d-4ca0-b8b2-03f74cddb883",
   "metadata": {},
   "outputs": [
    {
     "name": "stdout",
     "output_type": "stream",
     "text": [
      "DISCOVERY OF INDIA\n"
     ]
    }
   ],
   "source": [
    "print(book_name.upper())"
   ]
  },
  {
   "cell_type": "code",
   "execution_count": 4,
   "id": "6ad7e3d8-7e65-4370-98cd-2bc256521f08",
   "metadata": {},
   "outputs": [
    {
     "name": "stdout",
     "output_type": "stream",
     "text": [
      "Discovery of india\n"
     ]
    }
   ],
   "source": [
    "print(book_name)#book_name remains unchange"
   ]
  },
  {
   "cell_type": "code",
   "execution_count": 6,
   "id": "bd3c1277-5bca-4573-ae61-3f39ba0e2cd7",
   "metadata": {},
   "outputs": [
    {
     "name": "stdout",
     "output_type": "stream",
     "text": [
      "DISCOVERY OF INDIA\n",
      "Discovery of india\n"
     ]
    }
   ],
   "source": [
    "caps_book_name= book_name.upper()#Assigining the book_nane is uppercase to a new variablecaps_book_name\n",
    "print(caps_book_name)\n",
    "print(book_name)"
   ]
  },
  {
   "cell_type": "code",
   "execution_count": 7,
   "id": "664da6b0-0c54-4330-9c0d-0ea4d3ee8080",
   "metadata": {},
   "outputs": [
    {
     "name": "stdout",
     "output_type": "stream",
     "text": [
      "DISCOVERY OF INDIA\n"
     ]
    }
   ],
   "source": [
    "# Changing the variable book_name to upper case by ressigment\n",
    "book_name=book_name.upper()\n",
    "print(book_name)"
   ]
  },
  {
   "cell_type": "markdown",
   "id": "73e66f2d-bfdd-4b5f-820a-2e3c75c4dc16",
   "metadata": {},
   "source": [
    "#### string.lower(): converts a string into lower case"
   ]
  },
  {
   "cell_type": "code",
   "execution_count": 8,
   "id": "fc583c1f-120f-4914-b925-16e06d4204d5",
   "metadata": {},
   "outputs": [
    {
     "data": {
      "text/plain": [
       "'Discovery of india'"
      ]
     },
     "execution_count": 8,
     "metadata": {},
     "output_type": "execute_result"
    }
   ],
   "source": [
    "book_name=\"Discovery of india\"\n",
    "book_name"
   ]
  },
  {
   "cell_type": "code",
   "execution_count": 9,
   "id": "8e6eabb0-6590-46e9-9a5d-0b24127e879d",
   "metadata": {},
   "outputs": [
    {
     "name": "stdout",
     "output_type": "stream",
     "text": [
      "discovery of india\n"
     ]
    }
   ],
   "source": [
    "print(book_name.lower())"
   ]
  },
  {
   "cell_type": "code",
   "execution_count": 10,
   "id": "b849f80d-cea5-43bc-b373-2d26d09cd693",
   "metadata": {},
   "outputs": [
    {
     "name": "stdout",
     "output_type": "stream",
     "text": [
      "Discovery of india\n"
     ]
    }
   ],
   "source": [
    "print(book_name) #book name remain unchanged"
   ]
  },
  {
   "cell_type": "code",
   "execution_count": 50,
   "id": "ae93bcd4-4887-4160-9c8f-a4bbaaf37f10",
   "metadata": {},
   "outputs": [],
   "source": [
    "low_book_name=book_name.lower() #Assigning the book_name is lower-case to a new variablelow_book_name"
   ]
  },
  {
   "cell_type": "code",
   "execution_count": 12,
   "id": "10ec1434-16a8-4321-9dc8-5ee42a7e5fb8",
   "metadata": {},
   "outputs": [],
   "source": [
    "# changing the variable book_name to lower case by reassigent\n",
    "book_name=book_name.upper()"
   ]
  },
  {
   "cell_type": "code",
   "execution_count": 13,
   "id": "76eac580-f0bf-4891-a91e-4eff825d9e85",
   "metadata": {},
   "outputs": [
    {
     "name": "stdout",
     "output_type": "stream",
     "text": [
      "DISCOVERY OF INDIA\n"
     ]
    }
   ],
   "source": [
    "print(book_name)"
   ]
  },
  {
   "cell_type": "markdown",
   "id": "d379f341-7e8c-492e-a301-2b553414a495",
   "metadata": {},
   "source": [
    "### string.replace(value1,value2): return astring where value1 is replace with value2"
   ]
  },
  {
   "cell_type": "code",
   "execution_count": 14,
   "id": "e720f342-baf1-4012-b80e-b1f9ef279f19",
   "metadata": {},
   "outputs": [
    {
     "data": {
      "text/plain": [
       "'the k@ll@ng floor'"
      ]
     },
     "execution_count": 14,
     "metadata": {},
     "output_type": "execute_result"
    }
   ],
   "source": [
    "book_name=\"the killing floor\"\n",
    "book_name.replace(\"i\",\"@\")"
   ]
  },
  {
   "cell_type": "code",
   "execution_count": 15,
   "id": "1a769c99-c2f5-4467-9b8e-b7640e8a4847",
   "metadata": {},
   "outputs": [
    {
     "data": {
      "text/plain": [
       "'the killing fl@@r'"
      ]
     },
     "execution_count": 15,
     "metadata": {},
     "output_type": "execute_result"
    }
   ],
   "source": [
    "book_name.replace(\"o\",\"@\")"
   ]
  },
  {
   "cell_type": "code",
   "execution_count": 17,
   "id": "74ce031e-2a9c-4e65-9c68-0791c2eb92a1",
   "metadata": {},
   "outputs": [
    {
     "data": {
      "text/plain": [
       "'java is easy . java is gernol purpose'"
      ]
     },
     "execution_count": 17,
     "metadata": {},
     "output_type": "execute_result"
    }
   ],
   "source": [
    "#replacing more than one charecter in a string\n",
    "line=\"python is easy . python is gernol purpose\"\n",
    "line.replace(\"python\",\"java\")"
   ]
  },
  {
   "cell_type": "code",
   "execution_count": 18,
   "id": "2405fc94-4f32-4b42-ae80-b00e067233d4",
   "metadata": {},
   "outputs": [
    {
     "name": "stdout",
     "output_type": "stream",
     "text": [
      "python is easy . python is gernol purpose\n"
     ]
    }
   ],
   "source": [
    "print(lines)# lines remain unchanged"
   ]
  },
  {
   "cell_type": "markdown",
   "id": "edb6fde6-99a9-4bf1-83fa-ac03f4cc8fef",
   "metadata": {},
   "source": [
    "lines=lines.replace(\"python\",\"java\")\n",
    "print(lines)"
   ]
  },
  {
   "cell_type": "markdown",
   "id": "aa7e13a9-5c84-405c-b0d1-4f7317a377e3",
   "metadata": {},
   "source": [
    "### string count (value): Returns the number of time a specfied value occurs in a string"
   ]
  },
  {
   "cell_type": "code",
   "execution_count": 19,
   "id": "2915fccd-9a21-4446-bc20-79d31985d8b4",
   "metadata": {},
   "outputs": [
    {
     "name": "stdout",
     "output_type": "stream",
     "text": [
      "2\n"
     ]
    }
   ],
   "source": [
    "#. count()\n",
    "district=\"Nainital\"\n",
    "print(district. count(\"i\"))"
   ]
  },
  {
   "cell_type": "code",
   "execution_count": 20,
   "id": "d1fcb6b5-1595-4f8b-be17-c3b601adaf68",
   "metadata": {},
   "outputs": [
    {
     "data": {
      "text/plain": [
       "2"
      ]
     },
     "execution_count": 20,
     "metadata": {},
     "output_type": "execute_result"
    }
   ],
   "source": [
    "haldwani_info=\"Haldwani is called the Gateway og Kumaon. Haldwani is globle AI & Robotic Hub.\"\n",
    "haldwani_info.count(\"Haldwani\")"
   ]
  },
  {
   "cell_type": "code",
   "execution_count": 21,
   "id": "14d74b1d-a282-464e-8dcf-8547140098d1",
   "metadata": {},
   "outputs": [
    {
     "data": {
      "text/plain": [
       "2"
      ]
     },
     "execution_count": 21,
     "metadata": {},
     "output_type": "execute_result"
    }
   ],
   "source": [
    "haldwani_info. count(\"is\")"
   ]
  },
  {
   "cell_type": "code",
   "execution_count": 25,
   "id": "5abcf709-af24-4209-9f07-ec2ffa03bd64",
   "metadata": {},
   "outputs": [
    {
     "data": {
      "text/plain": [
       "8"
      ]
     },
     "execution_count": 25,
     "metadata": {},
     "output_type": "execute_result"
    }
   ],
   "source": [
    "haldwani_info.count(\"a\")"
   ]
  },
  {
   "cell_type": "code",
   "execution_count": 24,
   "id": "1e714ae1-7bb4-412e-8f27-94532af09ef1",
   "metadata": {},
   "outputs": [
    {
     "data": {
      "text/plain": [
       "0"
      ]
     },
     "execution_count": 24,
     "metadata": {},
     "output_type": "execute_result"
    }
   ],
   "source": [
    "haldwani_info.count(\"uttrakhand\")"
   ]
  },
  {
   "cell_type": "markdown",
   "id": "f052062d-21e0-495d-a5bd-5154ea0973de",
   "metadata": {},
   "source": [
    "### string.endwith(value):Return true if the string ends with the specified value"
   ]
  },
  {
   "cell_type": "code",
   "execution_count": 28,
   "id": "bedfcbed-0cb3-465e-86c9-76c547ffdc2d",
   "metadata": {},
   "outputs": [
    {
     "data": {
      "text/plain": [
       "True"
      ]
     },
     "execution_count": 28,
     "metadata": {},
     "output_type": "execute_result"
    }
   ],
   "source": [
    "#.endwith()\n",
    "x=\"Hello World\"\n",
    "x.endswith(\"World\")"
   ]
  },
  {
   "cell_type": "code",
   "execution_count": 29,
   "id": "208ab69c-4257-4411-a152-2e55a9f5b828",
   "metadata": {},
   "outputs": [
    {
     "data": {
      "text/plain": [
       "True"
      ]
     },
     "execution_count": 29,
     "metadata": {},
     "output_type": "execute_result"
    }
   ],
   "source": [
    "x.endswith(\"d\")"
   ]
  },
  {
   "cell_type": "markdown",
   "id": "d18a9c7e-8784-4cc7-b371-23d8784089a4",
   "metadata": {},
   "source": [
    "### string.startwith(value): Retuen true if the string stars with the specified value"
   ]
  },
  {
   "cell_type": "code",
   "execution_count": null,
   "id": "de4e2661-9c85-485c-9d70-5cf40c74e0c3",
   "metadata": {},
   "outputs": [],
   "source": []
  },
  {
   "cell_type": "code",
   "execution_count": null,
   "id": "bb7ca258-7fff-4ff4-a912-a427c4486c5e",
   "metadata": {},
   "outputs": [],
   "source": []
  },
  {
   "cell_type": "markdown",
   "id": "f21798b0-1320-48e7-b262-18862f01bfcd",
   "metadata": {},
   "source": [
    " ### string .split(separator): used to devide a sting into a list of substrings bassed on a specified seprator"
   ]
  },
  {
   "cell_type": "code",
   "execution_count": 30,
   "id": "6d7e752a-f8fb-456d-baff-437fec5d9f56",
   "metadata": {},
   "outputs": [
    {
     "data": {
      "text/plain": [
       "['Hello ', 'orld']"
      ]
     },
     "execution_count": 30,
     "metadata": {},
     "output_type": "execute_result"
    }
   ],
   "source": [
    "#. split()\n",
    "x=\"Hello World\"\n",
    "x.split(\"W\")\n"
   ]
  },
  {
   "cell_type": "code",
   "execution_count": 46,
   "id": "83b52a98-5dfa-4f9e-b32f-af15f508aa4b",
   "metadata": {},
   "outputs": [
    {
     "data": {
      "text/plain": [
       "['o']"
      ]
     },
     "execution_count": 46,
     "metadata": {},
     "output_type": "execute_result"
    }
   ],
   "source": [
    "x.split(\"r\")\n",
    "x.split(\"rl\")"
   ]
  },
  {
   "cell_type": "markdown",
   "id": "7222a527-e323-45e8-83a3-003e92622a21",
   "metadata": {},
   "source": [
    "### string find (character)\n",
    "#### finds the index at which character occurs for the first time"
   ]
  },
  {
   "cell_type": "code",
   "execution_count": 34,
   "id": "67423931-b77c-47cb-8e6a-dd6892185814",
   "metadata": {},
   "outputs": [
    {
     "data": {
      "text/plain": [
       "4"
      ]
     },
     "execution_count": 34,
     "metadata": {},
     "output_type": "execute_result"
    }
   ],
   "source": [
    "# .finds()- Index at which 'o' occurs for the first time\n",
    "x=\"Hello World\"\n",
    "x.find(\"o\")"
   ]
  },
  {
   "cell_type": "code",
   "execution_count": 36,
   "id": "12d8a2d6-6eba-493d-85ea-345d18330768",
   "metadata": {},
   "outputs": [
    {
     "data": {
      "text/plain": [
       "-1"
      ]
     },
     "execution_count": 36,
     "metadata": {},
     "output_type": "execute_result"
    }
   ],
   "source": [
    "x.find(\"wo\")"
   ]
  },
  {
   "cell_type": "code",
   "execution_count": 37,
   "id": "04833b05-e6fd-4cb4-9cd0-d8b77a84d9c1",
   "metadata": {},
   "outputs": [
    {
     "data": {
      "text/plain": [
       "-1"
      ]
     },
     "execution_count": 37,
     "metadata": {},
     "output_type": "execute_result"
    }
   ],
   "source": [
    "# what if i try to find a charecter which is not present is not string\n",
    "x.find(\"y \")"
   ]
  },
  {
   "cell_type": "code",
   "execution_count": 38,
   "id": "0149695a-fe76-4551-8d07-7743673ab54a",
   "metadata": {},
   "outputs": [
    {
     "data": {
      "text/plain": [
       "6"
      ]
     },
     "execution_count": 38,
     "metadata": {},
     "output_type": "execute_result"
    }
   ],
   "source": [
    "x=\"Hello World\"\n",
    "x.find(\"Wo\")\n",
    "x.find(\"W\")"
   ]
  },
  {
   "cell_type": "markdown",
   "id": "22b39226-013c-4e98-bb49-58f679125918",
   "metadata": {},
   "source": [
    "### LEN(string)\n",
    "\n",
    "##### Counts the number of charecter in the string"
   ]
  },
  {
   "cell_type": "code",
   "execution_count": 39,
   "id": "aa488f9f-c2f0-42a9-9335-408647c01822",
   "metadata": {},
   "outputs": [
    {
     "data": {
      "text/plain": [
       "1"
      ]
     },
     "execution_count": 39,
     "metadata": {},
     "output_type": "execute_result"
    }
   ],
   "source": [
    "#len()-Counts the no of charecter in the string \n",
    "x=\"o\"\n",
    "len(x)"
   ]
  },
  {
   "cell_type": "code",
   "execution_count": 40,
   "id": "92a58e16-0a89-4646-9a37-9273a2476bd1",
   "metadata": {},
   "outputs": [
    {
     "data": {
      "text/plain": [
       "8"
      ]
     },
     "execution_count": 40,
     "metadata": {},
     "output_type": "execute_result"
    }
   ],
   "source": [
    "len(\"  python\")"
   ]
  },
  {
   "cell_type": "markdown",
   "id": "3d518de6-4262-4d0a-9671-1f67cb851e28",
   "metadata": {},
   "source": [
    "### Concatenation: Joining two or more string to form a single string "
   ]
  },
  {
   "cell_type": "code",
   "execution_count": 41,
   "id": "5cf7e965-39c4-443e-a45d-50cdafa7a154",
   "metadata": {},
   "outputs": [
    {
     "data": {
      "text/plain": [
       "'helloworld'"
      ]
     },
     "execution_count": 41,
     "metadata": {},
     "output_type": "execute_result"
    }
   ],
   "source": [
    "\"hello\" + \"world\"\n"
   ]
  },
  {
   "cell_type": "code",
   "execution_count": 43,
   "id": "7620032c-0505-4391-8b9f-6a70db12371a",
   "metadata": {},
   "outputs": [
    {
     "data": {
      "text/plain": [
       "'python is easy'"
      ]
     },
     "execution_count": 43,
     "metadata": {},
     "output_type": "execute_result"
    }
   ],
   "source": [
    "\"python\" + \" is \" + \"easy\""
   ]
  },
  {
   "cell_type": "code",
   "execution_count": 45,
   "id": "3d9e8e4a-a5c3-41f8-8d74-b84a896d2210",
   "metadata": {},
   "outputs": [
    {
     "name": "stdout",
     "output_type": "stream",
     "text": [
      "python is easy\n"
     ]
    }
   ],
   "source": [
    "a= \"python\"\n",
    "b= \" is\"\n",
    "c= \" \"\n",
    "d= \"easy\"\n",
    "e= a+b+c+d\n",
    "print(e)"
   ]
  },
  {
   "cell_type": "markdown",
   "id": "869ad30c-6449-4bec-9a00-158d0b297bcd",
   "metadata": {},
   "source": [
    "# DATA STRUCTURES TUTORIAL"
   ]
  },
  {
   "cell_type": "markdown",
   "id": "8583a504-69f8-4837-b559-d3254b477a20",
   "metadata": {},
   "source": [
    "### PYTHON DATA STRUCTURE"
   ]
  },
  {
   "cell_type": "markdown",
   "id": "700812bf-d9a3-4fdf-9d6b-e6a099a73673",
   "metadata": {},
   "source": [
    " ## 1. LISTS"
   ]
  },
  {
   "cell_type": "markdown",
   "id": "94a173e7-58e7-4471-946a-8ae8de5278ec",
   "metadata": {},
   "source": [
    "A lists in an ***ordered***,***mutable collection*** in python.\n",
    "allow duplicates\n",
    "enter can be of mixed data types\n",
    "supports indexing (positive & negeti)"
   ]
  },
  {
   "cell_type": "markdown",
   "id": "9f03bf3b-aa9d-4a5a-a627-c8ddedb21dcf",
   "metadata": {},
   "source": [
    "### Creating lists"
   ]
  },
  {
   "cell_type": "code",
   "execution_count": 6,
   "id": "ac17f148-7687-45d2-a563-c71d66504019",
   "metadata": {},
   "outputs": [
    {
     "ename": "NameError",
     "evalue": "name 'nums' is not defined",
     "output_type": "error",
     "traceback": [
      "\u001b[1;31m---------------------------------------------------------------------------\u001b[0m",
      "\u001b[1;31mNameError\u001b[0m                                 Traceback (most recent call last)",
      "Cell \u001b[1;32mIn[6], line 5\u001b[0m\n\u001b[0;32m      2\u001b[0m fruits\u001b[38;5;241m=\u001b[39m [\u001b[38;5;124m\"\u001b[39m\u001b[38;5;124mmango\u001b[39m\u001b[38;5;124m\"\u001b[39m,\u001b[38;5;124m\"\u001b[39m\u001b[38;5;124mapple\u001b[39m\u001b[38;5;124m\"\u001b[39m,\u001b[38;5;124m\"\u001b[39m\u001b[38;5;124mbanana\u001b[39m\u001b[38;5;124m\"\u001b[39m]\n\u001b[0;32m      3\u001b[0m mixed\u001b[38;5;241m=\u001b[39m[\u001b[38;5;241m1\u001b[39m, \u001b[38;5;124m\"\u001b[39m\u001b[38;5;124mtwo\u001b[39m\u001b[38;5;124m\"\u001b[39m,\u001b[38;5;241m3.0\u001b[39m,[\u001b[38;5;241m4\u001b[39m,\u001b[38;5;241m5\u001b[39m]]\n\u001b[1;32m----> 5\u001b[0m \u001b[38;5;28mprint\u001b[39m(\u001b[38;5;124m\"\u001b[39m\u001b[38;5;124mNumber:\u001b[39m\u001b[38;5;124m\"\u001b[39m,nums)\n\u001b[0;32m      6\u001b[0m \u001b[38;5;28mprint\u001b[39m(\u001b[38;5;124m\"\u001b[39m\u001b[38;5;124mFruits:\u001b[39m\u001b[38;5;124m\"\u001b[39m,fruits)\n\u001b[0;32m      7\u001b[0m \u001b[38;5;28mprint\u001b[39m(\u001b[38;5;124m\"\u001b[39m\u001b[38;5;124mMixed:\u001b[39m\u001b[38;5;124m\"\u001b[39m,mixed)\n",
      "\u001b[1;31mNameError\u001b[0m: name 'nums' is not defined"
     ]
    }
   ],
   "source": [
    "num= [10,20,30]\n",
    "fruits= [\"mango\",\"apple\",\"banana\"]\n",
    "mixed=[1, \"two\",3.0,[4,5]]\n",
    "\n",
    "print(\"Number:\",nums)\n",
    "print(\"Fruits:\",fruits)\n",
    "print(\"Mixed:\",mixed)"
   ]
  },
  {
   "cell_type": "code",
   "execution_count": 7,
   "id": "7bbca235-b474-4c69-b4a2-f2f6b204b877",
   "metadata": {},
   "outputs": [
    {
     "ename": "NameError",
     "evalue": "name 'nums' is not defined",
     "output_type": "error",
     "traceback": [
      "\u001b[1;31m---------------------------------------------------------------------------\u001b[0m",
      "\u001b[1;31mNameError\u001b[0m                                 Traceback (most recent call last)",
      "Cell \u001b[1;32mIn[7], line 3\u001b[0m\n\u001b[0;32m      1\u001b[0m number\u001b[38;5;241m=\u001b[39m[\u001b[38;5;241m10\u001b[39m,\u001b[38;5;241m20\u001b[39m,\u001b[38;5;241m30\u001b[39m,]\n\u001b[0;32m      2\u001b[0m fruits\u001b[38;5;241m=\u001b[39m[\u001b[38;5;124m\"\u001b[39m\u001b[38;5;124mmango\u001b[39m\u001b[38;5;124m\"\u001b[39m,\u001b[38;5;124m\"\u001b[39m\u001b[38;5;124mbanana\u001b[39m\u001b[38;5;124m\"\u001b[39m,\u001b[38;5;124m\"\u001b[39m\u001b[38;5;124mpineapple\u001b[39m\u001b[38;5;124m\"\u001b[39m]\n\u001b[1;32m----> 3\u001b[0m \u001b[38;5;28mprint\u001b[39m(\u001b[38;5;124m\"\u001b[39m\u001b[38;5;124mNumber:\u001b[39m\u001b[38;5;124m\"\u001b[39m,nums)\n\u001b[0;32m      4\u001b[0m \u001b[38;5;28mprint\u001b[39m(\u001b[38;5;124m\"\u001b[39m\u001b[38;5;124mFruits:\u001b[39m\u001b[38;5;124m\"\u001b[39m,fruits)\n",
      "\u001b[1;31mNameError\u001b[0m: name 'nums' is not defined"
     ]
    }
   ],
   "source": [
    "number=[10,20,30,]\n",
    "fruits=[\"mango\",\"banana\",\"pineapple\"]\n",
    "print(\"Number:\",nums)\n",
    "print(\"Fruits:\",fruits)\n"
   ]
  },
  {
   "cell_type": "markdown",
   "id": "6282262a-dd6b-4dcb-849a-b9c1969a5e57",
   "metadata": {},
   "source": [
    " ## list method"
   ]
  },
  {
   "cell_type": "markdown",
   "id": "6a241c09-c871-4f43-851f-6757f891a9b2",
   "metadata": {},
   "source": [
    " ### len()"
   ]
  },
  {
   "cell_type": "raw",
   "id": "1c7799d4-a233-4d7c-8b2f-5913a91a1e71",
   "metadata": {},
   "source": [
    "len () is function not a method"
   ]
  },
  {
   "cell_type": "code",
   "execution_count": 4,
   "id": "94d0d56f-58bb-4583-9119-a551b6a3594d",
   "metadata": {},
   "outputs": [
    {
     "name": "stdout",
     "output_type": "stream",
     "text": [
      "lenght of fruits: 3\n"
     ]
    }
   ],
   "source": [
    "fruits=[\"mango\",\"apple\",\"banana\"]\n",
    "print(\"lenght of fruits:\", len (fruits))"
   ]
  },
  {
   "cell_type": "code",
   "execution_count": 1,
   "id": "f7ea04e8-6fcb-4d9c-a0bd-1a5f0856d381",
   "metadata": {},
   "outputs": [
    {
     "name": "stdout",
     "output_type": "stream",
     "text": [
      "length of fruits: 4\n"
     ]
    }
   ],
   "source": [
    "fruits=[\"banana\",\"pineapple\",\"mango\",\"papaya\"]\n",
    "print(\"length of fruits:\",len(fruits))"
   ]
  },
  {
   "cell_type": "code",
   "execution_count": 6,
   "id": "249689e4-1044-4468-b73c-c858eb39ef30",
   "metadata": {},
   "outputs": [],
   "source": [
    "animals=[\"dog\",\"cat\",\"goat\",\"cow\"]"
   ]
  },
  {
   "cell_type": "markdown",
   "id": "19623b82-74e9-4ede-a4b1-65c9781cea98",
   "metadata": {},
   "source": [
    "### append()"
   ]
  },
  {
   "cell_type": "code",
   "execution_count": 6,
   "id": "8416a21d-3ea1-499f-a502-c53d1ad050ae",
   "metadata": {},
   "outputs": [
    {
     "name": "stdout",
     "output_type": "stream",
     "text": [
      "After append: [10, 20, 30]\n"
     ]
    }
   ],
   "source": [
    "nums=[10,20]\n",
    "nums.append(30)\n",
    "print(\"After append:\", nums)"
   ]
  },
  {
   "cell_type": "code",
   "execution_count": 8,
   "id": "6de9d9bc-c7f0-45d0-a638-71c853037b1d",
   "metadata": {},
   "outputs": [
    {
     "name": "stdout",
     "output_type": "stream",
     "text": [
      "After append: [10, 20, 30, 40, 50]\n"
     ]
    }
   ],
   "source": [
    "nums=[10,20,30,40]\n",
    "nums.append(50)\n",
    "print(\"After append:\",nums)"
   ]
  },
  {
   "cell_type": "markdown",
   "id": "c637c7b7-afcd-4329-889e-40b1074e4d14",
   "metadata": {},
   "source": [
    " ## extend()"
   ]
  },
  {
   "cell_type": "code",
   "execution_count": 7,
   "id": "24579b1c-6357-4cf5-8df9-58719adc550e",
   "metadata": {},
   "outputs": [
    {
     "name": "stdout",
     "output_type": "stream",
     "text": [
      "After extend: [1, 2, 3, 4, 5]\n"
     ]
    }
   ],
   "source": [
    "nums=[1,2]\n",
    "nums.extend([3,4,5])\n",
    "print(\"After extend:\",nums)"
   ]
  },
  {
   "cell_type": "markdown",
   "id": "baa5f9b1-ef08-47d7-aedd-c131c68afaee",
   "metadata": {},
   "source": [
    "### removed()"
   ]
  },
  {
   "cell_type": "code",
   "execution_count": 8,
   "id": "1369e9ef-2685-452b-9ef8-c0041c9241b0",
   "metadata": {},
   "outputs": [
    {
     "name": "stdout",
     "output_type": "stream",
     "text": [
      "After remove: [1, 2, 4]\n"
     ]
    }
   ],
   "source": [
    "nums=[1,2,2,4]\n",
    "nums.remove(2)\n",
    "print(\"After remove:\",nums)"
   ]
  },
  {
   "cell_type": "markdown",
   "id": "c86327b1-11f6-4bd4-bcdc-eb084d43c5e5",
   "metadata": {},
   "source": [
    "### pop()"
   ]
  },
  {
   "cell_type": "code",
   "execution_count": 9,
   "id": "0b0e8e86-dec6-43f4-bc41-7d13e4d25d36",
   "metadata": {},
   "outputs": [
    {
     "name": "stdout",
     "output_type": "stream",
     "text": [
      "Popped last: 40\n",
      "Popped index 1: 20\n",
      "List now: [10, 30]\n"
     ]
    }
   ],
   "source": [
    "nums=[10,20,30,40,]\n",
    "last = nums.pop()\n",
    "second=nums.pop(1)\n",
    "print(\"Popped last:\",last)\n",
    "print(\"Popped index 1:\",second)\n",
    "print(\"List now:\",nums)"
   ]
  },
  {
   "cell_type": "markdown",
   "id": "1d18bc5a-8471-4024-b2dc-ac528b1ab30e",
   "metadata": {},
   "source": [
    "### clear()"
   ]
  },
  {
   "cell_type": "code",
   "execution_count": 10,
   "id": "efeb5637-081a-476e-b572-7888996cac86",
   "metadata": {},
   "outputs": [
    {
     "name": "stdout",
     "output_type": "stream",
     "text": [
      "After clear: []\n"
     ]
    }
   ],
   "source": [
    "nums=[1,2,3]\n",
    "nums.clear()\n",
    "print(\"After clear:\",nums)"
   ]
  },
  {
   "cell_type": "markdown",
   "id": "08ca637a-9c7b-445c-b057-4c105464a633",
   "metadata": {},
   "source": [
    "### index()"
   ]
  },
  {
   "cell_type": "code",
   "execution_count": 14,
   "id": "0f54ef24-9233-4a14-b699-e742cba70352",
   "metadata": {},
   "outputs": [
    {
     "name": "stdout",
     "output_type": "stream",
     "text": [
      "Index of 'b': 1\n"
     ]
    }
   ],
   "source": [
    "letters=['a','b','c','b']\n",
    "print(\"Index of 'b':\",letters.index('b'))\n"
   ]
  },
  {
   "cell_type": "markdown",
   "id": "de23c753-6e67-4563-a8ca-e418f8be6fed",
   "metadata": {},
   "source": [
    "### count()"
   ]
  },
  {
   "cell_type": "code",
   "execution_count": 18,
   "id": "d1ac0238-da48-4480-a971-e976cd27b73f",
   "metadata": {},
   "outputs": [
    {
     "name": "stdout",
     "output_type": "stream",
     "text": [
      "Count of 'b': 3\n"
     ]
    }
   ],
   "source": [
    "letters= ['a','b','b','c','b']\n",
    "print(\"Count of 'b':\",letters. count('b'))"
   ]
  },
  {
   "cell_type": "markdown",
   "id": "a7c7fae0-349f-4931-81e9-0c40e082e7f9",
   "metadata": {},
   "source": [
    "### sort()"
   ]
  },
  {
   "cell_type": "code",
   "execution_count": 19,
   "id": "f5872b86-61cf-49a0-ab73-27f6fe64b3c4",
   "metadata": {},
   "outputs": [
    {
     "name": "stdout",
     "output_type": "stream",
     "text": [
      "Sorted: [2, 5, 92]\n"
     ]
    }
   ],
   "source": [
    "nums=[5,2,92]\n",
    "nums.sort()\n",
    "print(\"Sorted:\",nums)"
   ]
  },
  {
   "cell_type": "markdown",
   "id": "885e065d-25d2-434f-b54f-9ba52309d6b5",
   "metadata": {},
   "source": [
    "### sort(reverse)"
   ]
  },
  {
   "cell_type": "code",
   "execution_count": 20,
   "id": "77f43c25-6634-422c-9305-e692081f06cd",
   "metadata": {},
   "outputs": [
    {
     "name": "stdout",
     "output_type": "stream",
     "text": [
      "Sorted: [9, 5, 2, 2]\n"
     ]
    }
   ],
   "source": [
    "nums=[5,2,9,2]\n",
    "nums.sort(reverse=True)\n",
    "print(\"Sorted:\",nums)"
   ]
  },
  {
   "cell_type": "markdown",
   "id": "60a26970-b592-4175-98da-8d39e54d291b",
   "metadata": {},
   "source": [
    "### reverse()"
   ]
  },
  {
   "cell_type": "code",
   "execution_count": 22,
   "id": "9ec4eaad-16d6-481d-adcf-c67e6f78d113",
   "metadata": {},
   "outputs": [
    {
     "name": "stdout",
     "output_type": "stream",
     "text": [
      "After reverse: [89, 56, 78]\n"
     ]
    }
   ],
   "source": [
    "nums=[78,56,89]\n",
    "nums.reverse()\n",
    "print(\"After reverse:\",nums)"
   ]
  },
  {
   "cell_type": "markdown",
   "id": "af019462-4498-4fff-930d-6a54f48713f4",
   "metadata": {},
   "source": [
    "### slicing"
   ]
  },
  {
   "cell_type": "code",
   "execution_count": 24,
   "id": "7ae7f9fc-8723-4406-a61a-6198ffa69b3f",
   "metadata": {},
   "outputs": [
    {
     "name": "stdout",
     "output_type": "stream",
     "text": [
      "nums[1:4]= [20, 30, 40]\n",
      "nums[]1:3= [20, 30]\n",
      " nums[::2]= [10, 30, 50]\n",
      "nums[::-1]= [50, 40, 30, 20, 10]\n"
     ]
    }
   ],
   "source": [
    "nums=[10,20,30,40,50,]\n",
    "print(\"nums[1:4]=\",nums[1:4])\n",
    "print(\"nums[]1:3=\",nums[1:3])\n",
    "print(\" nums[::2]=\",nums[::2])\n",
    "print(\"nums[::-1]=\",nums[::-1])"
   ]
  },
  {
   "cell_type": "markdown",
   "id": "0ee23c02-8dfd-49d1-a655-f101d2a4bf6d",
   "metadata": {},
   "source": [
    "### cocatenation & repetition"
   ]
  },
  {
   "cell_type": "code",
   "execution_count": 25,
   "id": "703e06ee-feea-4617-abbe-87e043973996",
   "metadata": {},
   "outputs": [
    {
     "name": "stdout",
     "output_type": "stream",
     "text": [
      "[1, 2, 3, 4]\n",
      "[1, 2, 1, 2, 1, 2]\n"
     ]
    }
   ],
   "source": [
    "print([1,2]+[3,4])\n",
    "print([1,2]*3)"
   ]
  },
  {
   "cell_type": "markdown",
   "id": "c3806f14-a34d-491a-86b6-233574c09ff9",
   "metadata": {},
   "source": [
    "# 2.touple"
   ]
  },
  {
   "cell_type": "code",
   "execution_count": null,
   "id": "d93e0927-f3e2-4ea0-82d8-a32354bb80db",
   "metadata": {},
   "outputs": [],
   "source": [
    "A tuples is an orderd,immutable collection.allow duplicates good for the fixed shap.\n"
   ]
  },
  {
   "cell_type": "markdown",
   "id": "b14578dc-0c1d-479b-8588-8080434b7873",
   "metadata": {},
   "source": [
    "### creating tuples"
   ]
  },
  {
   "cell_type": "code",
   "execution_count": 1,
   "id": "c099bb9d-0345-42a8-9f63-788af089d44f",
   "metadata": {},
   "outputs": [
    {
     "name": "stdout",
     "output_type": "stream",
     "text": [
      "Tuple: (10, 20, 30)\n",
      "Single elemnt tuple: (42,)\n"
     ]
    }
   ],
   "source": [
    "t=(10,20,30)# this is still a tuple\n",
    "single=(42,)# comma and \"\" is important # this is an intiger not a tuple\n",
    "print(\"Tuple:\",t)\n",
    "print(\"Single elemnt tuple:\",single)"
   ]
  },
  {
   "cell_type": "markdown",
   "id": "811c5d6b-0bb6-475f-90ce-8b16b5aff444",
   "metadata": {},
   "source": [
    " ### tuples method"
   ]
  },
  {
   "cell_type": "markdown",
   "id": "39a87f4e-29eb-44df-8885-1b50d33be786",
   "metadata": {},
   "source": [
    "#### len()"
   ]
  },
  {
   "cell_type": "code",
   "execution_count": 27,
   "id": "d3235b12-ff60-4bd9-88a8-5d6ef431fb7c",
   "metadata": {},
   "outputs": [
    {
     "name": "stdout",
     "output_type": "stream",
     "text": [
      "Lenght: 3\n"
     ]
    }
   ],
   "source": [
    "t=(10,20,30)\n",
    "print(\"Lenght:\",len(t))"
   ]
  },
  {
   "cell_type": "markdown",
   "id": "25253607-3198-46a8-92aa-0fd052f1c08c",
   "metadata": {},
   "source": [
    "### tuple. count()"
   ]
  },
  {
   "cell_type": "code",
   "execution_count": 28,
   "id": "b7a59e63-fd35-493f-9c1c-e32b49299826",
   "metadata": {},
   "outputs": [
    {
     "name": "stdout",
     "output_type": "stream",
     "text": [
      "count of 1: 3\n"
     ]
    }
   ],
   "source": [
    "t=(1,2,1,3,1)\n",
    "print(\"count of 1:\", t.count(1))"
   ]
  },
  {
   "cell_type": "markdown",
   "id": "abbfc366-99eb-444c-9332-1118f6bda162",
   "metadata": {},
   "source": [
    " ### tuple.index()"
   ]
  },
  {
   "cell_type": "code",
   "execution_count": 29,
   "id": "bab86be8-e936-4562-826c-0032b23b8c2b",
   "metadata": {},
   "outputs": [
    {
     "name": "stdout",
     "output_type": "stream",
     "text": [
      "index of 20: 1\n"
     ]
    }
   ],
   "source": [
    "t=(10,20,30,20)\n",
    "print(\"index of 20:\", t.index(20))"
   ]
  },
  {
   "cell_type": "markdown",
   "id": "0eaa9269-1915-4231-bd33-ee7db6f75c69",
   "metadata": {},
   "source": [
    "### indexing and slicing"
   ]
  },
  {
   "cell_type": "code",
   "execution_count": 30,
   "id": "a9e2e2fe-963e-4dd0-83b3-25cb43eae305",
   "metadata": {},
   "outputs": [
    {
     "name": "stdout",
     "output_type": "stream",
     "text": [
      "t[0]= a\n",
      "t[-1]= d\n",
      "t[1:3]= ('b', 'c')\n"
     ]
    }
   ],
   "source": [
    "t=('a','b','c','d')\n",
    "print(\"t[0]=\",t[0])\n",
    "print(\"t[-1]=\",t[-1])\n",
    "print(\"t[1:3]=\",t[1:3])"
   ]
  },
  {
   "cell_type": "markdown",
   "id": "73b0512b-5b9e-4e99-8597-9fdd99717db7",
   "metadata": {},
   "source": [
    "### concatenation & repitation"
   ]
  },
  {
   "cell_type": "code",
   "execution_count": 31,
   "id": "0604d4e7-205c-4fc4-9ae9-ffbc2b0f1f45",
   "metadata": {},
   "outputs": [
    {
     "name": "stdout",
     "output_type": "stream",
     "text": [
      "t1+t2: (1, 2, 3, 4)\n",
      "t1*3: (1, 2, 1, 2, 1, 2)\n"
     ]
    }
   ],
   "source": [
    "t1=(1,2)\n",
    "t2=(3,4)\n",
    "print(\"t1+t2:\",t1+t2)\n",
    "print(\"t1*3:\",t1*3)"
   ]
  },
  {
   "cell_type": "markdown",
   "id": "ce181832-4856-464d-9ef5-d89618adca59",
   "metadata": {},
   "source": [
    "### membership"
   ]
  },
  {
   "cell_type": "code",
   "execution_count": 32,
   "id": "2c23015d-81c7-416d-94ce-9d0eb40880c0",
   "metadata": {},
   "outputs": [
    {
     "name": "stdout",
     "output_type": "stream",
     "text": [
      "True\n",
      "False\n"
     ]
    }
   ],
   "source": [
    "t=(1,2,3)\n",
    "print(2 in t)\n",
    "print(5 in t)"
   ]
  },
  {
   "cell_type": "markdown",
   "id": "f046092e-7671-41b1-8883-53b8ce94fb0d",
   "metadata": {},
   "source": [
    "# 3. SETS"
   ]
  },
  {
   "cell_type": "raw",
   "id": "09dcea64-fbe7-49bd-a174-74c4157586f0",
   "metadata": {},
   "source": [
    "a set in an unorderd,mutable collectiion of uniqe elements. # value change and do not change id\n",
    "no duplicats\n",
    "no indwxing no slicing\n",
    "great for membership tests and set operation"
   ]
  },
  {
   "cell_type": "markdown",
   "id": "93ace09d-f33e-4d76-a4d1-e7f60b7a2254",
   "metadata": {},
   "source": [
    "### creats & deduplicats"
   ]
  },
  {
   "cell_type": "code",
   "execution_count": 33,
   "id": "812baf8f-97c4-425c-9016-e810be54372d",
   "metadata": {},
   "outputs": [
    {
     "name": "stdout",
     "output_type": "stream",
     "text": [
      "s: {1, 2, 3}\n"
     ]
    }
   ],
   "source": [
    "s={1,2,3}\n",
    "dedup=set([1,2,2,3,3])\n",
    "print(\"s:\",dedup)"
   ]
  },
  {
   "cell_type": "markdown",
   "id": "73ca33b4-fc90-4285-b933-e1649f7d2bfe",
   "metadata": {},
   "source": [
    "### set method"
   ]
  },
  {
   "cell_type": "markdown",
   "id": "0df1d87d-6755-45e9-a5b2-fcf9c3432e96",
   "metadata": {},
   "source": [
    "### len()"
   ]
  },
  {
   "cell_type": "code",
   "execution_count": 34,
   "id": "31e6e7d8-4c41-4df0-b058-e5f30958d0c8",
   "metadata": {},
   "outputs": [
    {
     "name": "stdout",
     "output_type": "stream",
     "text": [
      "size: 3\n"
     ]
    }
   ],
   "source": [
    "s={1,1,2,3}\n",
    "print(\"size:\", len(s))"
   ]
  },
  {
   "cell_type": "markdown",
   "id": "42e0bb36-0dac-43bb-af05-6261df664a11",
   "metadata": {},
   "source": [
    " ### add()"
   ]
  },
  {
   "cell_type": "code",
   "execution_count": 35,
   "id": "112987d1-ee8d-43c3-8bf0-9209d1202bd2",
   "metadata": {},
   "outputs": [
    {
     "name": "stdout",
     "output_type": "stream",
     "text": [
      "After add: {1, 2, 3}\n"
     ]
    }
   ],
   "source": [
    "s={1,2}\n",
    "s.add(3)\n",
    "print(\"After add:\",s)"
   ]
  },
  {
   "cell_type": "markdown",
   "id": "247dab7b-c376-4b4c-ae4d-2452ab829238",
   "metadata": {},
   "source": [
    "### updet(itrable)"
   ]
  },
  {
   "cell_type": "markdown",
   "id": "181bdffe-087a-42cb-9522-923658d32d92",
   "metadata": {},
   "source": [
    " ## itrable data types: set,list,touple,dictionary,string"
   ]
  },
  {
   "cell_type": "code",
   "execution_count": 1,
   "id": "a19ed657-7442-4520-be29-ef83b621c47d",
   "metadata": {},
   "outputs": [
    {
     "name": "stdout",
     "output_type": "stream",
     "text": [
      "{1, 2, 3}\n"
     ]
    }
   ],
   "source": [
    "s={1}\n",
    "s.update((2,3))\n",
    "print(s)"
   ]
  },
  {
   "cell_type": "code",
   "execution_count": 2,
   "id": "6927dce2-5a49-452a-952b-e94d4407358c",
   "metadata": {},
   "outputs": [
    {
     "data": {
      "text/plain": [
       "{1, 2, 3, 'e', 'h', 'l', 'o'}"
      ]
     },
     "execution_count": 2,
     "metadata": {},
     "output_type": "execute_result"
    }
   ],
   "source": [
    "s.update(\"hello\")\n",
    "s"
   ]
  },
  {
   "cell_type": "code",
   "execution_count": 36,
   "id": "a8f5e267-3ab7-46d8-890e-b5590b41915e",
   "metadata": {},
   "outputs": [
    {
     "name": "stdout",
     "output_type": "stream",
     "text": [
      "After update: {1, 2, 3, 4, 5}\n"
     ]
    }
   ],
   "source": [
    "s={1}\n",
    "s.update([2,3],{4,5})\n",
    "print(\"After update:\",s)"
   ]
  },
  {
   "cell_type": "markdown",
   "id": "31fc686f-95db-48d3-9078-39a7efcde282",
   "metadata": {},
   "source": [
    "### remove"
   ]
  },
  {
   "cell_type": "code",
   "execution_count": 37,
   "id": "1194aab2-afe5-4c49-a842-77fdb87a2593",
   "metadata": {},
   "outputs": [
    {
     "name": "stdout",
     "output_type": "stream",
     "text": [
      "After remove: {1, 3}\n"
     ]
    }
   ],
   "source": [
    "s={1,2,3}\n",
    "s.remove(2)\n",
    "print(\"After remove:\",s)"
   ]
  },
  {
   "cell_type": "code",
   "execution_count": 3,
   "id": "0a7aa22d-1978-4911-93c3-f7a76582cfd8",
   "metadata": {},
   "outputs": [
    {
     "ename": "KeyError",
     "evalue": "99",
     "output_type": "error",
     "traceback": [
      "\u001b[1;31m---------------------------------------------------------------------------\u001b[0m",
      "\u001b[1;31mKeyError\u001b[0m                                  Traceback (most recent call last)",
      "Cell \u001b[1;32mIn[3], line 1\u001b[0m\n\u001b[1;32m----> 1\u001b[0m s\u001b[38;5;241m.\u001b[39mremove(\u001b[38;5;241m99\u001b[39m)\n",
      "\u001b[1;31mKeyError\u001b[0m: 99"
     ]
    }
   ],
   "source": [
    "s.remove(99)"
   ]
  },
  {
   "cell_type": "markdown",
   "id": "7040b92b-69f0-4db4-ad7a-ba6a26b5427f",
   "metadata": {},
   "source": [
    " ### discard()"
   ]
  },
  {
   "cell_type": "code",
   "execution_count": 38,
   "id": "a834e439-08ee-4d0e-b6ef-e1060331a866",
   "metadata": {},
   "outputs": [
    {
     "name": "stdout",
     "output_type": "stream",
     "text": [
      "After discard: {1}\n"
     ]
    }
   ],
   "source": [
    "s={1,2}\n",
    "s.discard(2)\n",
    "s.discard(99)\n",
    "print(\"After discard:\",s)"
   ]
  },
  {
   "cell_type": "markdown",
   "id": "85f2c433-f168-4cdb-baf4-0c4db546cf6d",
   "metadata": {},
   "source": [
    "### pop()"
   ]
  },
  {
   "cell_type": "code",
   "execution_count": 39,
   "id": "2bb359fa-bfb3-4e56-84ad-6cf3a0ba5972",
   "metadata": {},
   "outputs": [
    {
     "name": "stdout",
     "output_type": "stream",
     "text": [
      "Removed: 10\n",
      "Remaning: {20, 30}\n"
     ]
    }
   ],
   "source": [
    "s={10,20,30}\n",
    "removed=s.pop()\n",
    "print(\"Removed:\",removed)\n",
    "print(\"Remaning:\",s)"
   ]
  },
  {
   "cell_type": "code",
   "execution_count": null,
   "id": "79736480-f88f-4b42-a75b-ea0b41b25829",
   "metadata": {},
   "outputs": [],
   "source": [
    "s={10,20,30}\n",
    "removed=s.pop()\n",
    "print(\"removed:\",removed)\n",
    "print(\"remaning:\")"
   ]
  },
  {
   "cell_type": "markdown",
   "id": "9e61c0a9-7382-4475-bf0a-6178d0cba657",
   "metadata": {},
   "source": [
    "### clear()"
   ]
  },
  {
   "cell_type": "code",
   "execution_count": 40,
   "id": "a05985a4-b70b-4311-8fca-61fa41bea410",
   "metadata": {},
   "outputs": [
    {
     "name": "stdout",
     "output_type": "stream",
     "text": [
      "after clear: set()\n"
     ]
    }
   ],
   "source": [
    "s={1,2,3}\n",
    "s.clear()\n",
    "print(\"after clear:\",s)"
   ]
  },
  {
   "cell_type": "markdown",
   "id": "135a2d03-3f77-4e0c-bfbc-3ab14e89b5d9",
   "metadata": {},
   "source": [
    "### union()"
   ]
  },
  {
   "cell_type": "code",
   "execution_count": 4,
   "id": "d5c29715-b404-4f5c-ab16-2052ea3af06a",
   "metadata": {},
   "outputs": [
    {
     "name": "stdout",
     "output_type": "stream",
     "text": [
      "{1, 2, 3}\n",
      "{3, 4, 5}\n",
      "A.union(b): {1, 2, 3, 'b'}\n"
     ]
    }
   ],
   "source": [
    "A,B= {1,2,3},{3,4,5}\n",
    "print(A)\n",
    "print(B)\n",
    "print(\"A.union(b):\",A.union('b'))"
   ]
  },
  {
   "cell_type": "markdown",
   "id": "0fdf2e98-208e-4ef6-9f96-6e6283f76e68",
   "metadata": {},
   "source": [
    "### intersection()"
   ]
  },
  {
   "cell_type": "code",
   "execution_count": 43,
   "id": "f007efc2-2916-490a-aa6e-844f116f8639",
   "metadata": {},
   "outputs": [
    {
     "name": "stdout",
     "output_type": "stream",
     "text": [
      "A.intersection(B): {2, 3}\n"
     ]
    }
   ],
   "source": [
    "A,B={1,2,3},{2,3,4}\n",
    "print(\"A.intersection(B):\",A.intersection(B))"
   ]
  },
  {
   "cell_type": "markdown",
   "id": "f805e430-eae2-40fd-8fc4-3b64e9b8a03e",
   "metadata": {},
   "source": [
    "### DIFFERENCE"
   ]
  },
  {
   "cell_type": "code",
   "execution_count": 5,
   "id": "5431765a-6059-4a38-9f2f-843ab34e46d3",
   "metadata": {},
   "outputs": [
    {
     "name": "stdout",
     "output_type": "stream",
     "text": [
      "A.difference(B): {1}\n",
      "B.difference(A): {4}\n"
     ]
    }
   ],
   "source": [
    "A,B={1,2,3},{2,3,4}\n",
    "print(\"A.difference(B):\",A.difference(B))\n",
    "print(\"B.difference(A):\",B.difference(A))"
   ]
  },
  {
   "cell_type": "markdown",
   "id": "65d103f7-51b8-4326-a4ac-cffc55062979",
   "metadata": {},
   "source": [
    "### symetric_difference"
   ]
  },
  {
   "cell_type": "code",
   "execution_count": 7,
   "id": "2fcc52a5-36c9-4295-b1a8-373e69a96c45",
   "metadata": {},
   "outputs": [
    {
     "name": "stdout",
     "output_type": "stream",
     "text": [
      "A.symmetric_difference(B): {1, 4}\n",
      "B.symmetric_difference(A): {1, 4}\n"
     ]
    }
   ],
   "source": [
    "A,B={1,2,3},{2,3,4}\n",
    "print(\"A.symmetric_difference(B):\",A.symmetric_difference(B))\n",
    "print(\"B.symmetric_difference(A):\",B.symmetric_difference(A))"
   ]
  },
  {
   "cell_type": "markdown",
   "id": "2f12c023-d690-4955-9c3e-cbc0f9e6a81a",
   "metadata": {},
   "source": [
    "### issubset,issuperet,isdisjoint"
   ]
  },
  {
   "cell_type": "code",
   "execution_count": 47,
   "id": "a45a98db-1ead-4072-834c-a38625e7bf78",
   "metadata": {},
   "outputs": [
    {
     "name": "stdout",
     "output_type": "stream",
     "text": [
      "A.issubset(B): True\n",
      "B.issuperset(A): True\n",
      "C.isdisjoint(C): True\n"
     ]
    }
   ],
   "source": [
    "A={1,2}\n",
    "B={1,2,3}\n",
    "C={7,8}\n",
    "print(\"A.issubset(B):\",A.issubset(B))\n",
    "print(\"B.issuperset(A):\",B.issuperset(A))\n",
    "print(\"C.isdisjoint(C):\",A.isdisjoint(C))"
   ]
  },
  {
   "cell_type": "markdown",
   "id": "87b8c2bf-6659-488a-b9ff-1bdf151c79af",
   "metadata": {},
   "source": [
    "## 4. dictionaries"
   ]
  },
  {
   "cell_type": "raw",
   "id": "119c81d8-6bee-4f86-b03a-20e003af64ea",
   "metadata": {},
   "source": [
    "A dictionary maps unique, immutable keys to values.\n",
    "mutable\n",
    "fast lookups\n",
    "preserves insertion order"
   ]
  },
  {
   "cell_type": "markdown",
   "id": "627b296e-0615-4631-9ce3-8cf652e8a56a",
   "metadata": {},
   "source": [
    "### creating dictionaries"
   ]
  },
  {
   "cell_type": "code",
   "execution_count": 48,
   "id": "4fe8ae54-ed36-4232-b39e-789a71286a5d",
   "metadata": {},
   "outputs": [
    {
     "name": "stdout",
     "output_type": "stream",
     "text": [
      "person: {'name': 'Pankaj', 'role': 'data scientist'}\n",
      "paris: {'x': 1, 'y': 2}\n"
     ]
    }
   ],
   "source": [
    "person={\"name\":\"Pankaj\",\"role\":\"data scientist\"}\n",
    "paris=dict([(\"x\",1),(\"y\",2)])\n",
    "print(\"person:\",person)\n",
    "print(\"paris:\",paris)"
   ]
  },
  {
   "cell_type": "code",
   "execution_count": null,
   "id": "76870dce-f108-4534-8dd3-f5395de67898",
   "metadata": {},
   "outputs": [],
   "source": []
  },
  {
   "cell_type": "markdown",
   "id": "82d26ad3-b165-4155-8175-755d6f3d2849",
   "metadata": {},
   "source": [
    "### dictionary methods"
   ]
  },
  {
   "cell_type": "markdown",
   "id": "22d63b66-a79c-4f61-984a-08a3cc0b01b6",
   "metadata": {},
   "source": [
    "#### len()"
   ]
  },
  {
   "cell_type": "code",
   "execution_count": 49,
   "id": "04a9a6a8-1c0f-44c4-b860-dc5997de9926",
   "metadata": {},
   "outputs": [
    {
     "name": "stdout",
     "output_type": "stream",
     "text": [
      "Length: 2\n"
     ]
    }
   ],
   "source": [
    "d={\"a\":1,\"b\":2}\n",
    "print(\"Length:\",len(d))"
   ]
  },
  {
   "cell_type": "markdown",
   "id": "180ad7e0-13d1-4ed3-b3d5-e71715b72a30",
   "metadata": {},
   "source": [
    "#### access:vsget()"
   ]
  },
  {
   "cell_type": "code",
   "execution_count": 50,
   "id": "5ee1aa47-67df-445b-bff2-d4f8c72a5e7b",
   "metadata": {},
   "outputs": [
    {
     "name": "stdout",
     "output_type": "stream",
     "text": [
      "name: mayank\n",
      "salary with get: None\n"
     ]
    }
   ],
   "source": [
    "d={\"name\":\"mayank\",\"age\":28}\n",
    "print(\"name:\",d[\"name\"])\n",
    "print(\"salary with get:\",d. get (\"salary\"))"
   ]
  },
  {
   "cell_type": "markdown",
   "id": "74de05ea-0299-45ac-8a91-6fc11a2e0a7b",
   "metadata": {},
   "source": [
    "### insert/update"
   ]
  },
  {
   "cell_type": "code",
   "execution_count": 51,
   "id": "8463958b-0a93-4349-89f9-f67a70bd76cf",
   "metadata": {},
   "outputs": [
    {
     "name": "stdout",
     "output_type": "stream",
     "text": [
      "After assigments: {'lang': 'Python', 'year': 1991}\n"
     ]
    }
   ],
   "source": [
    "d={}# emty dictionary\n",
    "d[\"lang\"]=\"Python\"\n",
    "d[\"year\"]=1991\n",
    "print(\"After assigments:\",d)"
   ]
  },
  {
   "cell_type": "markdown",
   "id": "981927f1-4a50-4b4f-afd3-b7f492dc86d4",
   "metadata": {},
   "source": [
    " ### pop()"
   ]
  },
  {
   "cell_type": "code",
   "execution_count": 52,
   "id": "3ff9cdf8-a040-4b36-808b-f1bd14a00264",
   "metadata": {},
   "outputs": [
    {
     "name": "stdout",
     "output_type": "stream",
     "text": [
      "Popped a: 1 | d now: {'b': 2}\n"
     ]
    }
   ],
   "source": [
    "d={\"a\":1,\"b\":2}\n",
    "val=d.pop(\"a\")\n",
    "print(\"Popped a:\",val,\"| d now:\",d)"
   ]
  },
  {
   "cell_type": "markdown",
   "id": "cf26d527-fccc-46bc-a725-8c4fce7946fc",
   "metadata": {},
   "source": [
    " ### update()"
   ]
  },
  {
   "cell_type": "code",
   "execution_count": 53,
   "id": "fd3b20e4-d6f5-48d4-aef3-e19f608f3ec9",
   "metadata": {},
   "outputs": [
    {
     "name": "stdout",
     "output_type": "stream",
     "text": [
      "After update: {'a': 1, 'b': 20, 'c': 3}\n"
     ]
    }
   ],
   "source": [
    "d={\"a\":1,\"b\":2}\n",
    "d.update({\"b\":20,\"c\":3}) #key immutable honi chahiye\n",
    "print(\"After update:\",d)"
   ]
  },
  {
   "cell_type": "markdown",
   "id": "d11b7e09-66b9-42f2-90dd-c83a2893735e",
   "metadata": {},
   "source": [
    "### popitems"
   ]
  },
  {
   "cell_type": "code",
   "execution_count": 54,
   "id": "3787a46d-863d-44a5-b855-11016122c2f3",
   "metadata": {},
   "outputs": [
    {
     "name": "stdout",
     "output_type": "stream",
     "text": [
      "popped item: ('z', 3) | d now: {'x': 1, 'y': 2}\n"
     ]
    }
   ],
   "source": [
    "d={\"x\":1,\"y\":2,\"z\":3}\n",
    "item=d.popitem()\n",
    "print(\"popped item:\",item,\"| d now:\",d)"
   ]
  },
  {
   "cell_type": "markdown",
   "id": "ed5af97e-5072-45b8-95d5-e566c7a78591",
   "metadata": {},
   "source": [
    "### clear()"
   ]
  },
  {
   "cell_type": "code",
   "execution_count": 55,
   "id": "fccb8a3c-12df-4cc2-8e65-10e56a0748e0",
   "metadata": {},
   "outputs": [
    {
     "name": "stdout",
     "output_type": "stream",
     "text": [
      "After clear: {}\n"
     ]
    }
   ],
   "source": [
    "d={\"a\":1}\n",
    "d.clear()\n",
    "print(\"After clear:\",d)"
   ]
  },
  {
   "cell_type": "markdown",
   "id": "4a160779-c589-42d3-9ee4-1da4244b350c",
   "metadata": {},
   "source": [
    "### keays(),values(),items()"
   ]
  },
  {
   "cell_type": "code",
   "execution_count": 56,
   "id": "9bb10aaf-be76-4cda-a357-ffb130c36f65",
   "metadata": {},
   "outputs": [
    {
     "name": "stdout",
     "output_type": "stream",
     "text": [
      "keys: ['name', 'role']\n",
      "values: ['Nishi', 'Data Scientist']\n",
      "items: [('name', 'Nishi'), ('role', 'Data Scientist')]\n"
     ]
    }
   ],
   "source": [
    "d={\"name\":\"Nishi\",\"role\":\"Data Scientist\"}\n",
    "print(\"keys:\",list(d.keys()))\n",
    "print(\"values:\",list(d.values()))\n",
    "print(\"items:\",list(d.items()))"
   ]
  },
  {
   "cell_type": "code",
   "execution_count": 3,
   "id": "3fbdcae4-32e5-4f81-b1cd-53c7ed7af601",
   "metadata": {},
   "outputs": [
    {
     "name": "stdout",
     "output_type": "stream",
     "text": [
      "{1: ['Neeraj', 'Ayush'], 2: 'Ayush'}\n"
     ]
    }
   ],
   "source": [
    "dict_persons={1:[\"Neeraj\",\"Ayush\"],2:\"Ayush\"}\n",
    "print(dict_persons)"
   ]
  },
  {
   "cell_type": "code",
   "execution_count": null,
   "id": "cad41610-562a-4364-a3eb-0a39fca014c7",
   "metadata": {},
   "outputs": [],
   "source": []
  }
 ],
 "metadata": {
  "kernelspec": {
   "display_name": "Python [conda env:base] *",
   "language": "python",
   "name": "conda-base-py"
  },
  "language_info": {
   "codemirror_mode": {
    "name": "ipython",
    "version": 3
   },
   "file_extension": ".py",
   "mimetype": "text/x-python",
   "name": "python",
   "nbconvert_exporter": "python",
   "pygments_lexer": "ipython3",
   "version": "3.13.5"
  }
 },
 "nbformat": 4,
 "nbformat_minor": 5
}
