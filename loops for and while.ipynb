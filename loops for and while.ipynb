{
 "cells": [
  {
   "cell_type": "markdown",
   "id": "071c014c-0121-484b-873e-c5e42268fc3b",
   "metadata": {},
   "source": [
    "# \n",
    "DRY: DO NOT REPEAT YOURSELF"
   ]
  },
  {
   "cell_type": "code",
   "execution_count": 5,
   "id": "01bb42fd-626a-4505-b5c4-d787a7d82af5",
   "metadata": {},
   "outputs": [
    {
     "name": "stdout",
     "output_type": "stream",
     "text": [
      "hello world\n",
      "hello world\n",
      "hello world\n",
      "hello world\n",
      "hello world\n",
      "hello world\n",
      "hello world\n"
     ]
    }
   ],
   "source": [
    "print(\"hello world\")\n",
    "print(\"hello world\")\n",
    "print(\"hello world\")\n",
    "print(\"hello world\")\n",
    "print(\"hello world\")\n",
    "print(\"hello world\")\n",
    "print(\"hello world\")"
   ]
  },
  {
   "cell_type": "code",
   "execution_count": 9,
   "id": "c31d802e-da39-4e60-b20c-a5f0a510cfd2",
   "metadata": {},
   "outputs": [
    {
     "name": "stdout",
     "output_type": "stream",
     "text": [
      "python is very easy\n",
      "python is very easy\n",
      "python is very easy\n",
      "python is very easy\n",
      "python is very easy\n"
     ]
    }
   ],
   "source": [
    "for i in range(5):\n",
    "    print(\"python is very easy\")"
   ]
  },
  {
   "cell_type": "code",
   "execution_count": 10,
   "id": "64bba68e-99e5-4f7b-bd2a-4a4653d305b2",
   "metadata": {},
   "outputs": [
    {
     "name": "stdout",
     "output_type": "stream",
     "text": [
      "python is very easy\n",
      "python is very easy\n",
      "python is very easy\n",
      "python is very easy\n",
      "python is very easy\n",
      "python is very easy\n",
      "python is very easy\n",
      "python is very easy\n",
      "python is very easy\n",
      "python is very easy\n"
     ]
    }
   ],
   "source": [
    "for i in range(10):\n",
    "    print(\"python is very easy\")"
   ]
  },
  {
   "cell_type": "code",
   "execution_count": 7,
   "id": "46004187-3746-4741-87e4-eac9827b28cd",
   "metadata": {},
   "outputs": [
    {
     "name": "stdout",
     "output_type": "stream",
     "text": [
      "['Mamta', 'Mayank', 'Arti', 'Nishi', 'Priyanshu', 'Abdullah', 'Suhail', 'Ayush']\n"
     ]
    }
   ],
   "source": [
    "# print all the elements of a list one by one using indexing\n",
    "names= [\"Mamta\",\"Mayank\",\"Arti\",\"Nishi\",\"Priyanshu\",\"Abdullah\",\"Suhail\",\"Ayush\"]\n",
    "print(names)"
   ]
  },
  {
   "cell_type": "code",
   "execution_count": 28,
   "id": "59367c0d-76b7-4035-a31a-5bb640442c3d",
   "metadata": {},
   "outputs": [
    {
     "name": "stdout",
     "output_type": "stream",
     "text": [
      "Mamta\n",
      "Mayank\n",
      "Arti\n",
      "Nishi\n",
      "Priyanshu\n",
      "Abdullah\n",
      "Suhail\n",
      "Ayush\n"
     ]
    }
   ],
   "source": [
    "print(names[0])\n",
    "print(names[1])\n",
    "print(names[2])\n",
    "print(names[3])\n",
    "print(names[4])\n",
    "print(names[5])\n",
    "print(names[6])\n",
    "print(names[7])\n"
   ]
  },
  {
   "cell_type": "code",
   "execution_count": 21,
   "id": "1ac5fd24-847d-4b82-a2f5-f96a74dd8d5e",
   "metadata": {},
   "outputs": [
    {
     "ename": "SyntaxError",
     "evalue": "invalid syntax (1928211566.py, line 1)",
     "output_type": "error",
     "traceback": [
      "\u001b[1;36m  Cell \u001b[1;32mIn[21], line 1\u001b[1;36m\u001b[0m\n\u001b[1;33m    using for loop\u001b[0m\n\u001b[1;37m          ^\u001b[0m\n\u001b[1;31mSyntaxError\u001b[0m\u001b[1;31m:\u001b[0m invalid syntax\n"
     ]
    }
   ],
   "source": [
    "using for loop\n",
    "names=[\"Mamta\",\"Mayank\",\"Nishi\",\"Ayush\",\"Arti\",\"Priyanshu\"]\n",
    "\n",
    "\n",
    "for x in names:\n",
    "     print(x)"
   ]
  },
  {
   "cell_type": "code",
   "execution_count": 11,
   "id": "9c36bb6a-a3d5-43a6-b534-34bbdaa4eccf",
   "metadata": {},
   "outputs": [
    {
     "name": "stdout",
     "output_type": "stream",
     "text": [
      "Mamta\n",
      "Mayank\n",
      "Arti\n",
      "Nishi\n",
      "Priyanshu\n",
      "Abdullah\n",
      "Suhail\n",
      "Ayush\n"
     ]
    }
   ],
   "source": [
    "for x in names:\n",
    "    print(x)"
   ]
  },
  {
   "cell_type": "code",
   "execution_count": 29,
   "id": "010a9599-760b-4ab7-bf9e-6ab3326c06f5",
   "metadata": {},
   "outputs": [
    {
     "name": "stdout",
     "output_type": "stream",
     "text": [
      "Mamta\n",
      "Mayank\n",
      "Arti\n",
      "Nishi\n",
      "Priyanshu\n",
      "Abdullah\n",
      "Suhail\n",
      "Ayush\n"
     ]
    },
    {
     "ename": "IndexError",
     "evalue": "list index out of range",
     "output_type": "error",
     "traceback": [
      "\u001b[1;31m---------------------------------------------------------------------------\u001b[0m",
      "\u001b[1;31mIndexError\u001b[0m                                Traceback (most recent call last)",
      "Cell \u001b[1;32mIn[29], line 3\u001b[0m\n\u001b[0;32m      1\u001b[0m a\u001b[38;5;241m=\u001b[39m\u001b[38;5;28mrange\u001b[39m(\u001b[38;5;241m9\u001b[39m)\n\u001b[0;32m      2\u001b[0m \u001b[38;5;28;01mfor\u001b[39;00m x \u001b[38;5;129;01min\u001b[39;00m a:\n\u001b[1;32m----> 3\u001b[0m     \u001b[38;5;28mprint\u001b[39m(names[x])\n",
      "\u001b[1;31mIndexError\u001b[0m: list index out of range"
     ]
    }
   ],
   "source": [
    "a=range(9)\n",
    "for x in a:\n",
    "    print(names[x])\n",
    "   "
   ]
  },
  {
   "cell_type": "code",
   "execution_count": 30,
   "id": "82da30bf-9b7f-4aa0-8d59-c71e286ff149",
   "metadata": {},
   "outputs": [
    {
     "name": "stdout",
     "output_type": "stream",
     "text": [
      "Mamta\n",
      "Mayank\n",
      "Arti\n",
      "Nishi\n",
      "Priyanshu\n",
      "Abdullah\n",
      "Suhail\n",
      "Ayush\n"
     ]
    }
   ],
   "source": [
    "for x in range (8):\n",
    "    print(names[x])"
   ]
  },
  {
   "cell_type": "code",
   "execution_count": 26,
   "id": "4814b7c5-d6cc-4f57-96e6-23b2234c2f1d",
   "metadata": {},
   "outputs": [
    {
     "name": "stdout",
     "output_type": "stream",
     "text": [
      "0\n",
      "1\n",
      "2\n",
      "3\n",
      "4\n",
      "5\n",
      "6\n",
      "7\n",
      "8\n"
     ]
    }
   ],
   "source": [
    "for x in range (9):\n",
    "    print(x)"
   ]
  },
  {
   "cell_type": "code",
   "execution_count": 27,
   "id": "76dc8406-189a-4489-a8e3-ef047a96eeee",
   "metadata": {},
   "outputs": [],
   "source": [
    "# range in data types[start,stop,steps]"
   ]
  },
  {
   "cell_type": "code",
   "execution_count": 13,
   "id": "916be754-1c4e-4685-8944-9152f322e55d",
   "metadata": {},
   "outputs": [
    {
     "name": "stdout",
     "output_type": "stream",
     "text": [
      "range(0, 9)\n"
     ]
    }
   ],
   "source": [
    "print(range(9))"
   ]
  },
  {
   "cell_type": "code",
   "execution_count": 14,
   "id": "802d086b-317a-472f-9116-664b9d7f00e1",
   "metadata": {},
   "outputs": [
    {
     "name": "stdout",
     "output_type": "stream",
     "text": [
      "range(0, 9)\n"
     ]
    }
   ],
   "source": [
    "x=range(9)\n",
    "print(x)"
   ]
  },
  {
   "cell_type": "code",
   "execution_count": 3,
   "id": "79b89007-deae-4232-8596-d8a443423dff",
   "metadata": {},
   "outputs": [
    {
     "ename": "SyntaxError",
     "evalue": "invalid syntax (302346181.py, line 1)",
     "output_type": "error",
     "traceback": [
      "\u001b[1;36m  Cell \u001b[1;32mIn[3], line 1\u001b[1;36m\u001b[0m\n\u001b[1;33m    print(range(9)):\u001b[0m\n\u001b[1;37m                   ^\u001b[0m\n\u001b[1;31mSyntaxError\u001b[0m\u001b[1;31m:\u001b[0m invalid syntax\n"
     ]
    }
   ],
   "source": [
    "print(range(9)):"
   ]
  },
  {
   "cell_type": "code",
   "execution_count": 16,
   "id": "d9b2a416-e48e-4973-afce-f3626c9b818e",
   "metadata": {},
   "outputs": [
    {
     "name": "stdout",
     "output_type": "stream",
     "text": [
      "[0, 1, 2, 3, 4, 5, 6, 7, 8]\n",
      "range(0, 9)\n"
     ]
    }
   ],
   "source": [
    "print(list(x))\n",
    "print(x)"
   ]
  },
  {
   "cell_type": "code",
   "execution_count": 17,
   "id": "19d7165f-b885-4bc9-b016-780cf17ac0f3",
   "metadata": {},
   "outputs": [
    {
     "name": "stdout",
     "output_type": "stream",
     "text": [
      "9\n"
     ]
    }
   ],
   "source": [
    "x=list(range(9))\n",
    "print(9)"
   ]
  },
  {
   "cell_type": "code",
   "execution_count": 18,
   "id": "3b069e79-8a56-455a-a7b7-aec9dffb05bf",
   "metadata": {},
   "outputs": [
    {
     "name": "stdout",
     "output_type": "stream",
     "text": [
      "range(10, 20)\n",
      "[10, 11, 12, 13, 14, 15, 16, 17, 18, 19]\n"
     ]
    }
   ],
   "source": [
    "y=range(10,20)\n",
    "print(y)\n",
    "print(list(y))"
   ]
  },
  {
   "cell_type": "code",
   "execution_count": 19,
   "id": "93aa0344-5001-4f6c-bdfb-9e8226eee821",
   "metadata": {},
   "outputs": [
    {
     "name": "stdout",
     "output_type": "stream",
     "text": [
      "[10, 12, 14, 16, 18]\n"
     ]
    }
   ],
   "source": [
    "z=range(10,20,2)\n",
    "print(list(z))"
   ]
  },
  {
   "cell_type": "code",
   "execution_count": 25,
   "id": "b2039b36-73bf-4ea5-b4c3-d90b7f5e9c83",
   "metadata": {},
   "outputs": [
    {
     "name": "stdout",
     "output_type": "stream",
     "text": [
      "Nishi\n"
     ]
    }
   ],
   "source": [
    "c=3\n",
    "print(names[c])"
   ]
  },
  {
   "cell_type": "code",
   "execution_count": 10,
   "id": "45ac0bea-6874-49ed-9133-fde4bf1e4632",
   "metadata": {},
   "outputs": [
    {
     "ename": "NameError",
     "evalue": "name 'names' is not defined",
     "output_type": "error",
     "traceback": [
      "\u001b[1;31m---------------------------------------------------------------------------\u001b[0m",
      "\u001b[1;31mNameError\u001b[0m                                 Traceback (most recent call last)",
      "Cell \u001b[1;32mIn[10], line 2\u001b[0m\n\u001b[0;32m      1\u001b[0m f\u001b[38;5;241m=\u001b[39m\u001b[38;5;241m4\u001b[39m\n\u001b[1;32m----> 2\u001b[0m \u001b[38;5;28mprint\u001b[39m(names[f])\n",
      "\u001b[1;31mNameError\u001b[0m: name 'names' is not defined"
     ]
    }
   ],
   "source": [
    "f=4\n",
    "print(names[f])"
   ]
  },
  {
   "cell_type": "code",
   "execution_count": 2,
   "id": "6ed5743d-c179-4fca-a667-e1902f4e2fa4",
   "metadata": {},
   "outputs": [
    {
     "ename": "NameError",
     "evalue": "name 'names' is not defined",
     "output_type": "error",
     "traceback": [
      "\u001b[1;31m---------------------------------------------------------------------------\u001b[0m",
      "\u001b[1;31mNameError\u001b[0m                                 Traceback (most recent call last)",
      "Cell \u001b[1;32mIn[2], line 2\u001b[0m\n\u001b[0;32m      1\u001b[0m d\u001b[38;5;241m=\u001b[39m\u001b[38;5;241m4\u001b[39m\n\u001b[1;32m----> 2\u001b[0m \u001b[38;5;28mprint\u001b[39m(names[d])\n",
      "\u001b[1;31mNameError\u001b[0m: name 'names' is not defined"
     ]
    }
   ],
   "source": [
    "d=4\n",
    "print(names[d])"
   ]
  },
  {
   "cell_type": "code",
   "execution_count": 3,
   "id": "086e312a-f964-4fd5-8511-ed0d61c7e2b2",
   "metadata": {},
   "outputs": [
    {
     "ename": "NameError",
     "evalue": "name 'names' is not defined",
     "output_type": "error",
     "traceback": [
      "\u001b[1;31m---------------------------------------------------------------------------\u001b[0m",
      "\u001b[1;31mNameError\u001b[0m                                 Traceback (most recent call last)",
      "Cell \u001b[1;32mIn[3], line 2\u001b[0m\n\u001b[0;32m      1\u001b[0m c\u001b[38;5;241m=\u001b[39m\u001b[38;5;241m4\u001b[39m\n\u001b[1;32m----> 2\u001b[0m \u001b[38;5;28mprint\u001b[39m(names[c])\n",
      "\u001b[1;31mNameError\u001b[0m: name 'names' is not defined"
     ]
    }
   ],
   "source": [
    "c=4\n",
    "print(names[c])"
   ]
  },
  {
   "cell_type": "markdown",
   "id": "d3a88651-a4bc-4201-92a1-30bb23d1048f",
   "metadata": {},
   "source": [
    " #### itrable data types = list, touple,dictionary,set,string,range"
   ]
  },
  {
   "cell_type": "markdown",
   "id": "c04fa973-99b3-447c-8173-ecd2d6521ea7",
   "metadata": {},
   "source": [
    "itration meanigs=repeatition "
   ]
  },
  {
   "cell_type": "markdown",
   "id": "9d7a9339-8c51-4c76-b225-bc696bc72bba",
   "metadata": {},
   "source": [
    "itrable =multipul values"
   ]
  },
  {
   "cell_type": "code",
   "execution_count": 7,
   "id": "9fe0b754-70e3-487d-be3c-1b1afb34baa9",
   "metadata": {},
   "outputs": [
    {
     "name": "stdout",
     "output_type": "stream",
     "text": [
      "python is esay\n",
      "12\n",
      "python is esay\n",
      "38\n",
      "python is esay\n",
      "445\n",
      "python is esay\n",
      "69\n"
     ]
    }
   ],
   "source": [
    "for a in [12,38,445,69]:\n",
    "    print(\"python is esay\")\n",
    "    print(a)"
   ]
  },
  {
   "cell_type": "markdown",
   "id": "2a8680b3-71b6-4910-b62c-2df7990a3b69",
   "metadata": {},
   "source": [
    " ## the lenght of the itreble decide the number of times \"for\" loops wil rum.\n",
    " no.of elements in the itrables."
   ]
  },
  {
   "cell_type": "code",
   "execution_count": 11,
   "id": "f120d83f-5a30-4d2a-8b4a-a8e02e3b35fc",
   "metadata": {},
   "outputs": [
    {
     "name": "stdout",
     "output_type": "stream",
     "text": [
      "12\n",
      "python is easy\n",
      "38\n",
      "python is easy\n",
      "45\n",
      "python is easy\n",
      "69\n",
      "python is easy\n"
     ]
    }
   ],
   "source": [
    "for a in [12,38,45,69]:# yha pr value se bhi fark pdta hai or no ki lenght se bhi fark pdta hai\n",
    "                         kyoki yha pr a ki value puchi gyi hai\n",
    "    print(a)\n",
    "    print(\"python is easy\")"
   ]
  },
  {
   "cell_type": "code",
   "execution_count": 13,
   "id": "23ef8302-9608-462d-bc06-aee4a7a5a313",
   "metadata": {},
   "outputs": [
    {
     "name": "stdout",
     "output_type": "stream",
     "text": [
      "python is easy\n",
      "python is easy\n",
      "python is easy\n",
      "python is easy\n"
     ]
    }
   ],
   "source": [
    "for a in [12,38,45,69]:# specfic no se koi fark nhi pdta,nomber ki length se fark pdta hai\n",
    "      print(\"python is easy\")"
   ]
  },
  {
   "cell_type": "code",
   "execution_count": 15,
   "id": "53d54074-c536-4f25-890a-541a6f1b69e9",
   "metadata": {},
   "outputs": [
    {
     "data": {
      "text/plain": [
       "True"
      ]
     },
     "execution_count": 15,
     "metadata": {},
     "output_type": "execute_result"
    }
   ],
   "source": [
    " y=45\n",
    "y in [12,45,38] # membership k thru work kerega"
   ]
  },
  {
   "cell_type": "code",
   "execution_count": 17,
   "id": "8cc9ca9f-2c47-4688-88de-0559ee12034e",
   "metadata": {},
   "outputs": [
    {
     "name": "stdout",
     "output_type": "stream",
     "text": [
      "12\n",
      "<class 'int'>\n",
      "python is easy\n",
      "38\n",
      "<class 'int'>\n",
      "python is easy\n",
      "45\n",
      "<class 'int'>\n",
      "python is easy\n",
      "69\n",
      "<class 'int'>\n",
      "python is easy\n"
     ]
    }
   ],
   "source": [
    "# data types ki informetion\n",
    "for a in [12,38,45,69]:\n",
    "    print(a)\n",
    "    print(type(a))\n",
    "    print(\"python is easy\")"
   ]
  },
  {
   "cell_type": "code",
   "execution_count": 18,
   "id": "7ea16c7f-bb4a-461a-a476-2550ff86aace",
   "metadata": {},
   "outputs": [
    {
     "name": "stdout",
     "output_type": "stream",
     "text": [
      "12\n",
      "<class 'str'>\n",
      "python is easy\n",
      "38\n",
      "<class 'str'>\n",
      "python is easy\n",
      "45\n",
      "<class 'str'>\n",
      "python is easy\n",
      "69\n",
      "<class 'str'>\n",
      "python is easy\n"
     ]
    }
   ],
   "source": [
    "# data types ki informetion\n",
    "for a in [\"12\",\"38\",\"45\",\"69\"]:\n",
    "    print(a)\n",
    "    print(type(a))\n",
    "    print(\"python is easy\")"
   ]
  },
  {
   "cell_type": "code",
   "execution_count": 19,
   "id": "744b0d50-c73c-4d33-b357-f6d3343653f9",
   "metadata": {},
   "outputs": [
    {
     "name": "stdout",
     "output_type": "stream",
     "text": [
      "12\n",
      "<class 'int'>\n",
      "python is easy\n",
      "38\n",
      "<class 'str'>\n",
      "python is easy\n",
      "45\n",
      "<class 'str'>\n",
      "python is easy\n",
      "69\n",
      "<class 'int'>\n",
      "python is easy\n"
     ]
    }
   ],
   "source": [
    "# data types ki informetion data types string\"\" bhi dega\n",
    "for a in [12,\"38\",\"45\",69]:\n",
    "    print(a)\n",
    "    print(type(a))\n",
    "    print(\"python is easy\")"
   ]
  },
  {
   "cell_type": "code",
   "execution_count": 1,
   "id": "f6744bdb-7f0d-468c-a555-7a00d1bd356e",
   "metadata": {},
   "outputs": [
    {
     "name": "stdout",
     "output_type": "stream",
     "text": [
      "p\n",
      "y\n",
      "t\n",
      "h\n",
      "o\n",
      "n\n"
     ]
    }
   ],
   "source": [
    "#2. print each letter in a word \n",
    "word=\"python\"\n",
    "for letter in word:\n",
    "    print(letter)\n",
    "    "
   ]
  },
  {
   "cell_type": "code",
   "execution_count": 4,
   "id": "4b9de4be-c8cd-4045-8827-4331aa23d667",
   "metadata": {},
   "outputs": [
    {
     "name": "stdout",
     "output_type": "stream",
     "text": [
      "0\n",
      "1\n",
      "2\n",
      "3\n",
      "4\n",
      "hello world\n"
     ]
    }
   ],
   "source": [
    "for x in range(5):\n",
    "    print(x)\n",
    "print(\"hello world\")#indent    \n",
    "    "
   ]
  },
  {
   "cell_type": "code",
   "execution_count": 5,
   "id": "8643b4e9-7333-4f52-8e95-e1a2343ce41c",
   "metadata": {},
   "outputs": [
    {
     "name": "stdout",
     "output_type": "stream",
     "text": [
      "0\n",
      "hello world\n",
      "1\n",
      "hello world\n",
      "2\n",
      "hello world\n",
      "3\n",
      "hello world\n",
      "4\n",
      "hello world\n"
     ]
    }
   ],
   "source": [
    "for x in range(5):\n",
    "    print(x)\n",
    "    print(\"hello world\")    \n",
    "    "
   ]
  },
  {
   "cell_type": "code",
   "execution_count": 6,
   "id": "710960f6-1fcb-460d-96b2-caf50218b905",
   "metadata": {},
   "outputs": [
    {
     "name": "stdout",
     "output_type": "stream",
     "text": [
      "4\n",
      "10\n"
     ]
    }
   ],
   "source": [
    "y=0\n",
    "for x in range(5):\n",
    "    y=y+x\n",
    "\n",
    "print(x)\n",
    "print(y)"
   ]
  },
  {
   "cell_type": "code",
   "execution_count": 19,
   "id": "e784c51d-7eb8-41c1-89a0-efbf4056623e",
   "metadata": {},
   "outputs": [
    {
     "name": "stdout",
     "output_type": "stream",
     "text": [
      "2\n",
      "5\n"
     ]
    }
   ],
   "source": [
    "y=2\n",
    "for x in range (3):\n",
    "    y=y+x\n",
    "print(x)\n",
    "print(y)"
   ]
  },
  {
   "cell_type": "code",
   "execution_count": 20,
   "id": "1734f4f7-17da-4268-8ebc-47aacca124e7",
   "metadata": {},
   "outputs": [
    {
     "name": "stdout",
     "output_type": "stream",
     "text": [
      "0\n",
      "2\n",
      "1\n",
      "3\n",
      "2\n",
      "5\n"
     ]
    }
   ],
   "source": [
    "y=2\n",
    "for x in range (3):\n",
    "    y=y+x\n",
    "    print(x)\n",
    "    print(y)"
   ]
  },
  {
   "cell_type": "code",
   "execution_count": 7,
   "id": "3d360df9-a00f-44c5-a608-7652783edba4",
   "metadata": {},
   "outputs": [
    {
     "name": "stdout",
     "output_type": "stream",
     "text": [
      "6\n"
     ]
    }
   ],
   "source": [
    "count=0\n",
    "device=\"leptop\"\n",
    "for x in device:\n",
    "    count=count+1\n",
    "\n",
    "print(count)"
   ]
  },
  {
   "cell_type": "code",
   "execution_count": 8,
   "id": "446518c0-5411-466b-bffc-28195b66200d",
   "metadata": {},
   "outputs": [
    {
     "name": "stdout",
     "output_type": "stream",
     "text": [
      "1\n",
      "2\n",
      "3\n",
      "4\n",
      "5\n",
      "6\n"
     ]
    }
   ],
   "source": [
    "count=0\n",
    "device=\"leptop\"\n",
    "for x in device:\n",
    "    count=count+1\n",
    "    print(count)"
   ]
  },
  {
   "cell_type": "code",
   "execution_count": 11,
   "id": "193fcda6-ec43-4330-b078-fa8d9f217d0c",
   "metadata": {},
   "outputs": [
    {
     "name": "stdout",
     "output_type": "stream",
     "text": [
      "2\n",
      "3\n",
      "4\n",
      "5\n",
      "6\n",
      "7\n",
      "8\n",
      "9\n"
     ]
    }
   ],
   "source": [
    "count=1\n",
    "device=\"computer\"\n",
    "for x in device:\n",
    "    count=count+1\n",
    "    print(count)"
   ]
  },
  {
   "cell_type": "code",
   "execution_count": 12,
   "id": "b9c73b98-596a-4d8e-a8dc-5d800bcc0b6c",
   "metadata": {},
   "outputs": [
    {
     "name": "stdout",
     "output_type": "stream",
     "text": [
      "4\n",
      "5\n",
      "6\n",
      "7\n",
      "8\n",
      "9\n",
      "10\n",
      "11\n"
     ]
    }
   ],
   "source": [
    "count=3\n",
    "device=\"computer\"\n",
    "for x in device:\n",
    "    count=count+1\n",
    "    print(count)"
   ]
  },
  {
   "cell_type": "code",
   "execution_count": 17,
   "id": "5058cf43-070e-43ef-801f-4d37926cf1d8",
   "metadata": {},
   "outputs": [
    {
     "name": "stdout",
     "output_type": "stream",
     "text": [
      "5\n",
      "5\n",
      "6\n",
      "5\n",
      "7\n",
      "5\n",
      "8\n",
      "5\n"
     ]
    }
   ],
   "source": [
    "y=5\n",
    "for x in range(4):\n",
    "    x=y+x\n",
    "    print(x)\n",
    "    print(y)"
   ]
  },
  {
   "cell_type": "code",
   "execution_count": 18,
   "id": "008f562b-16d7-46b2-875f-92db0d1abaca",
   "metadata": {},
   "outputs": [
    {
     "name": "stdout",
     "output_type": "stream",
     "text": [
      "8\n",
      "5\n"
     ]
    }
   ],
   "source": [
    "y=5\n",
    "for x in range(4):\n",
    "    x=y+x\n",
    "    \n",
    "print(x)\n",
    "print(y)"
   ]
  },
  {
   "cell_type": "code",
   "execution_count": 1,
   "id": "2230225d-f2dd-4cdc-a35a-69e8fe6f6901",
   "metadata": {},
   "outputs": [
    {
     "name": "stdout",
     "output_type": "stream",
     "text": [
      "1\n",
      "2\n",
      "3\n",
      "4\n"
     ]
    }
   ],
   "source": [
    "x=1\n",
    "while x<5:\n",
    "    print(x)\n",
    "    x=x+1\n",
    "\n"
   ]
  },
  {
   "cell_type": "code",
   "execution_count": 2,
   "id": "386b5abe-3e60-462b-b518-17e9fb02c1eb",
   "metadata": {},
   "outputs": [
    {
     "name": "stdout",
     "output_type": "stream",
     "text": [
      "1\n",
      "2\n",
      "3\n",
      "4\n",
      "5\n",
      "6\n",
      "7\n",
      "8\n",
      "9\n"
     ]
    }
   ],
   "source": [
    "x=1\n",
    "while x<10:\n",
    "    print(x)\n",
    "    x=x+1\n",
    "\n"
   ]
  },
  {
   "cell_type": "code",
   "execution_count": 5,
   "id": "a6a0f3bd-1ff8-4d06-a60f-3d6e9e50b540",
   "metadata": {},
   "outputs": [
    {
     "name": "stdout",
     "output_type": "stream",
     "text": [
      "5\n",
      "6\n",
      "7\n",
      "8\n",
      "9\n",
      "10\n"
     ]
    }
   ],
   "source": [
    "x=5\n",
    "while x<=10:\n",
    "    print(x)\n",
    "    x=x+1\n",
    "\n"
   ]
  },
  {
   "cell_type": "code",
   "execution_count": 6,
   "id": "580bc13e-7d49-42c3-bb05-0ff04eb261c2",
   "metadata": {},
   "outputs": [
    {
     "name": "stdout",
     "output_type": "stream",
     "text": [
      "steve jobs = Picasso +Edision\n",
      "steve jobs = Picasso +Edision\n",
      "steve jobs = Picasso +Edision\n",
      "steve jobs = Picasso +Edision\n",
      "steve jobs = Picasso +Edision\n",
      "steve jobs = Picasso +Edision\n",
      "steve jobs = Picasso +Edision\n",
      "steve jobs = Picasso +Edision\n",
      "steve jobs = Picasso +Edision\n"
     ]
    }
   ],
   "source": [
    "x=\"steave jobs\"\n",
    "while len(x)<20:\n",
    "    print(\"steve jobs = Picasso +Edision\")\n",
    "    x=x+\" \""
   ]
  },
  {
   "cell_type": "code",
   "execution_count": 1,
   "id": "6a4ad5c4-3165-4d6f-8e5f-0978f6054b62",
   "metadata": {},
   "outputs": [],
   "source": [
    "while False:\n",
    "    print(\"saransh\")"
   ]
  },
  {
   "cell_type": "code",
   "execution_count": 4,
   "id": "e4ad8eb9-a769-43b4-b8a0-64f6f60c9e72",
   "metadata": {},
   "outputs": [
    {
     "name": "stdout",
     "output_type": "stream",
     "text": [
      "15\n",
      "14\n",
      "13\n",
      "12\n",
      "11\n",
      "10\n"
     ]
    }
   ],
   "source": [
    "x=15\n",
    "while x>=10:\n",
    "    print(x)\n",
    "    x=x-1"
   ]
  },
  {
   "cell_type": "code",
   "execution_count": 5,
   "id": "5a7c81d2-508a-478f-a720-7f0ec26c2773",
   "metadata": {},
   "outputs": [
    {
     "name": "stdout",
     "output_type": "stream",
     "text": [
      "7\n"
     ]
    },
    {
     "ename": "TypeError",
     "evalue": "can only concatenate tuple (not \"str\") to tuple",
     "output_type": "error",
     "traceback": [
      "\u001b[1;31m---------------------------------------------------------------------------\u001b[0m",
      "\u001b[1;31mTypeError\u001b[0m                                 Traceback (most recent call last)",
      "Cell \u001b[1;32mIn[5], line 4\u001b[0m\n\u001b[0;32m      2\u001b[0m \u001b[38;5;28;01mwhile\u001b[39;00m \u001b[38;5;28mlen\u001b[39m(x)\u001b[38;5;241m<\u001b[39m\u001b[38;5;241m20\u001b[39m:\n\u001b[0;32m      3\u001b[0m     \u001b[38;5;28mprint\u001b[39m(\u001b[38;5;28mlen\u001b[39m(x))\n\u001b[1;32m----> 4\u001b[0m     x\u001b[38;5;241m=\u001b[39mx\u001b[38;5;241m+\u001b[39m\u001b[38;5;124m\"\u001b[39m\u001b[38;5;124m\"\u001b[39m\n",
      "\u001b[1;31mTypeError\u001b[0m: can only concatenate tuple (not \"str\") to tuple"
     ]
    }
   ],
   "source": [
    "x=(\"Mamta\",\"nishi\",\"arti\",\"mayank\",\"priyanshu\",\"abdullah\",\"suhail\")\n",
    "while len(x)<20:\n",
    "    print(len(x))\n",
    "    x=x+\"\""
   ]
  },
  {
   "cell_type": "code",
   "execution_count": 10,
   "id": "0b62fd49-40b2-48cd-ac89-5cd958182d5a",
   "metadata": {},
   "outputs": [
    {
     "ename": "NameError",
     "evalue": "name 'name' is not defined",
     "output_type": "error",
     "traceback": [
      "\u001b[1;31m---------------------------------------------------------------------------\u001b[0m",
      "\u001b[1;31mNameError\u001b[0m                                 Traceback (most recent call last)",
      "Cell \u001b[1;32mIn[10], line 2\u001b[0m\n\u001b[0;32m      1\u001b[0m names\u001b[38;5;241m=\u001b[39m[\u001b[38;5;124m\"\u001b[39m\u001b[38;5;124mMamta\u001b[39m\u001b[38;5;124m\"\u001b[39m,\u001b[38;5;124m\"\u001b[39m\u001b[38;5;124mnishi\u001b[39m\u001b[38;5;124m\"\u001b[39m,\u001b[38;5;124m\"\u001b[39m\u001b[38;5;124marti\u001b[39m\u001b[38;5;124m\"\u001b[39m,\u001b[38;5;124m\"\u001b[39m\u001b[38;5;124mmayank\u001b[39m\u001b[38;5;124m\"\u001b[39m,\u001b[38;5;124m\"\u001b[39m\u001b[38;5;124mpriyanshu\u001b[39m\u001b[38;5;124m\"\u001b[39m,\u001b[38;5;124m\"\u001b[39m\u001b[38;5;124mabdullah\u001b[39m\u001b[38;5;124m\"\u001b[39m,\u001b[38;5;124m\"\u001b[39m\u001b[38;5;124msuhail\u001b[39m\u001b[38;5;124m\"\u001b[39m]\n\u001b[1;32m----> 2\u001b[0m \u001b[38;5;28;01mwhile\u001b[39;00m (name):\n\u001b[0;32m      3\u001b[0m     \u001b[38;5;28mprint\u001b[39m(names)\n\u001b[0;32m      4\u001b[0m     names\u001b[38;5;241m=\u001b[39mnames\u001b[38;5;241m+\u001b[39m\u001b[38;5;124m\"\u001b[39m\u001b[38;5;124m\"\u001b[39m\n",
      "\u001b[1;31mNameError\u001b[0m: name 'name' is not defined"
     ]
    }
   ],
   "source": [
    "names=[\"Mamta\",\"nishi\",\"arti\",\"mayank\",\"priyanshu\",\"abdullah\",\"suhail\"]\n",
    "while (name):\n",
    "    print(names)\n",
    "    names=names+\"\""
   ]
  },
  {
   "cell_type": "code",
   "execution_count": 22,
   "id": "94685c36-56ed-4b10-b659-cfeffaebabeb",
   "metadata": {},
   "outputs": [
    {
     "name": "stdout",
     "output_type": "stream",
     "text": [
      "['mamta', 'nishi', 'arti', 'mayank', 'tushar', 'shreya']\n",
      "7\n"
     ]
    },
    {
     "ename": "TypeError",
     "evalue": "can only concatenate list (not \"int\") to list",
     "output_type": "error",
     "traceback": [
      "\u001b[1;31m---------------------------------------------------------------------------\u001b[0m",
      "\u001b[1;31mTypeError\u001b[0m                                 Traceback (most recent call last)",
      "Cell \u001b[1;32mIn[22], line 6\u001b[0m\n\u001b[0;32m      4\u001b[0m \u001b[38;5;28mprint\u001b[39m(names)\n\u001b[0;32m      5\u001b[0m \u001b[38;5;28mprint\u001b[39m(\u001b[38;5;28mlen\u001b[39m(x))\n\u001b[1;32m----> 6\u001b[0m x\u001b[38;5;241m=\u001b[39mx\u001b[38;5;241m+\u001b[39m\u001b[38;5;241m1\u001b[39m\n",
      "\u001b[1;31mTypeError\u001b[0m: can only concatenate list (not \"int\") to list"
     ]
    }
   ],
   "source": [
    "names=[\"mamta\",\"nishi\",\"arti\",\"mayank\",\"tushar\",\"shreya\"]\n",
    "\n",
    "while names:\n",
    "    print(names)\n",
    "    print(len(x))\n",
    "    x=x+1"
   ]
  },
  {
   "cell_type": "code",
   "execution_count": 2,
   "id": "524aa145-6081-4acd-b9d4-b6fbb44adf87",
   "metadata": {},
   "outputs": [
    {
     "name": "stdout",
     "output_type": "stream",
     "text": [
      "['mamta', 'nishi', 'arti', 'mayank', 'tushar', 'shreya']\n"
     ]
    },
    {
     "ename": "NameError",
     "evalue": "name 'i' is not defined",
     "output_type": "error",
     "traceback": [
      "\u001b[1;31m---------------------------------------------------------------------------\u001b[0m",
      "\u001b[1;31mNameError\u001b[0m                                 Traceback (most recent call last)",
      "Cell \u001b[1;32mIn[2], line 5\u001b[0m\n\u001b[0;32m      3\u001b[0m \u001b[38;5;28;01mwhile\u001b[39;00m names:\n\u001b[0;32m      4\u001b[0m     \u001b[38;5;28mprint\u001b[39m(names)\n\u001b[1;32m----> 5\u001b[0m     \u001b[38;5;28mprint\u001b[39m(\u001b[38;5;28mlen\u001b[39m(i))\n\u001b[0;32m      6\u001b[0m     i\u001b[38;5;241m=\u001b[39mi\u001b[38;5;241m+\u001b[39m\u001b[38;5;241m1\u001b[39m\n",
      "\u001b[1;31mNameError\u001b[0m: name 'i' is not defined"
     ]
    }
   ],
   "source": [
    "names=[\"mamta\",\"nishi\",\"arti\",\"mayank\",\"tushar\",\"shreya\"]\n",
    "\n",
    "while names:\n",
    "    print(names)\n",
    "    print(len(i))\n",
    "    i=i+1"
   ]
  },
  {
   "cell_type": "code",
   "execution_count": 23,
   "id": "0fc3a41f-5b7e-49c7-93f7-3abcfd28787d",
   "metadata": {},
   "outputs": [],
   "source": [
    "names=[\"mamta\",\"nishi\",\"arti\",\"mayank\",\"tushar\",\"shreya\"]\n",
    "\n",
    "a=range(10)\n",
    "while x in a:\n",
    "    print(names[x])\n",
    "\n"
   ]
  },
  {
   "cell_type": "code",
   "execution_count": 1,
   "id": "588ee17e-f604-48f6-ade5-093e87d97b3c",
   "metadata": {},
   "outputs": [
    {
     "ename": "NameError",
     "evalue": "name 'i' is not defined",
     "output_type": "error",
     "traceback": [
      "\u001b[1;31m---------------------------------------------------------------------------\u001b[0m",
      "\u001b[1;31mNameError\u001b[0m                                 Traceback (most recent call last)",
      "Cell \u001b[1;32mIn[1], line 3\u001b[0m\n\u001b[0;32m      1\u001b[0m names\u001b[38;5;241m=\u001b[39m[\u001b[38;5;124m\"\u001b[39m\u001b[38;5;124mmamta\u001b[39m\u001b[38;5;124m\"\u001b[39m,\u001b[38;5;124m\"\u001b[39m\u001b[38;5;124mnishi\u001b[39m\u001b[38;5;124m\"\u001b[39m,\u001b[38;5;124m\"\u001b[39m\u001b[38;5;124marti\u001b[39m\u001b[38;5;124m\"\u001b[39m,\u001b[38;5;124m\"\u001b[39m\u001b[38;5;124mmayank\u001b[39m\u001b[38;5;124m\"\u001b[39m,\u001b[38;5;124m\"\u001b[39m\u001b[38;5;124mtushar\u001b[39m\u001b[38;5;124m\"\u001b[39m,\u001b[38;5;124m\"\u001b[39m\u001b[38;5;124mshreya\u001b[39m\u001b[38;5;124m\"\u001b[39m]\n\u001b[1;32m----> 3\u001b[0m \u001b[38;5;28;01mwhile\u001b[39;00m i\u001b[38;5;241m<\u001b[39m\u001b[38;5;28mlen\u001b[39m(names):\n\u001b[0;32m      4\u001b[0m     \u001b[38;5;28mprint\u001b[39m(names)\n\u001b[0;32m      5\u001b[0m     i\u001b[38;5;241m=\u001b[39mi\u001b[38;5;241m+\u001b[39m\u001b[38;5;241m1\u001b[39m\n",
      "\u001b[1;31mNameError\u001b[0m: name 'i' is not defined"
     ]
    }
   ],
   "source": [
    "names=[\"mamta\",\"nishi\",\"arti\",\"mayank\",\"tushar\",\"shreya\"]\n",
    "\n",
    "while i<len(names):\n",
    "    print(names)\n",
    "    i=i+1\n"
   ]
  },
  {
   "cell_type": "code",
   "execution_count": 2,
   "id": "7854559f-8010-4529-8296-cef8d69eda30",
   "metadata": {},
   "outputs": [
    {
     "name": "stdout",
     "output_type": "stream",
     "text": [
      "discovery of india\n",
      "nexus\n",
      "sapniens\n",
      "gaban\n"
     ]
    }
   ],
   "source": [
    "# print all the element of the list one by one using loop\n",
    "books=[\"discovery of india\",\"nexus\",\"sapniens\",\"gaban\"]\n",
    "count=0\n",
    "while count<len(books):\n",
    "    print(books[count])\n",
    "    count+=1\n",
    "    "
   ]
  },
  {
   "cell_type": "code",
   "execution_count": 3,
   "id": "8a91169a-f237-4742-91b2-405732a3bfe5",
   "metadata": {},
   "outputs": [
    {
     "name": "stdout",
     "output_type": "stream",
     "text": [
      "discovery of india\n",
      "nexus\n",
      "sapniens\n",
      "gaban\n"
     ]
    }
   ],
   "source": [
    "for x in range (len(books)):\n",
    "    print(books[x])"
   ]
  },
  {
   "cell_type": "code",
   "execution_count": 3,
   "id": "158fcc8f-ba74-4889-aebc-ff5ef06130bd",
   "metadata": {},
   "outputs": [
    {
     "name": "stdin",
     "output_type": "stream",
     "text": [
      "enter password: 123\n"
     ]
    },
    {
     "ename": "NameError",
     "evalue": "name 'VijAI' is not defined",
     "output_type": "error",
     "traceback": [
      "\u001b[1;31m---------------------------------------------------------------------------\u001b[0m",
      "\u001b[1;31mNameError\u001b[0m                                 Traceback (most recent call last)",
      "Cell \u001b[1;32mIn[3], line 4\u001b[0m\n\u001b[0;32m      2\u001b[0m password\u001b[38;5;241m=\u001b[39m(\u001b[38;5;28minput\u001b[39m(\u001b[38;5;124m\"\u001b[39m\u001b[38;5;124menter password:\u001b[39m\u001b[38;5;124m\"\u001b[39m))\n\u001b[0;32m      3\u001b[0m \u001b[38;5;28;01mwhile\u001b[39;00m (password):\n\u001b[1;32m----> 4\u001b[0m     \u001b[38;5;28mprint\u001b[39m(password[VijAI\u001b[38;5;241m@\u001b[39m\u001b[38;5;241m123\u001b[39m])\n",
      "\u001b[1;31mNameError\u001b[0m: name 'VijAI' is not defined"
     ]
    }
   ],
   "source": [
    "password=(\"VijAI@123\")\n",
    "password=(input(\"enter password:\"))\n",
    "while (password):\n",
    "    print(password[VijAI@123])\n",
    "\n",
    "\n",
    "    \n",
    "\n",
    "\n",
    "\n",
    "\n"
   ]
  },
  {
   "cell_type": "code",
   "execution_count": 4,
   "id": "0539b62e-fbe6-48af-8d1c-79f0f783bcce",
   "metadata": {},
   "outputs": [
    {
     "name": "stdin",
     "output_type": "stream",
     "text": [
      "enter password: @123\n"
     ]
    },
    {
     "ename": "TypeError",
     "evalue": "string indices must be integers, not 'str'",
     "output_type": "error",
     "traceback": [
      "\u001b[1;31m---------------------------------------------------------------------------\u001b[0m",
      "\u001b[1;31mTypeError\u001b[0m                                 Traceback (most recent call last)",
      "Cell \u001b[1;32mIn[4], line 4\u001b[0m\n\u001b[0;32m      2\u001b[0m password\u001b[38;5;241m=\u001b[39m(\u001b[38;5;28minput\u001b[39m(\u001b[38;5;124m\"\u001b[39m\u001b[38;5;124menter password:\u001b[39m\u001b[38;5;124m\"\u001b[39m))\n\u001b[0;32m      3\u001b[0m \u001b[38;5;28;01mwhile\u001b[39;00m (password):\n\u001b[1;32m----> 4\u001b[0m     \u001b[38;5;28mprint\u001b[39m(password[\u001b[38;5;124m\"\u001b[39m\u001b[38;5;124mVijAI@123\u001b[39m\u001b[38;5;124m\"\u001b[39m])\n",
      "\u001b[1;31mTypeError\u001b[0m: string indices must be integers, not 'str'"
     ]
    }
   ],
   "source": [
    "password=(\"VijAI@123\")\n",
    "password=(input(\"enter password:\"))\n",
    "while (password):\n",
    "    print(password[\"VijAI@123\"])\n",
    "\n",
    "\n",
    "\n",
    "    \n",
    "\n",
    "\n",
    "\n",
    "\n"
   ]
  },
  {
   "cell_type": "code",
   "execution_count": 9,
   "id": "21670fca-d766-4c88-ad97-c0ba736d0cb0",
   "metadata": {},
   "outputs": [
    {
     "name": "stdin",
     "output_type": "stream",
     "text": [
      "enter password: vijai@123\n"
     ]
    },
    {
     "ename": "NameError",
     "evalue": "name 'VijAI' is not defined",
     "output_type": "error",
     "traceback": [
      "\u001b[1;31m---------------------------------------------------------------------------\u001b[0m",
      "\u001b[1;31mNameError\u001b[0m                                 Traceback (most recent call last)",
      "Cell \u001b[1;32mIn[9], line 4\u001b[0m\n\u001b[0;32m      2\u001b[0m password\u001b[38;5;241m=\u001b[39m(\u001b[38;5;28minput\u001b[39m(\u001b[38;5;124m\"\u001b[39m\u001b[38;5;124menter password:\u001b[39m\u001b[38;5;124m\"\u001b[39m))\n\u001b[0;32m      3\u001b[0m \u001b[38;5;28;01mwhile\u001b[39;00m (password):\n\u001b[1;32m----> 4\u001b[0m     \u001b[38;5;28mprint\u001b[39m(password[VijAI\u001b[38;5;241m@\u001b[39m\u001b[38;5;241m123\u001b[39m])\n",
      "\u001b[1;31mNameError\u001b[0m: name 'VijAI' is not defined"
     ]
    }
   ],
   "source": [
    "password=(\"VijAI@123\")\n",
    "password=(input(\"enter password:\"))\n",
    "while (password):\n",
    "    print(password[VijAI@123])\n"
   ]
  },
  {
   "cell_type": "code",
   "execution_count": null,
   "id": "5dd40d06-ee5d-4a89-abd8-5f44b207403b",
   "metadata": {},
   "outputs": [],
   "source": [
    "password=(\"VijAI@123\")\n",
    "password=(input(\"enter password:\"))\n",
    "while (password):\n",
    "    print(\"password\")\n"
   ]
  },
  {
   "cell_type": "code",
   "execution_count": null,
   "id": "d2596523-0b77-4f2a-bdd5-73ee262ea5ae",
   "metadata": {},
   "outputs": [],
   "source": [
    "PASSWORD=(\"VijAI@123\")\n",
    "password=(input(\"enter password:\"))\n",
    "while password != PASSWORD:\n",
    "    password=input(\"enter password\")\n",
    "    \n"
   ]
  },
  {
   "cell_type": "code",
   "execution_count": 1,
   "id": "aa704b68-6d5c-49c2-b69f-73054d5373d3",
   "metadata": {},
   "outputs": [
    {
     "name": "stdin",
     "output_type": "stream",
     "text": [
      "enter password: asdfg\n",
      "enter password sdfgn\n",
      "enter password asdfb\n",
      "enter password vijai123\n",
      "enter password viai123\n",
      "enter password VijAI@123\n"
     ]
    }
   ],
   "source": [
    "PASSWORD=(\"VijAI@123\")\n",
    "password=(input(\"enter password:\"))\n",
    "while password != PASSWORD:\n",
    "    password=input(\"enter password\")\n",
    "    \n"
   ]
  },
  {
   "cell_type": "code",
   "execution_count": 1,
   "id": "4695daa1-c209-4c43-97c7-f255c4cc93b5",
   "metadata": {},
   "outputs": [
    {
     "name": "stdin",
     "output_type": "stream",
     "text": [
      "enter name: asdf\n",
      "enter name nd,sdm\n",
      "enter name djfij\n",
      "enter name njfni\n",
      "enter name mamta\n",
      "enter name Mamta\n"
     ]
    }
   ],
   "source": [
    "NAME=(\"Mamta\")\n",
    "name=(input(\"enter name:\"))\n",
    "while name !=NAME:\n",
    "    name=input(\"enter name\")"
   ]
  },
  {
   "cell_type": "code",
   "execution_count": 37,
   "id": "de3577e3-2c19-4607-8a0b-6e4efa300d7c",
   "metadata": {},
   "outputs": [
    {
     "name": "stdin",
     "output_type": "stream",
     "text": [
      "enter first number: 12\n",
      "enter second number: 45\n",
      "enter choice of operator: +\n",
      "enter first number: 2\n",
      "enter second number: 3\n",
      "enter choice of operator: +\n",
      "enter first number: 1.5\n",
      "enter second number: 1.2\n",
      "enter choice of operator: +\n"
     ]
    },
    {
     "ename": "KeyboardInterrupt",
     "evalue": "Interrupted by user",
     "output_type": "error",
     "traceback": [
      "\u001b[1;31m---------------------------------------------------------------------------\u001b[0m",
      "\u001b[1;31mKeyboardInterrupt\u001b[0m                         Traceback (most recent call last)",
      "Cell \u001b[1;32mIn[37], line 2\u001b[0m\n\u001b[0;32m      1\u001b[0m \u001b[38;5;28;01mwhile\u001b[39;00m \u001b[38;5;28;01mTrue\u001b[39;00m:\n\u001b[1;32m----> 2\u001b[0m    num1\u001b[38;5;241m=\u001b[39m\u001b[38;5;28mfloat\u001b[39m(\u001b[38;5;28minput\u001b[39m(\u001b[38;5;124m\"\u001b[39m\u001b[38;5;124menter first number:\u001b[39m\u001b[38;5;124m\"\u001b[39m))\n\u001b[0;32m      3\u001b[0m    num2\u001b[38;5;241m=\u001b[39m\u001b[38;5;28mfloat\u001b[39m(\u001b[38;5;28minput\u001b[39m(\u001b[38;5;124m\"\u001b[39m\u001b[38;5;124menter second number:\u001b[39m\u001b[38;5;124m\"\u001b[39m))\n\u001b[0;32m      4\u001b[0m    operator\u001b[38;5;241m=\u001b[39m(\u001b[38;5;28minput\u001b[39m(\u001b[38;5;124m\"\u001b[39m\u001b[38;5;124menter choice of operator:\u001b[39m\u001b[38;5;124m\"\u001b[39m))\n",
      "File \u001b[1;32m~\\anaconda3\\Lib\\site-packages\\ipykernel\\kernelbase.py:1282\u001b[0m, in \u001b[0;36mKernel.raw_input\u001b[1;34m(self, prompt)\u001b[0m\n\u001b[0;32m   1280\u001b[0m     msg \u001b[38;5;241m=\u001b[39m \u001b[38;5;124m\"\u001b[39m\u001b[38;5;124mraw_input was called, but this frontend does not support input requests.\u001b[39m\u001b[38;5;124m\"\u001b[39m\n\u001b[0;32m   1281\u001b[0m     \u001b[38;5;28;01mraise\u001b[39;00m StdinNotImplementedError(msg)\n\u001b[1;32m-> 1282\u001b[0m \u001b[38;5;28;01mreturn\u001b[39;00m \u001b[38;5;28mself\u001b[39m\u001b[38;5;241m.\u001b[39m_input_request(\n\u001b[0;32m   1283\u001b[0m     \u001b[38;5;28mstr\u001b[39m(prompt),\n\u001b[0;32m   1284\u001b[0m     \u001b[38;5;28mself\u001b[39m\u001b[38;5;241m.\u001b[39m_parent_ident[\u001b[38;5;124m\"\u001b[39m\u001b[38;5;124mshell\u001b[39m\u001b[38;5;124m\"\u001b[39m],\n\u001b[0;32m   1285\u001b[0m     \u001b[38;5;28mself\u001b[39m\u001b[38;5;241m.\u001b[39mget_parent(\u001b[38;5;124m\"\u001b[39m\u001b[38;5;124mshell\u001b[39m\u001b[38;5;124m\"\u001b[39m),\n\u001b[0;32m   1286\u001b[0m     password\u001b[38;5;241m=\u001b[39m\u001b[38;5;28;01mFalse\u001b[39;00m,\n\u001b[0;32m   1287\u001b[0m )\n",
      "File \u001b[1;32m~\\anaconda3\\Lib\\site-packages\\ipykernel\\kernelbase.py:1325\u001b[0m, in \u001b[0;36mKernel._input_request\u001b[1;34m(self, prompt, ident, parent, password)\u001b[0m\n\u001b[0;32m   1322\u001b[0m \u001b[38;5;28;01mexcept\u001b[39;00m \u001b[38;5;167;01mKeyboardInterrupt\u001b[39;00m:\n\u001b[0;32m   1323\u001b[0m     \u001b[38;5;66;03m# re-raise KeyboardInterrupt, to truncate traceback\u001b[39;00m\n\u001b[0;32m   1324\u001b[0m     msg \u001b[38;5;241m=\u001b[39m \u001b[38;5;124m\"\u001b[39m\u001b[38;5;124mInterrupted by user\u001b[39m\u001b[38;5;124m\"\u001b[39m\n\u001b[1;32m-> 1325\u001b[0m     \u001b[38;5;28;01mraise\u001b[39;00m \u001b[38;5;167;01mKeyboardInterrupt\u001b[39;00m(msg) \u001b[38;5;28;01mfrom\u001b[39;00m\u001b[38;5;250m \u001b[39m\u001b[38;5;28;01mNone\u001b[39;00m\n\u001b[0;32m   1326\u001b[0m \u001b[38;5;28;01mexcept\u001b[39;00m \u001b[38;5;167;01mException\u001b[39;00m:\n\u001b[0;32m   1327\u001b[0m     \u001b[38;5;28mself\u001b[39m\u001b[38;5;241m.\u001b[39mlog\u001b[38;5;241m.\u001b[39mwarning(\u001b[38;5;124m\"\u001b[39m\u001b[38;5;124mInvalid Message:\u001b[39m\u001b[38;5;124m\"\u001b[39m, exc_info\u001b[38;5;241m=\u001b[39m\u001b[38;5;28;01mTrue\u001b[39;00m)\n",
      "\u001b[1;31mKeyboardInterrupt\u001b[0m: Interrupted by user"
     ]
    }
   ],
   "source": [
    "while True:\n",
    "   num1=float(input(\"enter first number:\"))\n",
    "   num2=float(input(\"enter second number:\"))\n",
    "   operator=(input(\"enter choice of operator:\"))\n",
    "   \n",
    "\n",
    "    if operator==\"+\":\n",
    "       result=num1+num2\n",
    "\n",
    "    elif operator==\"-\":\n",
    "    result=num1-num2\n",
    "\n",
    "elif operator==\"-\":\n",
    "   result=num1*num2\n",
    "\n",
    "elif operator==\"/\":\n",
    "    result=num1/num2\n",
    "\n",
    "else:\n",
    "     print(\"invalid operator\")\n",
    "\n",
    "\n",
    "print(\"Result:\",result)\n"
   ]
  },
  {
   "cell_type": "code",
   "execution_count": 24,
   "id": "f08a9a7e-2d0a-4f0f-b06a-563242df194f",
   "metadata": {},
   "outputs": [
    {
     "ename": "KeyboardInterrupt",
     "evalue": "Interrupted by user",
     "output_type": "error",
     "traceback": [
      "\u001b[1;31m---------------------------------------------------------------------------\u001b[0m",
      "\u001b[1;31mKeyboardInterrupt\u001b[0m                         Traceback (most recent call last)",
      "Cell \u001b[1;32mIn[24], line 2\u001b[0m\n\u001b[0;32m      1\u001b[0m \u001b[38;5;28;01mwhile\u001b[39;00m \u001b[38;5;28;01mTrue\u001b[39;00m:\n\u001b[1;32m----> 2\u001b[0m    num1\u001b[38;5;241m=\u001b[39m\u001b[38;5;28mfloat\u001b[39m(\u001b[38;5;28minput\u001b[39m(\u001b[38;5;124m\"\u001b[39m\u001b[38;5;124menter first number:\u001b[39m\u001b[38;5;124m\"\u001b[39m))\n\u001b[0;32m      3\u001b[0m    num2\u001b[38;5;241m=\u001b[39m\u001b[38;5;28mfloat\u001b[39m(\u001b[38;5;28minput\u001b[39m(\u001b[38;5;124m\"\u001b[39m\u001b[38;5;124menter second number:\u001b[39m\u001b[38;5;124m\"\u001b[39m))\n\u001b[0;32m      4\u001b[0m    operator\u001b[38;5;241m=\u001b[39m(\u001b[38;5;28minput\u001b[39m(\u001b[38;5;124m\"\u001b[39m\u001b[38;5;124menter choice of operator:\u001b[39m\u001b[38;5;124m\"\u001b[39m))\n",
      "File \u001b[1;32m~\\anaconda3\\Lib\\site-packages\\ipykernel\\kernelbase.py:1282\u001b[0m, in \u001b[0;36mKernel.raw_input\u001b[1;34m(self, prompt)\u001b[0m\n\u001b[0;32m   1280\u001b[0m     msg \u001b[38;5;241m=\u001b[39m \u001b[38;5;124m\"\u001b[39m\u001b[38;5;124mraw_input was called, but this frontend does not support input requests.\u001b[39m\u001b[38;5;124m\"\u001b[39m\n\u001b[0;32m   1281\u001b[0m     \u001b[38;5;28;01mraise\u001b[39;00m StdinNotImplementedError(msg)\n\u001b[1;32m-> 1282\u001b[0m \u001b[38;5;28;01mreturn\u001b[39;00m \u001b[38;5;28mself\u001b[39m\u001b[38;5;241m.\u001b[39m_input_request(\n\u001b[0;32m   1283\u001b[0m     \u001b[38;5;28mstr\u001b[39m(prompt),\n\u001b[0;32m   1284\u001b[0m     \u001b[38;5;28mself\u001b[39m\u001b[38;5;241m.\u001b[39m_parent_ident[\u001b[38;5;124m\"\u001b[39m\u001b[38;5;124mshell\u001b[39m\u001b[38;5;124m\"\u001b[39m],\n\u001b[0;32m   1285\u001b[0m     \u001b[38;5;28mself\u001b[39m\u001b[38;5;241m.\u001b[39mget_parent(\u001b[38;5;124m\"\u001b[39m\u001b[38;5;124mshell\u001b[39m\u001b[38;5;124m\"\u001b[39m),\n\u001b[0;32m   1286\u001b[0m     password\u001b[38;5;241m=\u001b[39m\u001b[38;5;28;01mFalse\u001b[39;00m,\n\u001b[0;32m   1287\u001b[0m )\n",
      "File \u001b[1;32m~\\anaconda3\\Lib\\site-packages\\ipykernel\\kernelbase.py:1325\u001b[0m, in \u001b[0;36mKernel._input_request\u001b[1;34m(self, prompt, ident, parent, password)\u001b[0m\n\u001b[0;32m   1322\u001b[0m \u001b[38;5;28;01mexcept\u001b[39;00m \u001b[38;5;167;01mKeyboardInterrupt\u001b[39;00m:\n\u001b[0;32m   1323\u001b[0m     \u001b[38;5;66;03m# re-raise KeyboardInterrupt, to truncate traceback\u001b[39;00m\n\u001b[0;32m   1324\u001b[0m     msg \u001b[38;5;241m=\u001b[39m \u001b[38;5;124m\"\u001b[39m\u001b[38;5;124mInterrupted by user\u001b[39m\u001b[38;5;124m\"\u001b[39m\n\u001b[1;32m-> 1325\u001b[0m     \u001b[38;5;28;01mraise\u001b[39;00m \u001b[38;5;167;01mKeyboardInterrupt\u001b[39;00m(msg) \u001b[38;5;28;01mfrom\u001b[39;00m\u001b[38;5;250m \u001b[39m\u001b[38;5;28;01mNone\u001b[39;00m\n\u001b[0;32m   1326\u001b[0m \u001b[38;5;28;01mexcept\u001b[39;00m \u001b[38;5;167;01mException\u001b[39;00m:\n\u001b[0;32m   1327\u001b[0m     \u001b[38;5;28mself\u001b[39m\u001b[38;5;241m.\u001b[39mlog\u001b[38;5;241m.\u001b[39mwarning(\u001b[38;5;124m\"\u001b[39m\u001b[38;5;124mInvalid Message:\u001b[39m\u001b[38;5;124m\"\u001b[39m, exc_info\u001b[38;5;241m=\u001b[39m\u001b[38;5;28;01mTrue\u001b[39;00m)\n",
      "\u001b[1;31mKeyboardInterrupt\u001b[0m: Interrupted by user"
     ]
    }
   ],
   "source": [
    "while True:\n",
    "   num1=float(input(\"enter first number:\"))\n",
    "   num2=float(input(\"enter second number:\"))\n",
    "   operator=(input(\"enter choice of operator:\"))\n",
    "   \n",
    "\n",
    "if operator==\"+\":\n",
    "\n",
    "   result=num1+num2\n",
    "\n",
    "elif operator==\"-\":\n",
    "    result=num1-num2\n",
    "\n",
    "elif operator==\"-\":\n",
    "   result=num1*num2\n",
    "\n",
    "elif operator==\"/\":\n",
    "    result=num1/num2\n",
    "\n",
    "else:\n",
    "     print(\"invalid operator\")\n",
    "\n",
    "\n",
    "print(\"Result:\",result)\n"
   ]
  },
  {
   "cell_type": "code",
   "execution_count": 2,
   "id": "88e6c22b-bbf3-4a9a-a698-ea12175049d8",
   "metadata": {},
   "outputs": [
    {
     "name": "stdin",
     "output_type": "stream",
     "text": [
      "enter first number: 34\n",
      "enter second number: 45\n",
      "enter choice of operator +\n"
     ]
    },
    {
     "name": "stdout",
     "output_type": "stream",
     "text": [
      "Result: 79.0\n"
     ]
    },
    {
     "name": "stdin",
     "output_type": "stream",
     "text": [
      "enter first number: 75\n",
      "enter second number: 67\n",
      "enter choice of operator kl\n"
     ]
    },
    {
     "name": "stdout",
     "output_type": "stream",
     "text": [
      "invalid operator\n"
     ]
    },
    {
     "name": "stdin",
     "output_type": "stream",
     "text": [
      "enter first number: 45\n",
      "enter second number: 56\n",
      "enter choice of operator +\n"
     ]
    },
    {
     "name": "stdout",
     "output_type": "stream",
     "text": [
      "Result: 101.0\n"
     ]
    },
    {
     "name": "stdin",
     "output_type": "stream",
     "text": [
      "enter first number: 56\n",
      "enter second number: 67\n",
      "enter choice of operator op\n"
     ]
    },
    {
     "name": "stdout",
     "output_type": "stream",
     "text": [
      "invalid operator\n"
     ]
    },
    {
     "ename": "KeyboardInterrupt",
     "evalue": "Interrupted by user",
     "output_type": "error",
     "traceback": [
      "\u001b[1;31m---------------------------------------------------------------------------\u001b[0m",
      "\u001b[1;31mKeyboardInterrupt\u001b[0m                         Traceback (most recent call last)",
      "Cell \u001b[1;32mIn[2], line 2\u001b[0m\n\u001b[0;32m      1\u001b[0m \u001b[38;5;28;01mwhile\u001b[39;00m \u001b[38;5;28;01mTrue\u001b[39;00m:\n\u001b[1;32m----> 2\u001b[0m     num1\u001b[38;5;241m=\u001b[39m\u001b[38;5;28mfloat\u001b[39m(\u001b[38;5;28minput\u001b[39m(\u001b[38;5;124m\"\u001b[39m\u001b[38;5;124menter first number:\u001b[39m\u001b[38;5;124m\"\u001b[39m))\n\u001b[0;32m      3\u001b[0m     num2\u001b[38;5;241m=\u001b[39m\u001b[38;5;28mfloat\u001b[39m(\u001b[38;5;28minput\u001b[39m(\u001b[38;5;124m\"\u001b[39m\u001b[38;5;124menter second number:\u001b[39m\u001b[38;5;124m\"\u001b[39m))\n\u001b[0;32m      4\u001b[0m     operator\u001b[38;5;241m=\u001b[39m(\u001b[38;5;28minput\u001b[39m(\u001b[38;5;124m\"\u001b[39m\u001b[38;5;124menter choice of operator\u001b[39m\u001b[38;5;124m\"\u001b[39m))\n",
      "File \u001b[1;32m~\\anaconda3\\Lib\\site-packages\\ipykernel\\kernelbase.py:1282\u001b[0m, in \u001b[0;36mKernel.raw_input\u001b[1;34m(self, prompt)\u001b[0m\n\u001b[0;32m   1280\u001b[0m     msg \u001b[38;5;241m=\u001b[39m \u001b[38;5;124m\"\u001b[39m\u001b[38;5;124mraw_input was called, but this frontend does not support input requests.\u001b[39m\u001b[38;5;124m\"\u001b[39m\n\u001b[0;32m   1281\u001b[0m     \u001b[38;5;28;01mraise\u001b[39;00m StdinNotImplementedError(msg)\n\u001b[1;32m-> 1282\u001b[0m \u001b[38;5;28;01mreturn\u001b[39;00m \u001b[38;5;28mself\u001b[39m\u001b[38;5;241m.\u001b[39m_input_request(\n\u001b[0;32m   1283\u001b[0m     \u001b[38;5;28mstr\u001b[39m(prompt),\n\u001b[0;32m   1284\u001b[0m     \u001b[38;5;28mself\u001b[39m\u001b[38;5;241m.\u001b[39m_parent_ident[\u001b[38;5;124m\"\u001b[39m\u001b[38;5;124mshell\u001b[39m\u001b[38;5;124m\"\u001b[39m],\n\u001b[0;32m   1285\u001b[0m     \u001b[38;5;28mself\u001b[39m\u001b[38;5;241m.\u001b[39mget_parent(\u001b[38;5;124m\"\u001b[39m\u001b[38;5;124mshell\u001b[39m\u001b[38;5;124m\"\u001b[39m),\n\u001b[0;32m   1286\u001b[0m     password\u001b[38;5;241m=\u001b[39m\u001b[38;5;28;01mFalse\u001b[39;00m,\n\u001b[0;32m   1287\u001b[0m )\n",
      "File \u001b[1;32m~\\anaconda3\\Lib\\site-packages\\ipykernel\\kernelbase.py:1325\u001b[0m, in \u001b[0;36mKernel._input_request\u001b[1;34m(self, prompt, ident, parent, password)\u001b[0m\n\u001b[0;32m   1322\u001b[0m \u001b[38;5;28;01mexcept\u001b[39;00m \u001b[38;5;167;01mKeyboardInterrupt\u001b[39;00m:\n\u001b[0;32m   1323\u001b[0m     \u001b[38;5;66;03m# re-raise KeyboardInterrupt, to truncate traceback\u001b[39;00m\n\u001b[0;32m   1324\u001b[0m     msg \u001b[38;5;241m=\u001b[39m \u001b[38;5;124m\"\u001b[39m\u001b[38;5;124mInterrupted by user\u001b[39m\u001b[38;5;124m\"\u001b[39m\n\u001b[1;32m-> 1325\u001b[0m     \u001b[38;5;28;01mraise\u001b[39;00m \u001b[38;5;167;01mKeyboardInterrupt\u001b[39;00m(msg) \u001b[38;5;28;01mfrom\u001b[39;00m\u001b[38;5;250m \u001b[39m\u001b[38;5;28;01mNone\u001b[39;00m\n\u001b[0;32m   1326\u001b[0m \u001b[38;5;28;01mexcept\u001b[39;00m \u001b[38;5;167;01mException\u001b[39;00m:\n\u001b[0;32m   1327\u001b[0m     \u001b[38;5;28mself\u001b[39m\u001b[38;5;241m.\u001b[39mlog\u001b[38;5;241m.\u001b[39mwarning(\u001b[38;5;124m\"\u001b[39m\u001b[38;5;124mInvalid Message:\u001b[39m\u001b[38;5;124m\"\u001b[39m, exc_info\u001b[38;5;241m=\u001b[39m\u001b[38;5;28;01mTrue\u001b[39;00m)\n",
      "\u001b[1;31mKeyboardInterrupt\u001b[0m: Interrupted by user"
     ]
    }
   ],
   "source": [
    "\n",
    "while True:\n",
    "    num1=float(input(\"enter first number:\"))\n",
    "    num2=float(input(\"enter second number:\"))\n",
    "    operator=(input(\"enter choice of operator\"))\n",
    "              \n",
    "    if operator==\"+\":\n",
    "        result=num1+num2\n",
    "     \n",
    "    elif operator==\"-\":\n",
    "        result=num1-num2\n",
    "    \n",
    "    elif operator==\"*\":\n",
    "        result=num1*num2\n",
    "    \n",
    "    elif operator==\"/\":\n",
    "        result=num1/num2\n",
    "        \n",
    "    else:\n",
    "        print(\"invalid operator\")\n",
    "        continue\n",
    "        \n",
    "    print(\"Result:\",result) \n",
    "\n",
    "\n",
    "\n",
    "    \n",
    "    \n",
    "    \n",
    "\n",
    "    \n",
    "    \n",
    "    \n"
   ]
  },
  {
   "cell_type": "code",
   "execution_count": 4,
   "id": "de8559d4-85d1-4a62-a899-edec6aa00d92",
   "metadata": {},
   "outputs": [
    {
     "ename": "SyntaxError",
     "evalue": "invalid syntax (1028536206.py, line 20)",
     "output_type": "error",
     "traceback": [
      "\u001b[1;36m  Cell \u001b[1;32mIn[4], line 20\u001b[1;36m\u001b[0m\n\u001b[1;33m    continue:\u001b[0m\n\u001b[1;37m            ^\u001b[0m\n\u001b[1;31mSyntaxError\u001b[0m\u001b[1;31m:\u001b[0m invalid syntax\n"
     ]
    }
   ],
   "source": [
    "while True:\n",
    "    num1=float(input(\"enter first number:\"))\n",
    "    num2=float(input(\"enter second number:\"))\n",
    "    operator=(input(\"enter choice of operator\"))\n",
    "              \n",
    "    if operator==\"+\":\n",
    "        result=num1+num2\n",
    "     \n",
    "    elif operator==\"-\":\n",
    "        result=num1-num2\n",
    "    \n",
    "    elif operator==\"*\":\n",
    "        result=num1*num2\n",
    "    \n",
    "    elif operator==\"/\":\n",
    "        result=num1/num2\n",
    "        \n",
    "    else:\n",
    "        print(\"invalid operator\")\n",
    "    continue:    \n",
    "        \n",
    "    print(\"Result:\",result) \n",
    "\n",
    "\n",
    "\n",
    "    \n",
    "    \n",
    "    \n"
   ]
  },
  {
   "cell_type": "code",
   "execution_count": 8,
   "id": "e43b93f7-383c-4ef8-970f-6dd4b74609f8",
   "metadata": {},
   "outputs": [
    {
     "ename": "IndentationError",
     "evalue": "unexpected indent (1605951784.py, line 24)",
     "output_type": "error",
     "traceback": [
      "\u001b[1;36m  Cell \u001b[1;32mIn[8], line 24\u001b[1;36m\u001b[0m\n\u001b[1;33m    break:\u001b[0m\n\u001b[1;37m    ^\u001b[0m\n\u001b[1;31mIndentationError\u001b[0m\u001b[1;31m:\u001b[0m unexpected indent\n"
     ]
    }
   ],
   "source": [
    "while True:\n",
    "    num1=float(input(\"enter first number:\"))\n",
    "    num2=float(input(\"enter second number:\"))\n",
    "    operator=(input(\"enter choice of operator\"))\n",
    "              \n",
    "    if operator==\"+\":\n",
    "        result=num1+num2\n",
    "     \n",
    "    elif operator==\"-\":\n",
    "        result=num1-num2\n",
    "    \n",
    "    elif operator==\"*\":\n",
    "        result=num1*num2\n",
    "    \n",
    "    elif operator==\"/\":\n",
    "        result=num1/num2\n",
    "        \n",
    "    else:\n",
    "        print(\"invalid operator\")\n",
    "    continue\n",
    "        \n",
    "    print(\"Result:\",result) \n",
    "\n",
    "\n",
    "    \n",
    "    \n",
    "    \n",
    "\n"
   ]
  },
  {
   "cell_type": "code",
   "execution_count": 1,
   "id": "9d13a5d9-6cf3-41eb-bc1e-6307a0ad2413",
   "metadata": {},
   "outputs": [
    {
     "name": "stdout",
     "output_type": "stream",
     "text": [
      "* * * * * \n",
      "*       * \n",
      "*       * \n",
      "*       * \n",
      "* * * * * \n"
     ]
    }
   ],
   "source": [
    "for i in range (5):\n",
    "    for j in range(5):\n",
    "        if i==0 or i==4:\n",
    "            print(\"*\",end=\" \")\n",
    "        elif j==0 or j==4:\n",
    "            print(\"*\",end=\" \")\n",
    "        else:\n",
    "            print(\" \",end=\" \")\n",
    "    print()        "
   ]
  },
  {
   "cell_type": "code",
   "execution_count": null,
   "id": "61df5dce-b4dc-4985-98f9-bb49ee8a9c1f",
   "metadata": {},
   "outputs": [],
   "source": []
  }
 ],
 "metadata": {
  "kernelspec": {
   "display_name": "Python [conda env:base] *",
   "language": "python",
   "name": "conda-base-py"
  },
  "language_info": {
   "codemirror_mode": {
    "name": "ipython",
    "version": 3
   },
   "file_extension": ".py",
   "mimetype": "text/x-python",
   "name": "python",
   "nbconvert_exporter": "python",
   "pygments_lexer": "ipython3",
   "version": "3.13.5"
  }
 },
 "nbformat": 4,
 "nbformat_minor": 5
}
