{
 "cells": [
  {
   "cell_type": "markdown",
   "id": "c2879741-6fa9-4d3d-82a9-c1b5d0a81a1b",
   "metadata": {},
   "source": [
    "### chreccteristic of a set-"
   ]
  },
  {
   "cell_type": "markdown",
   "id": "50afd953-9db1-43bc-a8a9-f89d42c79ab6",
   "metadata": {},
   "source": [
    "## a set is bulit-in data structure in pythonwith the following three charecteestics.\n",
    "\n",
    "## 1)Unordered the items in the set are unordeerd,unlike lists,i.e,it will not maintain the orderd in which the items are insert,the item will e in a diffrent order each time when we acssec the set object.there will not be any index value assigned to each item in the set.\n",
    "\n",
    " ## 2)unchangeabe set item must be immutable.we cannot change the set items.but set as a whole is mutable.\n",
    "\n",
    "## 3) unique: there cannot be two with the same value in the set.\n",
    "## 4)itreble.\n",
    "\n"
   ]
  },
  {
   "cell_type": "markdown",
   "id": "d3e292ae-774f-4bf9-a3a4-88c88e46fbfc",
   "metadata": {},
   "source": [
    "## creating a set\n",
    "#### 1)there are following  two ways to create a set in python.\n",
    "#### 2)using curly bracets .the easits and straightforwords way of creating a set is buy is just enclosing all the data items insidethe curly breckets{}. the individual values are comma -sepreate.\n",
    "#### 3) using set{{} constructor .the set object is of type  class 'set'.so we can creat a set by celling the constructoer of class set."
   ]
  },
  {
   "cell_type": "code",
   "execution_count": 9,
   "id": "e6c1beea-a57d-489b-9972-04b443f1d3e5",
   "metadata": {},
   "outputs": [
    {
     "name": "stdout",
     "output_type": "stream",
     "text": [
      "{'e', 'l', 'a', 'p'}\n"
     ]
    }
   ],
   "source": [
    "set1=set(\"appppple\")\n",
    "print(set1)"
   ]
  },
  {
   "cell_type": "code",
   "execution_count": 10,
   "id": "66e99df9-81cc-46f8-9243-122302af0103",
   "metadata": {},
   "outputs": [
    {
     "ename": "SyntaxError",
     "evalue": "invalid syntax (914394608.py, line 1)",
     "output_type": "error",
     "traceback": [
      "\u001b[1;36m  Cell \u001b[1;32mIn[10], line 1\u001b[1;36m\u001b[0m\n\u001b[1;33m    sample_set {\"Roopali\",\"vidushi\",25,45.56,[4,5,6]}#LIST IS UNHASABLE I.E IT IS MUTABLE\u001b[0m\n\u001b[1;37m               ^\u001b[0m\n\u001b[1;31mSyntaxError\u001b[0m\u001b[1;31m:\u001b[0m invalid syntax\n"
     ]
    }
   ],
   "source": [
    "sample_set {\"Roopali\",\"vidushi\",25,45.56,[4,5,6]}#LIST IS UNHASABLE I.E IT IS MUTABLE \n",
    "                                                 #SO IT IS CAN NOT BE THE ITEM OF THE SET\n",
    "\n",
    "print(sample_set)"
   ]
  },
  {
   "cell_type": "code",
   "execution_count": 12,
   "id": "48692a72-a6dc-4910-beb1-05c4d01f75bb",
   "metadata": {},
   "outputs": [
    {
     "ename": "TypeError",
     "evalue": "set expected at most 1 argument, got 2",
     "output_type": "error",
     "traceback": [
      "\u001b[1;31m---------------------------------------------------------------------------\u001b[0m",
      "\u001b[1;31mTypeError\u001b[0m                                 Traceback (most recent call last)",
      "Cell \u001b[1;32mIn[12], line 1\u001b[0m\n\u001b[1;32m----> 1\u001b[0m \u001b[38;5;28mset\u001b[39m\u001b[38;5;241m=\u001b[39m\u001b[38;5;28mset\u001b[39m(\u001b[38;5;241m3\u001b[39m,\u001b[38;5;241m4\u001b[39m)\n\u001b[0;32m      2\u001b[0m \u001b[38;5;28mprint\u001b[39m(set1)\n",
      "\u001b[1;31mTypeError\u001b[0m: set expected at most 1 argument, got 2"
     ]
    }
   ],
   "source": [
    "set=set(3,4)only one argument\n",
    "print(set1)"
   ]
  },
  {
   "cell_type": "code",
   "execution_count": 14,
   "id": "ac3f2616-27bf-4a5e-80fd-0558b0c35090",
   "metadata": {},
   "outputs": [
    {
     "ename": "TypeError",
     "evalue": "'int' object is not iterable",
     "output_type": "error",
     "traceback": [
      "\u001b[1;31m---------------------------------------------------------------------------\u001b[0m",
      "\u001b[1;31mTypeError\u001b[0m                                 Traceback (most recent call last)",
      "Cell \u001b[1;32mIn[14], line 1\u001b[0m\n\u001b[1;32m----> 1\u001b[0m set2\u001b[38;5;241m=\u001b[39m\u001b[38;5;28mset\u001b[39m(\u001b[38;5;241m3\u001b[39m)\n\u001b[0;32m      2\u001b[0m \u001b[38;5;28mprint\u001b[39m(set2)\n",
      "\u001b[1;31mTypeError\u001b[0m: 'int' object is not iterable"
     ]
    }
   ],
   "source": [
    "set2=set(3)#set constructor must have itrable (l,s,d str,)data types.\n",
    "print(set2)"
   ]
  },
  {
   "cell_type": "code",
   "execution_count": 15,
   "id": "49e411a8-d6c4-42ec-9af4-37de94f26a17",
   "metadata": {},
   "outputs": [
    {
     "name": "stdout",
     "output_type": "stream",
     "text": [
      "[]\n"
     ]
    }
   ],
   "source": [
    "set=set([])#empty list become empty set.\n",
    "print([])"
   ]
  },
  {
   "cell_type": "code",
   "execution_count": 16,
   "id": "6bfbdfac-76c3-4403-b7d8-4b3db41765b2",
   "metadata": {},
   "outputs": [],
   "source": [
    "## if there is no element inside are curly braket then this types data will be dictionary."
   ]
  },
  {
   "cell_type": "code",
   "execution_count": 18,
   "id": "270a09b0-7ce1-4d1b-87e7-26b6f968f283",
   "metadata": {},
   "outputs": [
    {
     "data": {
      "text/plain": [
       "dict"
      ]
     },
     "execution_count": 18,
     "metadata": {},
     "output_type": "execute_result"
    }
   ],
   "source": [
    "set1={}\n",
    "type(set1)"
   ]
  },
  {
   "cell_type": "code",
   "execution_count": 20,
   "id": "8c45bc3d-a9fe-465a-b140-31e6d43c9055",
   "metadata": {},
   "outputs": [
    {
     "data": {
      "text/plain": [
       "int"
      ]
     },
     "execution_count": 20,
     "metadata": {},
     "output_type": "execute_result"
    }
   ],
   "source": [
    "set=(4)# typle without coma intiger\n",
    "type(set)"
   ]
  },
  {
   "cell_type": "code",
   "execution_count": 21,
   "id": "3972ed18-83bc-4872-895d-48aa167edbc6",
   "metadata": {},
   "outputs": [
    {
     "data": {
      "text/plain": [
       "tuple"
      ]
     },
     "execution_count": 21,
     "metadata": {},
     "output_type": "execute_result"
    }
   ],
   "source": [
    "set=(4,)\n",
    "type(set)"
   ]
  },
  {
   "cell_type": "code",
   "execution_count": 23,
   "id": "92d1e93e-b654-43ec-a20a-1ef3751ac971",
   "metadata": {},
   "outputs": [
    {
     "ename": "TypeError",
     "evalue": "'tuple' object is not callable",
     "output_type": "error",
     "traceback": [
      "\u001b[1;31m---------------------------------------------------------------------------\u001b[0m",
      "\u001b[1;31mTypeError\u001b[0m                                 Traceback (most recent call last)",
      "Cell \u001b[1;32mIn[23], line 1\u001b[0m\n\u001b[1;32m----> 1\u001b[0m \u001b[38;5;28mset\u001b[39m\u001b[38;5;241m=\u001b[39m\u001b[38;5;28mset\u001b[39m((\u001b[38;5;241m4\u001b[39m))\n\u001b[0;32m      2\u001b[0m \u001b[38;5;28mtype\u001b[39m((\u001b[38;5;28mset\u001b[39m))\n",
      "\u001b[1;31mTypeError\u001b[0m: 'tuple' object is not callable"
     ]
    }
   ],
   "source": [
    "set=set((4))\n",
    "type((set))"
   ]
  },
  {
   "cell_type": "code",
   "execution_count": 25,
   "id": "70f3a0a1-18d9-4f37-81cb-0230e2b0002a",
   "metadata": {},
   "outputs": [
    {
     "ename": "TypeError",
     "evalue": "'tuple' object is not callable",
     "output_type": "error",
     "traceback": [
      "\u001b[1;31m---------------------------------------------------------------------------\u001b[0m",
      "\u001b[1;31mTypeError\u001b[0m                                 Traceback (most recent call last)",
      "Cell \u001b[1;32mIn[25], line 1\u001b[0m\n\u001b[1;32m----> 1\u001b[0m \u001b[38;5;28mset\u001b[39m\u001b[38;5;241m=\u001b[39m\u001b[38;5;28mset\u001b[39m((\u001b[38;5;241m4\u001b[39m,))\n\u001b[0;32m      2\u001b[0m \u001b[38;5;28mtype\u001b[39m((\u001b[38;5;241m4\u001b[39m,))\n",
      "\u001b[1;31mTypeError\u001b[0m: 'tuple' object is not callable"
     ]
    }
   ],
   "source": [
    "set=set((4,))\n",
    "type((4,))"
   ]
  },
  {
   "cell_type": "code",
   "execution_count": 28,
   "id": "aabb7730-8a9a-422b-b991-accc90e975e1",
   "metadata": {},
   "outputs": [
    {
     "ename": "TypeError",
     "evalue": "'tuple' object is not callable",
     "output_type": "error",
     "traceback": [
      "\u001b[1;31m---------------------------------------------------------------------------\u001b[0m",
      "\u001b[1;31mTypeError\u001b[0m                                 Traceback (most recent call last)",
      "Cell \u001b[1;32mIn[28], line 1\u001b[0m\n\u001b[1;32m----> 1\u001b[0m set4\u001b[38;5;241m=\u001b[39m\u001b[38;5;28mset\u001b[39m(())\u001b[38;5;66;03m#empty set\u001b[39;00m\n\u001b[0;32m      2\u001b[0m \u001b[38;5;28mtype\u001b[39m(\u001b[38;5;28mset\u001b[39m)\n",
      "\u001b[1;31mTypeError\u001b[0m: 'tuple' object is not callable"
     ]
    }
   ],
   "source": [
    "set4=set(())#empty set\n",
    "type(set)"
   ]
  },
  {
   "cell_type": "code",
   "execution_count": null,
   "id": "5b456bcc-70a9-4313-905d-bc1c2aa55b9d",
   "metadata": {},
   "outputs": [],
   "source": []
  }
 ],
 "metadata": {
  "kernelspec": {
   "display_name": "Python [conda env:base] *",
   "language": "python",
   "name": "conda-base-py"
  },
  "language_info": {
   "codemirror_mode": {
    "name": "ipython",
    "version": 3
   },
   "file_extension": ".py",
   "mimetype": "text/x-python",
   "name": "python",
   "nbconvert_exporter": "python",
   "pygments_lexer": "ipython3",
   "version": "3.13.5"
  }
 },
 "nbformat": 4,
 "nbformat_minor": 5
}
