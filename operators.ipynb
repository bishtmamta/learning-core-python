{
 "cells": [
  {
   "cell_type": "markdown",
   "id": "8ff9c5af-7669-46e6-b9d6-d4ae4c95146d",
   "metadata": {
    "jp-MarkdownHeadingCollapsed": true
   },
   "source": [
    " ### Operators are symbols which are used to a perform aspecfic operation between values."
   ]
  },
  {
   "cell_type": "markdown",
   "id": "3a30af7e-22af-4854-955e-c5305d520779",
   "metadata": {},
   "source": [
    "1. Arthmetic Operators\n",
    "2. Comparison Operators\n",
    "3. Assignment Operators\n",
    "4. Logical Operators\n",
    "5. Bitwise Operators\n",
    "6. Membership Operators\n",
    "7. Identity Operators"
   ]
  },
  {
   "cell_type": "code",
   "execution_count": 1,
   "id": "c05eb293-d374-481d-948d-1703580dde29",
   "metadata": {},
   "outputs": [],
   "source": [
    "# Arthemetic Operators: + - * / // ** %"
   ]
  },
  {
   "cell_type": "code",
   "execution_count": 2,
   "id": "dd9780d7-1ad2-4749-b771-9f5e2fb2c43e",
   "metadata": {},
   "outputs": [
    {
     "name": "stdout",
     "output_type": "stream",
     "text": [
      "2.5\n",
      "2\n"
     ]
    }
   ],
   "source": [
    "# Floor division(//)\n",
    "\n",
    "print(5/2)\n",
    "print(5//2)"
   ]
  },
  {
   "cell_type": "code",
   "execution_count": 3,
   "id": "383a203e-9273-4a10-908a-49810c92b95c",
   "metadata": {},
   "outputs": [
    {
     "name": "stdout",
     "output_type": "stream",
     "text": [
      "1.5\n",
      "1\n"
     ]
    }
   ],
   "source": [
    "print(3/2)\n",
    "print(3//2)"
   ]
  },
  {
   "cell_type": "code",
   "execution_count": 4,
   "id": "11726eef-e642-4074-8119-774ae0bfc98d",
   "metadata": {},
   "outputs": [
    {
     "name": "stdout",
     "output_type": "stream",
     "text": [
      "3.3333333333333335\n",
      "3\n"
     ]
    }
   ],
   "source": [
    "print(10/3)\n",
    "print(10//3)"
   ]
  },
  {
   "cell_type": "code",
   "execution_count": 5,
   "id": "7a4e9098-7776-4b92-82c6-923b20f580a9",
   "metadata": {},
   "outputs": [
    {
     "name": "stdout",
     "output_type": "stream",
     "text": [
      "-1.5\n",
      "-2\n"
     ]
    }
   ],
   "source": [
    "print(-3/2)\n",
    "print(-3//2)"
   ]
  },
  {
   "cell_type": "code",
   "execution_count": 7,
   "id": "29546562-bcc5-4f63-b7f6-14b9411d6d21",
   "metadata": {},
   "outputs": [
    {
     "name": "stdout",
     "output_type": "stream",
     "text": [
      "-2.5\n",
      "-3\n"
     ]
    }
   ],
   "source": [
    "print(-5/2)\n",
    "print(-5//2)"
   ]
  },
  {
   "cell_type": "code",
   "execution_count": 8,
   "id": "22fb2c23-0ac2-4316-9ff7-bb86bd06d999",
   "metadata": {},
   "outputs": [
    {
     "name": "stdout",
     "output_type": "stream",
     "text": [
      "-3.3333333333333335\n",
      "-4\n"
     ]
    }
   ],
   "source": [
    "print(-10/3)\n",
    "print(-10//3)"
   ]
  },
  {
   "cell_type": "code",
   "execution_count": 9,
   "id": "574d1fb2-9d6e-4796-b3d9-56f2c6d18cd3",
   "metadata": {},
   "outputs": [
    {
     "name": "stdout",
     "output_type": "stream",
     "text": [
      "4\n",
      "27\n",
      "256\n",
      "125\n",
      "625\n"
     ]
    }
   ],
   "source": [
    "# Expoentiation(**)\n",
    "\n",
    "print(2**2)\n",
    "print(3**3)\n",
    "print(4**4)\n",
    "print(5**3)\n",
    "print(5**3*5)"
   ]
  },
  {
   "cell_type": "code",
   "execution_count": 1,
   "id": "69fc73e4-ab73-4cf8-9260-508eeddad1fa",
   "metadata": {},
   "outputs": [
    {
     "name": "stdout",
     "output_type": "stream",
     "text": [
      "1\n",
      "0\n",
      "1\n",
      "2\n",
      "-1\n"
     ]
    }
   ],
   "source": [
    "# ModuloOperation(%) - Givesb remainder\n",
    "\n",
    "print(5%2)\n",
    "print(3%3)\n",
    "print(7%2)\n",
    "print(20%3)\n",
    "print(20%(-3))"
   ]
  },
  {
   "cell_type": "code",
   "execution_count": 2,
   "id": "2ef778c2-1f85-4f64-b679-6115787721bb",
   "metadata": {},
   "outputs": [
    {
     "name": "stdout",
     "output_type": "stream",
     "text": [
      "1\n"
     ]
    }
   ],
   "source": [
    "x = 5\n",
    "y = 2\n",
    "print(x%y)"
   ]
  },
  {
   "cell_type": "code",
   "execution_count": 3,
   "id": "cda1a673-6b9d-41bf-ba71-6b8d60a357af",
   "metadata": {},
   "outputs": [],
   "source": [
    "# Comparison Operators == != > < >= <=\n",
    "# Comparition Operators allow to compare values.they gives result as either True or False"
   ]
  },
  {
   "cell_type": "code",
   "execution_count": 4,
   "id": "62e5ba22-a00e-44ae-a274-67752368e606",
   "metadata": {},
   "outputs": [
    {
     "name": "stdout",
     "output_type": "stream",
     "text": [
      "False\n",
      "True\n",
      "True\n",
      "False\n",
      "True\n",
      "False\n"
     ]
    }
   ],
   "source": [
    "x = 70\n",
    "y = 10\n",
    "\n",
    "print(x==y) # False , it will check that the value of x and y are same.\n",
    "print(x!=y) # True , it will check that the value of x and y is not equal.\n",
    "print(x>y) # True , it will chack the value of x is grater than y.\n",
    "print(x<y) # False , it will check the value of x less than y.\n",
    "print(x>=y) # x==y or x>y 78==10 or 78>10 True\n",
    "print(x<=y) # x==y or x<y 78==10 or 78<10"
   ]
  },
  {
   "cell_type": "code",
   "execution_count": 5,
   "id": "67cd2fd6-45d8-442d-b418-b082eeecd4cb",
   "metadata": {},
   "outputs": [
    {
     "name": "stdout",
     "output_type": "stream",
     "text": [
      "False\n",
      "False\n",
      "False\n",
      "True\n"
     ]
    }
   ],
   "source": [
    "x= 45\n",
    "y= 67\n",
    "z= 45\n",
    "print(x==y==z)\n",
    "print(x!=y==z)\n",
    "print(x==y!=z)\n",
    "x =45\n",
    "y =45\n",
    "z =45\n",
    "print(x==y==z)"
   ]
  },
  {
   "cell_type": "code",
   "execution_count": 2,
   "id": "bc1c213c-e81a-4fad-91d6-f0173b50ba61",
   "metadata": {},
   "outputs": [
    {
     "name": "stdout",
     "output_type": "stream",
     "text": [
      "80\n",
      "112\n"
     ]
    }
   ],
   "source": [
    "# unicode value\n",
    "a= \"P\"\n",
    "b= \"p\"\n",
    "print(ord(a))\n",
    "print(ord(b))"
   ]
  },
  {
   "cell_type": "code",
   "execution_count": 3,
   "id": "89c0f387-58e0-48d1-a6d6-c22276f3b7b2",
   "metadata": {},
   "outputs": [
    {
     "name": "stdout",
     "output_type": "stream",
     "text": [
      "True\n"
     ]
    }
   ],
   "source": [
    "print(a<b)"
   ]
  },
  {
   "cell_type": "code",
   "execution_count": 5,
   "id": "ee97a56a-240a-4f16-b2c3-75c3722b5b80",
   "metadata": {},
   "outputs": [
    {
     "name": "stdout",
     "output_type": "stream",
     "text": [
      "112\n",
      "100\n"
     ]
    }
   ],
   "source": [
    "x = \"python\"\n",
    "y= \"data\"\n",
    "print(ord(\"p\"))\n",
    "print(ord(\"d\"))"
   ]
  },
  {
   "cell_type": "code",
   "execution_count": 6,
   "id": "0a7aa650-34f0-49a2-98b2-b0b7af0e00a5",
   "metadata": {},
   "outputs": [
    {
     "name": "stdout",
     "output_type": "stream",
     "text": [
      "True\n"
     ]
    }
   ],
   "source": [
    "print(x>y)"
   ]
  },
  {
   "cell_type": "code",
   "execution_count": 9,
   "id": "19ccad42-7f00-473e-81d0-bddcd85fa9a6",
   "metadata": {},
   "outputs": [
    {
     "name": "stdout",
     "output_type": "stream",
     "text": [
      "121\n",
      "97\n"
     ]
    }
   ],
   "source": [
    "x= \"python\"\n",
    "y=\"pata\"\n",
    "print(ord(\"y\"))\n",
    "print(ord(\"a\"))"
   ]
  },
  {
   "cell_type": "code",
   "execution_count": 10,
   "id": "b58de91f-e3d6-4bed-bb11-260a345d3437",
   "metadata": {},
   "outputs": [
    {
     "name": "stdout",
     "output_type": "stream",
     "text": [
      "True\n"
     ]
    }
   ],
   "source": [
    "print(x>y)"
   ]
  },
  {
   "cell_type": "code",
   "execution_count": 11,
   "id": "641fad4c-b2fe-4672-88a8-e0993f9e33e9",
   "metadata": {},
   "outputs": [
    {
     "name": "stdout",
     "output_type": "stream",
     "text": [
      "True\n"
     ]
    }
   ],
   "source": [
    "#Logical Operators  and  or  not\n",
    "#it is used to combine conditional statement\n",
    "x= 13\n",
    "y= 14 \n",
    "z= 15\n",
    "print(x<y or y!=z)"
   ]
  },
  {
   "cell_type": "code",
   "execution_count": 22,
   "id": "9da06d09-e843-4742-b922-94924c57f0b2",
   "metadata": {},
   "outputs": [
    {
     "name": "stdout",
     "output_type": "stream",
     "text": [
      "False\n",
      "True\n",
      "True\n"
     ]
    }
   ],
   "source": [
    "x=18\n",
    "y=14\n",
    "z=12\n",
    "print(x<y)\n",
    "print(y!=z)\n",
    "print(x<y or y!=z) #this is true or false"
   ]
  },
  {
   "cell_type": "code",
   "execution_count": 17,
   "id": "6f9ce9c4-a109-44d6-913c-31b2e5b280a8",
   "metadata": {},
   "outputs": [
    {
     "name": "stdout",
     "output_type": "stream",
     "text": [
      "False\n",
      "False\n",
      "False\n"
     ]
    }
   ],
   "source": [
    "x=18\n",
    "y=14\n",
    "z=14\n",
    "print(x<y)\n",
    "print(y!=z)\n",
    "print(x<y or y!=z) # false or false"
   ]
  },
  {
   "cell_type": "code",
   "execution_count": 18,
   "id": "a3314625-7cd2-43ba-8731-c9fbe9934150",
   "metadata": {},
   "outputs": [
    {
     "name": "stdout",
     "output_type": "stream",
     "text": [
      "False\n",
      "True\n"
     ]
    }
   ],
   "source": [
    "a = 57\n",
    "b= 26.5\n",
    "print(a<b or a==b)# this is same as a<=b\n",
    "print(a>b or a==b)# this is same as a>=b"
   ]
  },
  {
   "cell_type": "code",
   "execution_count": 9,
   "id": "2d52fde2-8315-4796-b258-d20ff287dd27",
   "metadata": {},
   "outputs": [
    {
     "name": "stdout",
     "output_type": "stream",
     "text": [
      "140719624598792\n",
      "140719624598792\n",
      "True\n",
      "False\n",
      "False\n"
     ]
    }
   ],
   "source": [
    " #identify operators is   is not\n",
    "# check wether two variable share the same memory location or not\n",
    "x=12\n",
    "y=12\n",
    "print(id(x))\n",
    "print(id(y))\n",
    "print(x is y)\n",
    "print(x is not y)\n",
    "print(a==b)"
   ]
  },
  {
   "cell_type": "code",
   "execution_count": 8,
   "id": "b55e512d-9a4d-40da-9bfb-68d9e4f99e7a",
   "metadata": {},
   "outputs": [
    {
     "name": "stdout",
     "output_type": "stream",
     "text": [
      "140719624598792\n",
      "140719624598824\n",
      "False\n",
      "False\n"
     ]
    }
   ],
   "source": [
    "a= 12\n",
    "b=13\n",
    "print(id(a))\n",
    "print(id(b))\n",
    "print(a is b)\n",
    "print(a==b)"
   ]
  },
  {
   "cell_type": "code",
   "execution_count": 7,
   "id": "38830750-78a4-40e4-b218-5e3e7f38407b",
   "metadata": {},
   "outputs": [
    {
     "name": "stdout",
     "output_type": "stream",
     "text": [
      "2577489119552\n",
      "2577489126656\n",
      "False\n",
      "True\n"
     ]
    }
   ],
   "source": [
    " a=[12] # list\n",
    "b=[12]\n",
    "print(id(a))\n",
    "print(id(b))\n",
    "\n",
    "print(a is b)#memory check\n",
    "print(a==b)#value check\n"
   ]
  },
  {
   "cell_type": "code",
   "execution_count": 10,
   "id": "e0a1076f-bc21-4311-98c5-f564bf99d9d0",
   "metadata": {},
   "outputs": [
    {
     "data": {
      "text/plain": [
       "True"
      ]
     },
     "execution_count": 10,
     "metadata": {},
     "output_type": "execute_result"
    }
   ],
   "source": [
    "# Membership operators  in  not in\n",
    "# Membership operator check wether a value is a sequens of values \n",
    "# sequens - strings, lists, tuples, sets, dictionaries\n",
    "a= \"data types\"\n",
    "b=\"data\"\n",
    "b in a"
   ]
  },
  {
   "cell_type": "code",
   "execution_count": 11,
   "id": "0e9bdc83-6c44-4b66-9815-f9ed97cceb79",
   "metadata": {},
   "outputs": [
    {
     "data": {
      "text/plain": [
       "False"
      ]
     },
     "execution_count": 11,
     "metadata": {},
     "output_type": "execute_result"
    }
   ],
   "source": [
    "b not in a"
   ]
  },
  {
   "cell_type": "code",
   "execution_count": 13,
   "id": "5abf5615-72f4-4709-a96a-f61863185689",
   "metadata": {},
   "outputs": [
    {
     "data": {
      "text/plain": [
       "True"
      ]
     },
     "execution_count": 13,
     "metadata": {},
     "output_type": "execute_result"
    }
   ],
   "source": [
    "a= \"data scince\"\n",
    "b= \"data\"\n",
    "b in a"
   ]
  },
  {
   "cell_type": "code",
   "execution_count": 14,
   "id": "27d26a2a-48f1-4dd6-a150-8239e1f915e4",
   "metadata": {},
   "outputs": [
    {
     "data": {
      "text/plain": [
       "True"
      ]
     },
     "execution_count": 14,
     "metadata": {},
     "output_type": "execute_result"
    }
   ],
   "source": [
    "a=\"data scince\"\n",
    "b=\"scince\"\n",
    "b in a"
   ]
  },
  {
   "cell_type": "code",
   "execution_count": 19,
   "id": "3df48ac4-c69f-420d-b62c-eca11e192d01",
   "metadata": {},
   "outputs": [
    {
     "name": "stdout",
     "output_type": "stream",
     "text": [
      "True\n",
      "True\n",
      "True\n",
      "False\n"
     ]
    }
   ],
   "source": [
    "a= \"data scince\"\n",
    "print(\"ta\"in a)\n",
    "print(\"sc\"in a)\n",
    "print(\"ata\" in a)\n",
    "print(\"ata  \"in a)      "
   ]
  },
  {
   "cell_type": "code",
   "execution_count": 16,
   "id": "5a2a3a5b-220f-41f4-b792-3ca6e93c96ce",
   "metadata": {},
   "outputs": [
    {
     "name": "stdout",
     "output_type": "stream",
     "text": [
      "True\n",
      "True\n",
      "False\n"
     ]
    }
   ],
   "source": [
    "a= \"message\"\n",
    "print(\"es\"in a)\n",
    "print(\"age\"in a)\n",
    "print(\"ge \"in a)"
   ]
  },
  {
   "cell_type": "code",
   "execution_count": 20,
   "id": "659c5f3b-c91d-4297-94c9-e52f04778469",
   "metadata": {},
   "outputs": [
    {
     "name": "stdout",
     "output_type": "stream",
     "text": [
      "True\n"
     ]
    }
   ],
   "source": [
    "a=\"data scince\"\n",
    "print(a in \"data scince\")"
   ]
  },
  {
   "cell_type": "code",
   "execution_count": 22,
   "id": "274ba6ed-151b-4828-8e4f-9bcb69370c1b",
   "metadata": {},
   "outputs": [
    {
     "name": "stdout",
     "output_type": "stream",
     "text": [
      "False\n",
      "True\n"
     ]
    }
   ],
   "source": [
    "print(\"data\"not in a)\n",
    "print(a not in \"data\")"
   ]
  },
  {
   "cell_type": "code",
   "execution_count": 23,
   "id": "0ed5d874-f36b-4e91-8aa5-b6c0c2b4df1a",
   "metadata": {},
   "outputs": [
    {
     "name": "stdout",
     "output_type": "stream",
     "text": [
      "False\n",
      "True\n",
      "False\n"
     ]
    }
   ],
   "source": [
    " a=\"jupyter notebook\"\n",
    "print(\"jupytrer\" in a)\n",
    "print(\"notebook\"in a)\n",
    "print(a in \"notebook\")"
   ]
  },
  {
   "cell_type": "code",
   "execution_count": null,
   "id": "4feefc6e-4233-4056-9189-16d6cd3ef037",
   "metadata": {},
   "outputs": [],
   "source": [
    "# bitwise operators $ | ^  << >>\n",
    "# &- bitwise AND\n",
    "#|- bitwise OR\n",
    "#^-bitwise XOR \n",
    "#~- bitwise NOT\n",
    "#<< - left shift\n",
    "#>>- right shift"
   ]
  },
  {
   "cell_type": "code",
   "execution_count": 1,
   "id": "b4e7b6e6-9e12-4976-bcd1-01a6cf7fdfaa",
   "metadata": {},
   "outputs": [
    {
     "name": "stdout",
     "output_type": "stream",
     "text": [
      "8\n"
     ]
    }
   ],
   "source": [
    "#Assigment operators = += -= *= /= //= **= %= |= &= ^= >>= ~= >>=\n",
    "# assigment operators assingn values to variable\n",
    "\n",
    "x=8\n",
    "print(x)"
   ]
  },
  {
   "cell_type": "code",
   "execution_count": 2,
   "id": "b2975fc9-dd9a-4c6d-88b8-2e4f4f056422",
   "metadata": {},
   "outputs": [
    {
     "name": "stdout",
     "output_type": "stream",
     "text": [
      "17\n"
     ]
    }
   ],
   "source": [
    "x+=9 #x = x+9\n",
    "print(x)"
   ]
  },
  {
   "cell_type": "code",
   "execution_count": 3,
   "id": "223d0f5c-dc27-4e2c-82da-47bbf37eb11c",
   "metadata": {},
   "outputs": [
    {
     "name": "stdout",
     "output_type": "stream",
     "text": [
      "8\n"
     ]
    }
   ],
   "source": [
    "x-= 9\n",
    "print(x)"
   ]
  },
  {
   "cell_type": "code",
   "execution_count": 4,
   "id": "dec402b9-e06f-4b17-b9c3-7b0b6b9c8410",
   "metadata": {},
   "outputs": [
    {
     "name": "stdout",
     "output_type": "stream",
     "text": [
      "8\n"
     ]
    }
   ],
   "source": [
    "a= 10\n",
    "a-= 2\n",
    "print(a)"
   ]
  },
  {
   "cell_type": "code",
   "execution_count": 5,
   "id": "27f8883f-80d0-434c-9481-a10423ef0090",
   "metadata": {},
   "outputs": [
    {
     "name": "stdout",
     "output_type": "stream",
     "text": [
      "64\n"
     ]
    }
   ],
   "source": [
    "a= 16\n",
    "a*=4\n",
    "print(a)"
   ]
  },
  {
   "cell_type": "code",
   "execution_count": 7,
   "id": "0883d2ce-56f5-4a7a-8bb2-403c8a054b0d",
   "metadata": {},
   "outputs": [
    {
     "name": "stdout",
     "output_type": "stream",
     "text": [
      "256\n"
     ]
    }
   ],
   "source": [
    "a*=2\n",
    "print(a)"
   ]
  },
  {
   "cell_type": "code",
   "execution_count": null,
   "id": "23cbbff7-d28c-412f-83b6-badad960f126",
   "metadata": {},
   "outputs": [],
   "source": []
  },
  {
   "cell_type": "code",
   "execution_count": 24,
   "id": "1dd0e39d-b3f3-48ba-b7a8-aa3f7e99466d",
   "metadata": {},
   "outputs": [
    {
     "name": "stdout",
     "output_type": "stream",
     "text": [
      "True\n"
     ]
    }
   ],
   "source": [
    "# Even number checker\n",
    "num_1 = 4\n",
    "num_2 = 2\n",
    "print(num_1>=num_2)"
   ]
  },
  {
   "cell_type": "code",
   "execution_count": 1,
   "id": "ada6b7d2-4002-4040-b4e5-4e3bf5d11924",
   "metadata": {},
   "outputs": [
    {
     "ename": "SyntaxError",
     "evalue": "invalid syntax (1604598517.py, line 3)",
     "output_type": "error",
     "traceback": [
      "\u001b[1;36m  Cell \u001b[1;32mIn[1], line 3\u001b[1;36m\u001b[0m\n\u001b[1;33m    print (num_1%==num_2)\u001b[0m\n\u001b[1;37m                ^\u001b[0m\n\u001b[1;31mSyntaxError\u001b[0m\u001b[1;31m:\u001b[0m invalid syntax\n"
     ]
    }
   ],
   "source": [
    "num_1= 2\n",
    "num_2= 4\n",
    "print (num_1%==num_2)\n"
   ]
  },
  {
   "cell_type": "code",
   "execution_count": 2,
   "id": "c2b09db1-9e09-4c25-910c-8c117f5fa7c7",
   "metadata": {},
   "outputs": [
    {
     "ename": "SyntaxError",
     "evalue": "invalid syntax (1758347970.py, line 3)",
     "output_type": "error",
     "traceback": [
      "\u001b[1;36m  Cell \u001b[1;32mIn[2], line 3\u001b[1;36m\u001b[0m\n\u001b[1;33m    print(num%==num)\u001b[0m\n\u001b[1;37m             ^\u001b[0m\n\u001b[1;31mSyntaxError\u001b[0m\u001b[1;31m:\u001b[0m invalid syntax\n"
     ]
    }
   ],
   "source": [
    "num= 2\n",
    "num= 4\n",
    "print(num%==num)"
   ]
  },
  {
   "cell_type": "code",
   "execution_count": 3,
   "id": "f48bad88-6a94-4fde-a93f-7259a0fadeb8",
   "metadata": {},
   "outputs": [
    {
     "name": "stdout",
     "output_type": "stream",
     "text": [
      "0\n"
     ]
    }
   ],
   "source": [
    "num=2\n",
    "print(num%2)"
   ]
  },
  {
   "cell_type": "code",
   "execution_count": 4,
   "id": "721cf7fe-3903-4102-9d86-82c263048579",
   "metadata": {},
   "outputs": [
    {
     "name": "stdout",
     "output_type": "stream",
     "text": [
      "0\n"
     ]
    }
   ],
   "source": [
    "num=3\n",
    "print(num%3)"
   ]
  },
  {
   "cell_type": "code",
   "execution_count": 5,
   "id": "cb0558c7-35e5-4846-b9f3-12806a84fb61",
   "metadata": {},
   "outputs": [
    {
     "name": "stdout",
     "output_type": "stream",
     "text": [
      "0\n"
     ]
    }
   ],
   "source": [
    "num=1\n",
    "print(num%1)"
   ]
  },
  {
   "cell_type": "code",
   "execution_count": 6,
   "id": "6e0d6140-614e-4d2c-b107-92aee6cf2b50",
   "metadata": {},
   "outputs": [
    {
     "name": "stdout",
     "output_type": "stream",
     "text": [
      "0\n"
     ]
    }
   ],
   "source": [
    "num=9\n",
    "print(num%9)"
   ]
  },
  {
   "cell_type": "code",
   "execution_count": 11,
   "id": "53cc25c7-5f2f-4321-9b43-5c544425d4e2",
   "metadata": {},
   "outputs": [
    {
     "name": "stdout",
     "output_type": "stream",
     "text": [
      "True\n",
      "True\n",
      "True\n"
     ]
    }
   ],
   "source": [
    "num1=2\n",
    "num2=3\n",
    "num3=4\n",
    "print(num1%2==0)\n",
    "print(num2%3==0)\n",
    "print(num3%4==0)"
   ]
  },
  {
   "cell_type": "code",
   "execution_count": 10,
   "id": "8dc08e91-00fa-4a19-a1c6-35c2400f0ad8",
   "metadata": {},
   "outputs": [
    {
     "name": "stdout",
     "output_type": "stream",
     "text": [
      "True\n"
     ]
    }
   ],
   "source": [
    "num=2\n",
    "print(num%2==0)"
   ]
  },
  {
   "cell_type": "code",
   "execution_count": 16,
   "id": "93bdf639-d04a-4061-a619-891b5df1d84d",
   "metadata": {},
   "outputs": [
    {
     "name": "stdout",
     "output_type": "stream",
     "text": [
      "True\n"
     ]
    }
   ],
   "source": [
    "num=3\n",
    "print(num%3==0)"
   ]
  },
  {
   "cell_type": "code",
   "execution_count": 18,
   "id": "83d9f325-933a-4993-8aa1-a4a0b6306c9d",
   "metadata": {},
   "outputs": [
    {
     "name": "stdout",
     "output_type": "stream",
     "text": [
      "False\n"
     ]
    }
   ],
   "source": [
    "num=3\n",
    "print(num%3!=0)"
   ]
  },
  {
   "cell_type": "code",
   "execution_count": 19,
   "id": "2a42224f-e48c-4e38-b6c2-dc20ad943ace",
   "metadata": {},
   "outputs": [
    {
     "name": "stdout",
     "output_type": "stream",
     "text": [
      "False\n",
      "False\n",
      "False\n"
     ]
    }
   ],
   "source": [
    "num1=2\n",
    "num2=3\n",
    "num=4\n",
    "print(num1%2!=0)\n",
    "print(num2%3!=0)\n",
    "print(num3%4!=0)"
   ]
  },
  {
   "cell_type": "code",
   "execution_count": 32,
   "id": "1d808237-0467-4a1b-97b4-4a2a6d686ad3",
   "metadata": {},
   "outputs": [
    {
     "name": "stdout",
     "output_type": "stream",
     "text": [
      "True\n",
      "True\n",
      "True\n"
     ]
    }
   ],
   "source": [
    "num1=2\n",
    "num2=4\n",
    "num3=5\n",
    "print(num1%2==0)\n",
    "print(num2%4==0)\n",
    "print(num3%5==0)"
   ]
  },
  {
   "cell_type": "code",
   "execution_count": 2,
   "id": "9957e3d1-5933-4c4c-9f30-c3daa21514d6",
   "metadata": {},
   "outputs": [
    {
     "ename": "SyntaxError",
     "evalue": "unmatched ')' (2720715720.py, line 4)",
     "output_type": "error",
     "traceback": [
      "\u001b[1;36m  Cell \u001b[1;32mIn[2], line 4\u001b[1;36m\u001b[0m\n\u001b[1;33m    print()num_2%\"5\")\u001b[0m\n\u001b[1;37m                    ^\u001b[0m\n\u001b[1;31mSyntaxError\u001b[0m\u001b[1;31m:\u001b[0m unmatched ')'\n"
     ]
    }
   ],
   "source": [
    "num_1=2\n",
    "num_2=5\n",
    "print(num_1%\"2\")\n",
    "print()num_2%\"5\")"
   ]
  },
  {
   "cell_type": "code",
   "execution_count": 1,
   "id": "0474544f-5073-4f9f-84b6-7ecbdc0a8d93",
   "metadata": {},
   "outputs": [
    {
     "name": "stdout",
     "output_type": "stream",
     "text": [
      "True\n"
     ]
    }
   ],
   "source": [
    "#logical operators and or not\n",
    "# it is used to combine codinational statements.\n",
    "x=13\n",
    "y=14\n",
    "z=15\n",
    "print(x>y or y!=z)"
   ]
  },
  {
   "cell_type": "code",
   "execution_count": 2,
   "id": "020b1b13-2464-453a-b620-0dc1598b41b4",
   "metadata": {},
   "outputs": [
    {
     "ename": "NameError",
     "evalue": "name 'a' is not defined",
     "output_type": "error",
     "traceback": [
      "\u001b[1;31m---------------------------------------------------------------------------\u001b[0m",
      "\u001b[1;31mNameError\u001b[0m                                 Traceback (most recent call last)",
      "Cell \u001b[1;32mIn[2], line 1\u001b[0m\n\u001b[1;32m----> 1\u001b[0m \u001b[38;5;28mprint\u001b[39m(a\u001b[38;5;241m<\u001b[39mb)\n\u001b[0;32m      2\u001b[0m \u001b[38;5;28mprint\u001b[39m(b\u001b[38;5;241m!=\u001b[39mc)\n\u001b[0;32m      3\u001b[0m \u001b[38;5;28mprint\u001b[39m(c\u001b[38;5;241m>\u001b[39ma)\n",
      "\u001b[1;31mNameError\u001b[0m: name 'a' is not defined"
     ]
    }
   ],
   "source": [
    "print(a<b)\n",
    "print(b!=c)\n",
    "print(c>a)# false and true"
   ]
  },
  {
   "cell_type": "code",
   "execution_count": 1,
   "id": "63167220-5c5a-429e-b7b2-5f0877604b7f",
   "metadata": {},
   "outputs": [
    {
     "name": "stdout",
     "output_type": "stream",
     "text": [
      "False\n",
      "True\n"
     ]
    }
   ],
   "source": [
    "# not operator\n",
    "x=12\n",
    "print(x==20)\n",
    "print(not x==20)"
   ]
  },
  {
   "cell_type": "code",
   "execution_count": 3,
   "id": "c31cc0fb-083c-4333-b9f4-738d58c077a5",
   "metadata": {},
   "outputs": [
    {
     "name": "stdout",
     "output_type": "stream",
     "text": [
      "True\n",
      "False\n"
     ]
    }
   ],
   "source": [
    "x=20\n",
    "print(x==20)\n",
    "print(not x==20)"
   ]
  },
  {
   "cell_type": "code",
   "execution_count": 3,
   "id": "e77e509a-9370-4e77-ba9a-afc59c2e3dde",
   "metadata": {},
   "outputs": [
    {
     "name": "stdout",
     "output_type": "stream",
     "text": [
      "True\n",
      "True\n",
      "True\n"
     ]
    }
   ],
   "source": [
    "# and:all condition should be true\n",
    "x=13\n",
    "y=14\n",
    "z=15\n",
    "print(x<y)\n",
    "print(y!=z)\n",
    "print(x<y and y!=z) # true and false"
   ]
  },
  {
   "cell_type": "code",
   "execution_count": 4,
   "id": "34043e38-25dd-4b66-adbb-1ebd811f0570",
   "metadata": {},
   "outputs": [
    {
     "name": "stdout",
     "output_type": "stream",
     "text": [
      "False\n",
      "False\n",
      "False\n"
     ]
    }
   ],
   "source": [
    "# and\n",
    "x=20\n",
    "y=14\n",
    "z=14\n",
    "print(x<y)\n",
    "print(y!=z)\n",
    "print(x<y and y!=z) # false and false"
   ]
  },
  {
   "cell_type": "code",
   "execution_count": 5,
   "id": "c53c347a-9f12-497f-8f61-ef0bb79d272a",
   "metadata": {},
   "outputs": [
    {
     "name": "stdout",
     "output_type": "stream",
     "text": [
      "False\n",
      "True\n",
      "False\n"
     ]
    }
   ],
   "source": [
    "x=20\n",
    "y=14\n",
    "z=14\n",
    "print(x<y)\n",
    "print(x!=z)\n",
    "print(x<y and y!=z)# false and false gives false"
   ]
  },
  {
   "cell_type": "code",
   "execution_count": 6,
   "id": "2281dc2e-a867-4bbe-8f0e-0a15168abad9",
   "metadata": {},
   "outputs": [
    {
     "name": "stdout",
     "output_type": "stream",
     "text": [
      "False\n"
     ]
    }
   ],
   "source": [
    "# if its a weekday and the time is before 7:00 am, wake up.\"\n",
    "day = \"monday\"#current day\n",
    "time = 7#current day\n",
    "print(day==time)"
   ]
  },
  {
   "cell_type": "code",
   "execution_count": 2,
   "id": "71131e7d-0865-4e44-b290-a323fe9ceb13",
   "metadata": {},
   "outputs": [
    {
     "name": "stdout",
     "output_type": "stream",
     "text": [
      "True\n"
     ]
    }
   ],
   "source": [
    "day= \"Monday\"\n",
    "time= 6\n",
    "print(day!=\"Saturday\"and day!=\"sunday\"and time<7)\n",
    "print("
   ]
  },
  {
   "cell_type": "code",
   "execution_count": 7,
   "id": "fa9117e0-4938-4c5c-853e-6ab24ced27b0",
   "metadata": {},
   "outputs": [
    {
     "name": "stdout",
     "output_type": "stream",
     "text": [
      "True\n"
     ]
    }
   ],
   "source": [
    "day = \"tuesday\"\n",
    "time= 7\n",
    "print(day!=time)"
   ]
  },
  {
   "cell_type": "code",
   "execution_count": 8,
   "id": "2bfe31d0-1c7c-49b7-b959-5512983e62a0",
   "metadata": {},
   "outputs": [
    {
     "name": "stdout",
     "output_type": "stream",
     "text": [
      "False\n"
     ]
    }
   ],
   "source": [
    "day= \"sunday\"\n",
    "time=6\n",
    "print(day==time)"
   ]
  },
  {
   "cell_type": "code",
   "execution_count": 3,
   "id": "31a711d7-6951-4d28-832d-e7118137331e",
   "metadata": {},
   "outputs": [
    {
     "name": "stdout",
     "output_type": "stream",
     "text": [
      "False\n"
     ]
    }
   ],
   "source": [
    "# if you wake up and your uniform is clean , go take a shower and get dressed.\n",
    "wake_up = False\n",
    "unifrom =False\n",
    "print(wake_up and uniform)# true and true"
   ]
  },
  {
   "cell_type": "code",
   "execution_count": 4,
   "id": "72c659db-84bf-46bf-86ff-74ba0288bace",
   "metadata": {},
   "outputs": [
    {
     "name": "stdout",
     "output_type": "stream",
     "text": [
      "False\n"
     ]
    }
   ],
   "source": [
    "wake_up= \"yes\"\n",
    "uniform= \"not clean\"\n",
    "print(wake_up==\"yes\" and uniform==\"clean\")"
   ]
  },
  {
   "cell_type": "code",
   "execution_count": 5,
   "id": "a82446d6-c1c3-4404-9b7b-5c042625b445",
   "metadata": {},
   "outputs": [
    {
     "name": "stdout",
     "output_type": "stream",
     "text": [
      "True\n"
     ]
    }
   ],
   "source": [
    "wake_up= \"no\"\n",
    "uniform= \"clean\"\n",
    "print(wake_up==\"no\" and uniform==\"clean\")"
   ]
  },
  {
   "cell_type": "code",
   "execution_count": 6,
   "id": "0a1bd732-e17e-49f4-b7d1-8640d7b43638",
   "metadata": {},
   "outputs": [
    {
     "name": "stdout",
     "output_type": "stream",
     "text": [
      "True\n"
     ]
    }
   ],
   "source": [
    "# \"if its a weekday and homework is not done,panic!\"\n",
    "day = \"tuesday\"\n",
    "homework = True\n",
    "print(day!=\"sunday\" and day!=\"saturday\" and homework)"
   ]
  },
  {
   "cell_type": "code",
   "execution_count": 7,
   "id": "ebbf5d45-e19e-4ede-9a69-66bbd8dd4075",
   "metadata": {},
   "outputs": [
    {
     "name": "stdout",
     "output_type": "stream",
     "text": [
      "False\n"
     ]
    }
   ],
   "source": [
    "day=\"tuesday\"\n",
    "homework = \"not done\"\n",
    "print(day!=\"sunday\" and day!= \"saturday\" and homework==\"done\")"
   ]
  },
  {
   "cell_type": "code",
   "execution_count": 8,
   "id": "dc560c58-ae55-4d28-b75a-2b75f7af6547",
   "metadata": {},
   "outputs": [
    {
     "name": "stdout",
     "output_type": "stream",
     "text": [
      "False\n"
     ]
    }
   ],
   "source": [
    "# \"if is raining and you dont have an umbrella,stay home.\"\n",
    "raining=\"yes\"\n",
    "umbrella=\"no\"\n",
    "print(raining!=\"yes\" and umbrella==\"no\")"
   ]
  },
  {
   "cell_type": "code",
   "execution_count": 17,
   "id": "de5e024b-b2e4-45ea-9328-099b2696f1f5",
   "metadata": {},
   "outputs": [
    {
     "name": "stdout",
     "output_type": "stream",
     "text": [
      "False\n"
     ]
    }
   ],
   "source": [
    "#\"if today is Monday and you forgot your ID card, go back and get it.\"\n",
    "day= \"monday\"\n",
    "IDcard= \"True\"\n",
    "print(day!=\"monday\"and day!=\"saturday\" and IDcard==\"True\")"
   ]
  },
  {
   "cell_type": "code",
   "execution_count": 14,
   "id": "cad0eaba-d50b-4f00-9d8e-0a0e342bcf94",
   "metadata": {},
   "outputs": [
    {
     "name": "stdout",
     "output_type": "stream",
     "text": [
      "False\n"
     ]
    }
   ],
   "source": [
    "#\"if the bus has already arrived and you're not ready,take an auto.\"\n",
    "bus= \"yes\"\n",
    "ready= \"no\"\n",
    "print(bus!=\"yes\"and ready==\"no\")"
   ]
  },
  {
   "cell_type": "code",
   "execution_count": 15,
   "id": "86717ad5-9807-43b5-9a2c-8780a784b5c4",
   "metadata": {},
   "outputs": [
    {
     "name": "stdout",
     "output_type": "stream",
     "text": [
      "False\n"
     ]
    }
   ],
   "source": [
    "# \"if today is Sunday or a holiday,sleep again.\"\n",
    "day=\"sunday\"\n",
    "holiday=\"True\"\n",
    "print(day!=\"monday\" and day!=\"tuesday\" and holiday==\"true\")"
   ]
  },
  {
   "cell_type": "code",
   "execution_count": 19,
   "id": "d493681f-d028-45b1-9016-3218a05bd088",
   "metadata": {},
   "outputs": [
    {
     "name": "stdout",
     "output_type": "stream",
     "text": [
      "False\n"
     ]
    }
   ],
   "source": [
    "# \"if you're ready,have your id,and bus hasn'tarrived, wait at the gaate.\"\n",
    "ready=\"yes\"\n",
    "bus=\"noarrived\"\n",
    "print(ready!=\"yes\"and bus==\"noarrived\")"
   ]
  },
  {
   "cell_type": "code",
   "execution_count": null,
   "id": "c98f3ab1-dab9-4c6b-9c54-90fbd223d1c1",
   "metadata": {},
   "outputs": [],
   "source": [
    "#if it's raining,you missed the bus,and forget your ID- skip school today.\"\n",
    "raining=\"true\""
   ]
  },
  {
   "cell_type": "markdown",
   "id": "36588cce-6024-4df4-bca7-474aef64bba7",
   "metadata": {},
   "source": [
    "\n"
   ]
  },
  {
   "cell_type": "code",
   "execution_count": null,
   "id": "f374b0c5-d2dd-43aa-8b60-c77ba25fedd0",
   "metadata": {},
   "outputs": [],
   "source": []
  }
 ],
 "metadata": {
  "kernelspec": {
   "display_name": "Python [conda env:base] *",
   "language": "python",
   "name": "conda-base-py"
  },
  "language_info": {
   "codemirror_mode": {
    "name": "ipython",
    "version": 3
   },
   "file_extension": ".py",
   "mimetype": "text/x-python",
   "name": "python",
   "nbconvert_exporter": "python",
   "pygments_lexer": "ipython3",
   "version": "3.13.5"
  }
 },
 "nbformat": 4,
 "nbformat_minor": 5
}
